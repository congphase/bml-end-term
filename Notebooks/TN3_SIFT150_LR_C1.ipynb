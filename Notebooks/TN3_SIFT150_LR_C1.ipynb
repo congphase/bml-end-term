{
  "nbformat": 4,
  "nbformat_minor": 0,
  "metadata": {
    "colab": {
      "name": "TN3_SIFT150_LR_C1.ipynb",
      "provenance": [],
      "collapsed_sections": [],
      "toc_visible": true
    },
    "kernelspec": {
      "name": "python3",
      "display_name": "Python 3"
    }
  },
  "cells": [
    {
      "cell_type": "code",
      "metadata": {
        "id": "PL21Mz5-OeDg",
        "colab": {
          "base_uri": "https://localhost:8080/"
        },
        "outputId": "6fde8124-1c0e-4903-8d59-3a42b4ec2ee5"
      },
      "source": [
        "# Mount \"My Drive\" into /content/drive\r\n",
        "from google.colab import drive\r\n",
        "\r\n",
        "google_drive_dir = \"Final_project\"  # @param\r\n",
        "#bml-notebooks/\r\n",
        "drive.mount('/content/drive')\r\n",
        "\r\n",
        "mount_point = \"/content/drive/My Drive/{}\".format(google_drive_dir)\r\n",
        "\r\n",
        "# Change the root directory to your mount_point\r\n",
        "% cd '$mount_point'"
      ],
      "execution_count": null,
      "outputs": [
        {
          "output_type": "stream",
          "text": [
            "Drive already mounted at /content/drive; to attempt to forcibly remount, call drive.mount(\"/content/drive\", force_remount=True).\n",
            "/content/drive/.shortcut-targets-by-id/1uHceact8nZzLehIO7J8WmUhJnJWKOf8w/Final_project\n"
          ],
          "name": "stdout"
        }
      ]
    },
    {
      "cell_type": "markdown",
      "metadata": {
        "id": "qUCjqlGGYWG5"
      },
      "source": [
        "# Downgrade opencv"
      ]
    },
    {
      "cell_type": "code",
      "metadata": {
        "id": "q2O722__dAmL"
      },
      "source": [
        "import cv2\r\n",
        "if cv2.__version__[0] == '4':\r\n",
        "    !pip uninstall opencv-python -y\r\n",
        "    #downgrade OpenCV a bit since some none-free features are not avilable\r\n",
        "    !pip install opencv-contrib-python==3.4.2.17 --force-reinstall"
      ],
      "execution_count": null,
      "outputs": []
    },
    {
      "cell_type": "markdown",
      "metadata": {
        "papermill": {
          "duration": 0.044808,
          "end_time": "2020-12-18T22:02:11.416442",
          "exception": false,
          "start_time": "2020-12-18T22:02:11.371634",
          "status": "completed"
        },
        "tags": [],
        "id": "eI1PdIKtLrpv"
      },
      "source": [
        "# <span style=\"color: royalblue;\">Load Data</span>\n",
        "Load the image data with labels."
      ]
    },
    {
      "cell_type": "code",
      "metadata": {
        "id": "HM1rN5gqd5aG"
      },
      "source": [
        "from src.loadData import loadFer2013\r\n",
        "from keras.utils import to_categorical"
      ],
      "execution_count": null,
      "outputs": []
    },
    {
      "cell_type": "code",
      "metadata": {
        "id": "ct5pobN6eBgW",
        "colab": {
          "base_uri": "https://localhost:8080/"
        },
        "outputId": "b3408216-43b5-4779-8e77-c644eaac165a"
      },
      "source": [
        "X_train,X_val,X_test,y_train,y_val,y_test = loadFer2013('fer2013/icml_face_data.csv')\r\n",
        "\r\n",
        "y_train_onehot = to_categorical(y_train)\r\n",
        "y_val_onehot = to_categorical(y_val)\r\n",
        "y_test_onehot = to_categorical(y_test)"
      ],
      "execution_count": null,
      "outputs": [
        {
          "output_type": "stream",
          "text": [
            "/content/drive/.shortcut-targets-by-id/1uHceact8nZzLehIO7J8WmUhJnJWKOf8w/Final_project/src/loadData.py:23: SettingWithCopyWarning: \n",
            "A value is trying to be set on a copy of a slice from a DataFrame\n",
            "\n",
            "See the caveats in the documentation: https://pandas.pydata.org/pandas-docs/stable/user_guide/indexing.html#returning-a-view-versus-a-copy\n",
            "  data['emotion'][data['emotion']>1]-=1\n"
          ],
          "name": "stderr"
        }
      ]
    },
    {
      "cell_type": "code",
      "metadata": {
        "id": "1qZ7W3Pfh6-j",
        "colab": {
          "base_uri": "https://localhost:8080/"
        },
        "outputId": "fcc60896-b329-4a80-f640-952caf9f76be"
      },
      "source": [
        "y_train_onehot.shape, y_val_onehot.shape, y_test_onehot.shape"
      ],
      "execution_count": null,
      "outputs": [
        {
          "output_type": "execute_result",
          "data": {
            "text/plain": [
              "((28709, 6), (3589, 6), (3589, 6))"
            ]
          },
          "metadata": {
            "tags": []
          },
          "execution_count": 5
        }
      ]
    },
    {
      "cell_type": "code",
      "metadata": {
        "id": "jncS-WGXfb2j",
        "colab": {
          "base_uri": "https://localhost:8080/"
        },
        "outputId": "96fa8979-494e-4652-ddee-e325bccadc7e"
      },
      "source": [
        "X_train.shape, y_train.shape"
      ],
      "execution_count": null,
      "outputs": [
        {
          "output_type": "execute_result",
          "data": {
            "text/plain": [
              "((28709, 48, 48), (28709,))"
            ]
          },
          "metadata": {
            "tags": []
          },
          "execution_count": 6
        }
      ]
    },
    {
      "cell_type": "code",
      "metadata": {
        "id": "Nt9oKq3mo60M"
      },
      "source": [
        "emotions = {0: 'Angry', 1:'Fear', 2: 'Happy', 3: 'Sad', 4: 'Surprise', 5: 'Neutral'}"
      ],
      "execution_count": null,
      "outputs": []
    },
    {
      "cell_type": "code",
      "metadata": {
        "id": "sIHHtenVug_E",
        "colab": {
          "base_uri": "https://localhost:8080/"
        },
        "outputId": "9158b59e-6d24-4711-9f43-65255db621ee"
      },
      "source": [
        "class_names = list(emotions.values())\r\n",
        "class_names"
      ],
      "execution_count": null,
      "outputs": [
        {
          "output_type": "execute_result",
          "data": {
            "text/plain": [
              "['Angry', 'Fear', 'Happy', 'Sad', 'Surprise', 'Neutral']"
            ]
          },
          "metadata": {
            "tags": []
          },
          "execution_count": 8
        }
      ]
    },
    {
      "cell_type": "markdown",
      "metadata": {
        "id": "2NbdB64SdEET"
      },
      "source": [
        "# Extract features"
      ]
    },
    {
      "cell_type": "code",
      "metadata": {
        "id": "uFKdTq_hQTYH"
      },
      "source": [
        "from src.extractFeatures import *"
      ],
      "execution_count": null,
      "outputs": []
    },
    {
      "cell_type": "code",
      "metadata": {
        "id": "b4X5PB-xjInU",
        "colab": {
          "base_uri": "https://localhost:8080/"
        },
        "outputId": "e94d39c7-cd6c-4769-a026-ab55e3738cc6"
      },
      "source": [
        "\r\n",
        "X_descriptors_train = extract_sift_features(X_train)\r\n",
        "X_descriptors_val = extract_sift_features(X_val)\r\n",
        "for i in range(10):\r\n",
        "    print('Image {} has {} descriptors'.format(i, len(X_descriptors_train[i])))"
      ],
      "execution_count": null,
      "outputs": [
        {
          "output_type": "stream",
          "text": [
            "Image 0 has 24 descriptors\n",
            "Image 1 has 36 descriptors\n",
            "Image 2 has 25 descriptors\n",
            "Image 3 has 26 descriptors\n",
            "Image 4 has 27 descriptors\n",
            "Image 5 has 25 descriptors\n",
            "Image 6 has 23 descriptors\n",
            "Image 7 has 20 descriptors\n",
            "Image 8 has 25 descriptors\n",
            "Image 9 has 26 descriptors\n"
          ],
          "name": "stdout"
        }
      ]
    },
    {
      "cell_type": "code",
      "metadata": {
        "id": "jR680Cddr2VZ",
        "colab": {
          "base_uri": "https://localhost:8080/"
        },
        "outputId": "350dff8a-a50e-4cf1-c7da-f340d1aa022c"
      },
      "source": [
        "import time\r\n",
        "num_clusters = 150\r\n",
        "X_descriptors = X_descriptors_train+X_descriptors_val\r\n",
        "print(len(X_descriptors))\r\n",
        "st = time.time()\r\n",
        "bow_dict = create_BoWSIFTfeature(X_descriptors,num_clusters)\r\n",
        "en = time.time()\r\n",
        "print(\"time\",en-st)\r\n",
        "X_features = create_features_bow(X_descriptors, bow_dict, num_clusters)"
      ],
      "execution_count": null,
      "outputs": [
        {
          "output_type": "stream",
          "text": [
            "32298\n",
            "Done load available result\n",
            "time 0.23429393768310547\n"
          ],
          "name": "stdout"
        }
      ]
    },
    {
      "cell_type": "code",
      "metadata": {
        "id": "rdo5sQTyuZSJ",
        "colab": {
          "base_uri": "https://localhost:8080/"
        },
        "outputId": "7db8f11f-90bc-4887-f9fd-15aac6f3da56"
      },
      "source": [
        "\r\n",
        "len(X_features)"
      ],
      "execution_count": null,
      "outputs": [
        {
          "output_type": "execute_result",
          "data": {
            "text/plain": [
              "32298"
            ]
          },
          "metadata": {
            "tags": []
          },
          "execution_count": 12
        }
      ]
    },
    {
      "cell_type": "markdown",
      "metadata": {
        "id": "4_4gqGDmuWTz"
      },
      "source": [
        "# Classification"
      ]
    },
    {
      "cell_type": "code",
      "metadata": {
        "colab": {
          "base_uri": "https://localhost:8080/"
        },
        "id": "hbCZYBOZuWT2",
        "outputId": "89f867b0-6f21-4abb-ec4e-bded6f0bec61"
      },
      "source": [
        "from sklearn.linear_model import LogisticRegression\r\n",
        "y_label = np.hstack((y_train,y_val))\r\n",
        "y_label.shape"
      ],
      "execution_count": null,
      "outputs": [
        {
          "output_type": "execute_result",
          "data": {
            "text/plain": [
              "(32298,)"
            ]
          },
          "metadata": {
            "tags": []
          },
          "execution_count": 13
        }
      ]
    },
    {
      "cell_type": "code",
      "metadata": {
        "colab": {
          "base_uri": "https://localhost:8080/"
        },
        "id": "nHRqs4j2uWT5",
        "outputId": "d1604393-a9ff-4897-81ac-82b19686c13d"
      },
      "source": [
        "logistic_model = LogisticRegression(C=1,max_iter=1000)\r\n",
        "st= time.time()\r\n",
        "logistic_model.fit(X_features, y_label)\r\n",
        "print(time.time()-st)\r\n",
        "print(logistic_model.score(X_features, y_label))"
      ],
      "execution_count": null,
      "outputs": [
        {
          "output_type": "stream",
          "text": [
            "2.762084722518921\n",
            "0.3102359279212335\n"
          ],
          "name": "stdout"
        }
      ]
    },
    {
      "cell_type": "code",
      "metadata": {
        "id": "TOTXA6tJuWT7"
      },
      "source": [
        "import pickle\r\n",
        "pickle.dump(logistic_model, open('saved_model/sift150_lr_c1.pkl', 'wb'))"
      ],
      "execution_count": null,
      "outputs": []
    },
    {
      "cell_type": "code",
      "metadata": {
        "id": "q-B5_iPyuRn9"
      },
      "source": [
        ""
      ],
      "execution_count": null,
      "outputs": []
    },
    {
      "cell_type": "markdown",
      "metadata": {
        "id": "S78mfEowgWu8"
      },
      "source": [
        "#Evaluation"
      ]
    },
    {
      "cell_type": "code",
      "metadata": {
        "id": "7yYiGsmt6AIK",
        "colab": {
          "base_uri": "https://localhost:8080/"
        },
        "outputId": "8d2601f1-ff91-40ba-d67b-4bd40407ff83"
      },
      "source": [
        "import pickle\r\n",
        "\r\n",
        "num_clusters = 150\r\n",
        "bow_dict = pickle.load(open('BoW_data/bow_dict_{}.pkl'.format(num_clusters), 'rb'))\r\n",
        "\r\n",
        "X_descriptors_test = extract_sift_features(X_test)\r\n",
        "X_features_test = create_features_bow(X_descriptors_test, bow_dict,num_clusters )\r\n",
        "y_pred = logistic_model.predict(X_features_test)\r\n",
        "\r\n",
        "print(logistic_model.score(X_features_test,y_test))"
      ],
      "execution_count": null,
      "outputs": [
        {
          "output_type": "stream",
          "text": [
            "0.2984118138757314\n"
          ],
          "name": "stdout"
        }
      ]
    },
    {
      "cell_type": "markdown",
      "metadata": {
        "papermill": {
          "duration": 0.047558,
          "end_time": "2020-12-18T22:02:19.299295",
          "exception": false,
          "start_time": "2020-12-18T22:02:19.251737",
          "status": "completed"
        },
        "tags": [],
        "id": "BBnosJ7_Lrpy"
      },
      "source": [
        "# Visual"
      ]
    },
    {
      "cell_type": "code",
      "metadata": {
        "colab": {
          "base_uri": "https://localhost:8080/",
          "height": 314
        },
        "id": "qCLOS2U75c_R",
        "outputId": "95fd1655-a403-4e30-b51f-01b9611bca90"
      },
      "source": [
        "from sklearn.metrics import confusion_matrix\r\n",
        "from mlxtend.plotting import plot_confusion_matrix\r\n",
        "\r\n",
        "plot_confusion_matrix(confusion_matrix(y_test,y_pred))"
      ],
      "execution_count": null,
      "outputs": [
        {
          "output_type": "execute_result",
          "data": {
            "text/plain": [
              "(<Figure size 432x288 with 1 Axes>,\n",
              " <matplotlib.axes._subplots.AxesSubplot at 0x7fef66836c88>)"
            ]
          },
          "metadata": {
            "tags": []
          },
          "execution_count": 18
        },
        {
          "output_type": "display_data",
          "data": {
            "image/png": "[encoded data removed]",
            "text/plain": [
              "<Figure size 432x288 with 1 Axes>"
            ]
          },
          "metadata": {
            "tags": [],
            "needs_background": "light"
          }
        }
      ]
    },
    {
      "cell_type": "code",
      "metadata": {
        "papermill": {
          "duration": 0.05656,
          "end_time": "2020-12-18T22:02:19.402903",
          "exception": false,
          "start_time": "2020-12-18T22:02:19.346343",
          "status": "completed"
        },
        "tags": [],
        "id": "FzPko1foLrpy",
        "colab": {
          "base_uri": "https://localhost:8080/"
        },
        "outputId": "536750f0-2401-47f3-f97b-b425f8313dac"
      },
      "source": [
        "from sklearn.metrics import classification_report\r\n",
        "from src.visualization import plot_classification_report\r\n",
        "\r\n",
        "clf_report = classification_report(y_test, y_pred, digits=4)\r\n",
        "print(clf_report)"
      ],
      "execution_count": null,
      "outputs": [
        {
          "output_type": "stream",
          "text": [
            "              precision    recall  f1-score   support\n",
            "\n",
            "           0     0.1952    0.0878    0.1211       467\n",
            "           1     0.2380    0.1431    0.1787       552\n",
            "           2     0.3371    0.6335    0.4400       895\n",
            "           3     0.2591    0.1960    0.2232       653\n",
            "           4     0.3953    0.3229    0.3554       415\n",
            "           5     0.2293    0.2010    0.2142       607\n",
            "\n",
            "    accuracy                         0.2984      3589\n",
            "   macro avg     0.2757    0.2641    0.2555      3589\n",
            "weighted avg     0.2777    0.2984    0.2709      3589\n",
            "\n"
          ],
          "name": "stdout"
        }
      ]
    },
    {
      "cell_type": "code",
      "metadata": {
        "colab": {
          "base_uri": "https://localhost:8080/",
          "height": 226
        },
        "id": "rNiKhfQwunjm",
        "outputId": "32c1920c-128e-4b00-84dd-cbd6ab37d027"
      },
      "source": [
        "import pandas as pd\r\n",
        "df = pd.DataFrame(classification_report(y_test, y_pred, digits=1,output_dict=True)).T\r\n",
        "\r\n",
        "df['support'] = df.support.apply(int)\r\n",
        "\r\n",
        "df.style.background_gradient(cmap='viridis',\r\n",
        "                             subset=pd.IndexSlice['0':'6', :'f1-score'])"
      ],
      "execution_count": null,
      "outputs": [
        {
          "output_type": "execute_result",
          "data": {
            "text/html": [
              "<style  type=\"text/css\" >\n",
              "#T_772b2d04_49b4_11eb_af45_0242ac1c0002row0_col0,#T_772b2d04_49b4_11eb_af45_0242ac1c0002row0_col1,#T_772b2d04_49b4_11eb_af45_0242ac1c0002row0_col2{\n",
              "            background-color:  #440154;\n",
              "            color:  #f1f1f1;\n",
              "        }#T_772b2d04_49b4_11eb_af45_0242ac1c0002row1_col0{\n",
              "            background-color:  #3f4788;\n",
              "            color:  #f1f1f1;\n",
              "        }#T_772b2d04_49b4_11eb_af45_0242ac1c0002row1_col1{\n",
              "            background-color:  #482475;\n",
              "            color:  #f1f1f1;\n",
              "        }#T_772b2d04_49b4_11eb_af45_0242ac1c0002row1_col2{\n",
              "            background-color:  #433e85;\n",
              "            color:  #f1f1f1;\n",
              "        }#T_772b2d04_49b4_11eb_af45_0242ac1c0002row2_col0{\n",
              "            background-color:  #48c16e;\n",
              "            color:  #000000;\n",
              "        }#T_772b2d04_49b4_11eb_af45_0242ac1c0002row2_col1,#T_772b2d04_49b4_11eb_af45_0242ac1c0002row2_col2,#T_772b2d04_49b4_11eb_af45_0242ac1c0002row4_col0{\n",
              "            background-color:  #fde725;\n",
              "            color:  #000000;\n",
              "        }#T_772b2d04_49b4_11eb_af45_0242ac1c0002row3_col0,#T_772b2d04_49b4_11eb_af45_0242ac1c0002row3_col2{\n",
              "            background-color:  #32648e;\n",
              "            color:  #f1f1f1;\n",
              "        }#T_772b2d04_49b4_11eb_af45_0242ac1c0002row3_col1{\n",
              "            background-color:  #414287;\n",
              "            color:  #f1f1f1;\n",
              "        }#T_772b2d04_49b4_11eb_af45_0242ac1c0002row4_col1{\n",
              "            background-color:  #27808e;\n",
              "            color:  #000000;\n",
              "        }#T_772b2d04_49b4_11eb_af45_0242ac1c0002row4_col2{\n",
              "            background-color:  #56c667;\n",
              "            color:  #000000;\n",
              "        }#T_772b2d04_49b4_11eb_af45_0242ac1c0002row5_col0{\n",
              "            background-color:  #443a83;\n",
              "            color:  #f1f1f1;\n",
              "        }#T_772b2d04_49b4_11eb_af45_0242ac1c0002row5_col1{\n",
              "            background-color:  #404688;\n",
              "            color:  #f1f1f1;\n",
              "        }#T_772b2d04_49b4_11eb_af45_0242ac1c0002row5_col2{\n",
              "            background-color:  #365d8d;\n",
              "            color:  #f1f1f1;\n",
              "        }</style><table id=\"T_772b2d04_49b4_11eb_af45_0242ac1c0002\" ><thead>    <tr>        <th class=\"blank level0\" ></th>        <th class=\"col_heading level0 col0\" >precision</th>        <th class=\"col_heading level0 col1\" >recall</th>        <th class=\"col_heading level0 col2\" >f1-score</th>        <th class=\"col_heading level0 col3\" >support</th>    </tr></thead><tbody>\n",
              "                <tr>\n",
              "                        <th id=\"T_772b2d04_49b4_11eb_af45_0242ac1c0002level0_row0\" class=\"row_heading level0 row0\" >0</th>\n",
              "                        <td id=\"T_772b2d04_49b4_11eb_af45_0242ac1c0002row0_col0\" class=\"data row0 col0\" >0.195238</td>\n",
              "                        <td id=\"T_772b2d04_49b4_11eb_af45_0242ac1c0002row0_col1\" class=\"data row0 col1\" >0.087794</td>\n",
              "                        <td id=\"T_772b2d04_49b4_11eb_af45_0242ac1c0002row0_col2\" class=\"data row0 col2\" >0.121123</td>\n",
              "                        <td id=\"T_772b2d04_49b4_11eb_af45_0242ac1c0002row0_col3\" class=\"data row0 col3\" >467</td>\n",
              "            </tr>\n",
              "            <tr>\n",
              "                        <th id=\"T_772b2d04_49b4_11eb_af45_0242ac1c0002level0_row1\" class=\"row_heading level0 row1\" >1</th>\n",
              "                        <td id=\"T_772b2d04_49b4_11eb_af45_0242ac1c0002row1_col0\" class=\"data row1 col0\" >0.237952</td>\n",
              "                        <td id=\"T_772b2d04_49b4_11eb_af45_0242ac1c0002row1_col1\" class=\"data row1 col1\" >0.143116</td>\n",
              "                        <td id=\"T_772b2d04_49b4_11eb_af45_0242ac1c0002row1_col2\" class=\"data row1 col2\" >0.178733</td>\n",
              "                        <td id=\"T_772b2d04_49b4_11eb_af45_0242ac1c0002row1_col3\" class=\"data row1 col3\" >552</td>\n",
              "            </tr>\n",
              "            <tr>\n",
              "                        <th id=\"T_772b2d04_49b4_11eb_af45_0242ac1c0002level0_row2\" class=\"row_heading level0 row2\" >2</th>\n",
              "                        <td id=\"T_772b2d04_49b4_11eb_af45_0242ac1c0002row2_col0\" class=\"data row2 col0\" >0.337099</td>\n",
              "                        <td id=\"T_772b2d04_49b4_11eb_af45_0242ac1c0002row2_col1\" class=\"data row2 col1\" >0.633520</td>\n",
              "                        <td id=\"T_772b2d04_49b4_11eb_af45_0242ac1c0002row2_col2\" class=\"data row2 col2\" >0.440047</td>\n",
              "                        <td id=\"T_772b2d04_49b4_11eb_af45_0242ac1c0002row2_col3\" class=\"data row2 col3\" >895</td>\n",
              "            </tr>\n",
              "            <tr>\n",
              "                        <th id=\"T_772b2d04_49b4_11eb_af45_0242ac1c0002level0_row3\" class=\"row_heading level0 row3\" >3</th>\n",
              "                        <td id=\"T_772b2d04_49b4_11eb_af45_0242ac1c0002row3_col0\" class=\"data row3 col0\" >0.259109</td>\n",
              "                        <td id=\"T_772b2d04_49b4_11eb_af45_0242ac1c0002row3_col1\" class=\"data row3 col1\" >0.196018</td>\n",
              "                        <td id=\"T_772b2d04_49b4_11eb_af45_0242ac1c0002row3_col2\" class=\"data row3 col2\" >0.223191</td>\n",
              "                        <td id=\"T_772b2d04_49b4_11eb_af45_0242ac1c0002row3_col3\" class=\"data row3 col3\" >653</td>\n",
              "            </tr>\n",
              "            <tr>\n",
              "                        <th id=\"T_772b2d04_49b4_11eb_af45_0242ac1c0002level0_row4\" class=\"row_heading level0 row4\" >4</th>\n",
              "                        <td id=\"T_772b2d04_49b4_11eb_af45_0242ac1c0002row4_col0\" class=\"data row4 col0\" >0.395280</td>\n",
              "                        <td id=\"T_772b2d04_49b4_11eb_af45_0242ac1c0002row4_col1\" class=\"data row4 col1\" >0.322892</td>\n",
              "                        <td id=\"T_772b2d04_49b4_11eb_af45_0242ac1c0002row4_col2\" class=\"data row4 col2\" >0.355438</td>\n",
              "                        <td id=\"T_772b2d04_49b4_11eb_af45_0242ac1c0002row4_col3\" class=\"data row4 col3\" >415</td>\n",
              "            </tr>\n",
              "            <tr>\n",
              "                        <th id=\"T_772b2d04_49b4_11eb_af45_0242ac1c0002level0_row5\" class=\"row_heading level0 row5\" >5</th>\n",
              "                        <td id=\"T_772b2d04_49b4_11eb_af45_0242ac1c0002row5_col0\" class=\"data row5 col0\" >0.229323</td>\n",
              "                        <td id=\"T_772b2d04_49b4_11eb_af45_0242ac1c0002row5_col1\" class=\"data row5 col1\" >0.200988</td>\n",
              "                        <td id=\"T_772b2d04_49b4_11eb_af45_0242ac1c0002row5_col2\" class=\"data row5 col2\" >0.214223</td>\n",
              "                        <td id=\"T_772b2d04_49b4_11eb_af45_0242ac1c0002row5_col3\" class=\"data row5 col3\" >607</td>\n",
              "            </tr>\n",
              "            <tr>\n",
              "                        <th id=\"T_772b2d04_49b4_11eb_af45_0242ac1c0002level0_row6\" class=\"row_heading level0 row6\" >accuracy</th>\n",
              "                        <td id=\"T_772b2d04_49b4_11eb_af45_0242ac1c0002row6_col0\" class=\"data row6 col0\" >0.298412</td>\n",
              "                        <td id=\"T_772b2d04_49b4_11eb_af45_0242ac1c0002row6_col1\" class=\"data row6 col1\" >0.298412</td>\n",
              "                        <td id=\"T_772b2d04_49b4_11eb_af45_0242ac1c0002row6_col2\" class=\"data row6 col2\" >0.298412</td>\n",
              "                        <td id=\"T_772b2d04_49b4_11eb_af45_0242ac1c0002row6_col3\" class=\"data row6 col3\" >0</td>\n",
              "            </tr>\n",
              "            <tr>\n",
              "                        <th id=\"T_772b2d04_49b4_11eb_af45_0242ac1c0002level0_row7\" class=\"row_heading level0 row7\" >macro avg</th>\n",
              "                        <td id=\"T_772b2d04_49b4_11eb_af45_0242ac1c0002row7_col0\" class=\"data row7 col0\" >0.275667</td>\n",
              "                        <td id=\"T_772b2d04_49b4_11eb_af45_0242ac1c0002row7_col1\" class=\"data row7 col1\" >0.264055</td>\n",
              "                        <td id=\"T_772b2d04_49b4_11eb_af45_0242ac1c0002row7_col2\" class=\"data row7 col2\" >0.255459</td>\n",
              "                        <td id=\"T_772b2d04_49b4_11eb_af45_0242ac1c0002row7_col3\" class=\"data row7 col3\" >3589</td>\n",
              "            </tr>\n",
              "            <tr>\n",
              "                        <th id=\"T_772b2d04_49b4_11eb_af45_0242ac1c0002level0_row8\" class=\"row_heading level0 row8\" >weighted avg</th>\n",
              "                        <td id=\"T_772b2d04_49b4_11eb_af45_0242ac1c0002row8_col0\" class=\"data row8 col0\" >0.277701</td>\n",
              "                        <td id=\"T_772b2d04_49b4_11eb_af45_0242ac1c0002row8_col1\" class=\"data row8 col1\" >0.298412</td>\n",
              "                        <td id=\"T_772b2d04_49b4_11eb_af45_0242ac1c0002row8_col2\" class=\"data row8 col2\" >0.270925</td>\n",
              "                        <td id=\"T_772b2d04_49b4_11eb_af45_0242ac1c0002row8_col3\" class=\"data row8 col3\" >3589</td>\n",
              "            </tr>\n",
              "    </tbody></table>"
            ],
            "text/plain": [
              "<pandas.io.formats.style.Styler at 0x7fef6664af60>"
            ]
          },
          "metadata": {
            "tags": []
          },
          "execution_count": 20
        }
      ]
    },
    {
      "cell_type": "code",
      "metadata": {
        "id": "MIKbDgRT0GGe"
      },
      "source": [
        ""
      ],
      "execution_count": null,
      "outputs": []
    }
  ]
}