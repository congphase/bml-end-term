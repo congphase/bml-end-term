{
  "nbformat": 4,
  "nbformat_minor": 0,
  "metadata": {
    "colab": {
      "name": "TN9_SIFT150_RF_depth20.ipynb",
      "provenance": [],
      "collapsed_sections": [],
      "toc_visible": true
    },
    "kernelspec": {
      "name": "python3",
      "display_name": "Python 3"
    }
  },
  "cells": [
    {
      "cell_type": "code",
      "metadata": {
        "id": "PL21Mz5-OeDg",
        "colab": {
          "base_uri": "https://localhost:8080/"
        },
        "outputId": "69d88778-6ce0-41e1-9492-d3ba2f166179"
      },
      "source": [
        "# Mount \"My Drive\" into /content/drive\r\n",
        "from google.colab import drive\r\n",
        "\r\n",
        "google_drive_dir = \"Final_project\"  # @param\r\n",
        "#bml-notebooks/\r\n",
        "drive.mount('/content/drive')\r\n",
        "\r\n",
        "mount_point = \"/content/drive/My Drive/{}\".format(google_drive_dir)\r\n",
        "\r\n",
        "# Change the root directory to your mount_point\r\n",
        "% cd '$mount_point'"
      ],
      "execution_count": 1,
      "outputs": [
        {
          "output_type": "stream",
          "text": [
            "Drive already mounted at /content/drive; to attempt to forcibly remount, call drive.mount(\"/content/drive\", force_remount=True).\n",
            "/content/drive/.shortcut-targets-by-id/1uHceact8nZzLehIO7J8WmUhJnJWKOf8w/Final_project\n"
          ],
          "name": "stdout"
        }
      ]
    },
    {
      "cell_type": "markdown",
      "metadata": {
        "id": "qUCjqlGGYWG5"
      },
      "source": [
        "# Downgrade opencv"
      ]
    },
    {
      "cell_type": "code",
      "metadata": {
        "id": "q2O722__dAmL"
      },
      "source": [
        "import cv2\r\n",
        "if cv2.__version__[0] == '4':\r\n",
        "    !pip uninstall opencv-python -y\r\n",
        "    #downgrade OpenCV a bit since some none-free features are not avilable\r\n",
        "    !pip install opencv-contrib-python==3.4.2.17 --force-reinstall"
      ],
      "execution_count": 2,
      "outputs": []
    },
    {
      "cell_type": "markdown",
      "metadata": {
        "papermill": {
          "duration": 0.044808,
          "end_time": "2020-12-18T22:02:11.416442",
          "exception": false,
          "start_time": "2020-12-18T22:02:11.371634",
          "status": "completed"
        },
        "tags": [],
        "id": "eI1PdIKtLrpv"
      },
      "source": [
        "# <span style=\"color: royalblue;\">Load Data</span>\n",
        "Load the image data with labels."
      ]
    },
    {
      "cell_type": "code",
      "metadata": {
        "id": "HM1rN5gqd5aG"
      },
      "source": [
        "from src.loadData import loadFer2013\r\n",
        "from keras.utils import to_categorical"
      ],
      "execution_count": 3,
      "outputs": []
    },
    {
      "cell_type": "code",
      "metadata": {
        "id": "ct5pobN6eBgW",
        "colab": {
          "base_uri": "https://localhost:8080/"
        },
        "outputId": "de9400eb-08e7-427e-a6b0-8f4af5782a23"
      },
      "source": [
        "X_train,X_val,X_test,y_train,y_val,y_test = loadFer2013('fer2013/icml_face_data.csv')\r\n",
        "\r\n",
        "y_train_onehot = to_categorical(y_train)\r\n",
        "y_val_onehot = to_categorical(y_val)\r\n",
        "y_test_onehot = to_categorical(y_test)"
      ],
      "execution_count": 4,
      "outputs": [
        {
          "output_type": "stream",
          "text": [
            "/content/drive/.shortcut-targets-by-id/1uHceact8nZzLehIO7J8WmUhJnJWKOf8w/Final_project/src/loadData.py:23: SettingWithCopyWarning: \n",
            "A value is trying to be set on a copy of a slice from a DataFrame\n",
            "\n",
            "See the caveats in the documentation: https://pandas.pydata.org/pandas-docs/stable/user_guide/indexing.html#returning-a-view-versus-a-copy\n",
            "  data['emotion'][data['emotion']>1]-=1\n"
          ],
          "name": "stderr"
        }
      ]
    },
    {
      "cell_type": "code",
      "metadata": {
        "id": "1qZ7W3Pfh6-j",
        "colab": {
          "base_uri": "https://localhost:8080/"
        },
        "outputId": "786f2149-b195-4d9e-a836-f891042986bf"
      },
      "source": [
        "y_train_onehot.shape, y_val_onehot.shape, y_test_onehot.shape"
      ],
      "execution_count": 5,
      "outputs": [
        {
          "output_type": "execute_result",
          "data": {
            "text/plain": [
              "((28709, 6), (3589, 6), (3589, 6))"
            ]
          },
          "metadata": {
            "tags": []
          },
          "execution_count": 5
        }
      ]
    },
    {
      "cell_type": "code",
      "metadata": {
        "id": "jncS-WGXfb2j",
        "colab": {
          "base_uri": "https://localhost:8080/"
        },
        "outputId": "7d884c97-8836-4ff7-d105-a820969c464f"
      },
      "source": [
        "X_train.shape, y_train.shape"
      ],
      "execution_count": 6,
      "outputs": [
        {
          "output_type": "execute_result",
          "data": {
            "text/plain": [
              "((28709, 48, 48), (28709,))"
            ]
          },
          "metadata": {
            "tags": []
          },
          "execution_count": 6
        }
      ]
    },
    {
      "cell_type": "code",
      "metadata": {
        "id": "Nt9oKq3mo60M"
      },
      "source": [
        "emotions = {0: 'Angry', 1:'Fear', 2: 'Happy', 3: 'Sad', 4: 'Surprise', 5: 'Neutral'}"
      ],
      "execution_count": 7,
      "outputs": []
    },
    {
      "cell_type": "code",
      "metadata": {
        "id": "sIHHtenVug_E",
        "colab": {
          "base_uri": "https://localhost:8080/"
        },
        "outputId": "74c7f19a-74e2-4036-b58c-af09afee9568"
      },
      "source": [
        "class_names = list(emotions.values())\r\n",
        "class_names"
      ],
      "execution_count": 8,
      "outputs": [
        {
          "output_type": "execute_result",
          "data": {
            "text/plain": [
              "['Angry', 'Fear', 'Happy', 'Sad', 'Surprise', 'Neutral']"
            ]
          },
          "metadata": {
            "tags": []
          },
          "execution_count": 8
        }
      ]
    },
    {
      "cell_type": "markdown",
      "metadata": {
        "id": "2NbdB64SdEET"
      },
      "source": [
        "# Extract features"
      ]
    },
    {
      "cell_type": "code",
      "metadata": {
        "id": "uFKdTq_hQTYH"
      },
      "source": [
        "from src.extractFeatures import *"
      ],
      "execution_count": 11,
      "outputs": []
    },
    {
      "cell_type": "code",
      "metadata": {
        "id": "b4X5PB-xjInU",
        "colab": {
          "base_uri": "https://localhost:8080/"
        },
        "outputId": "1e1fdd78-54d7-465a-83e9-2542e80f3ce7"
      },
      "source": [
        "\r\n",
        "X_descriptors_train = extract_sift_features(X_train)\r\n",
        "X_descriptors_val = extract_sift_features(X_val)\r\n",
        "for i in range(10):\r\n",
        "    print('Image {} has {} descriptors'.format(i, len(X_descriptors_train[i])))"
      ],
      "execution_count": 12,
      "outputs": [
        {
          "output_type": "stream",
          "text": [
            "Image 0 has 24 descriptors\n",
            "Image 1 has 36 descriptors\n",
            "Image 2 has 25 descriptors\n",
            "Image 3 has 26 descriptors\n",
            "Image 4 has 27 descriptors\n",
            "Image 5 has 25 descriptors\n",
            "Image 6 has 23 descriptors\n",
            "Image 7 has 20 descriptors\n",
            "Image 8 has 25 descriptors\n",
            "Image 9 has 26 descriptors\n"
          ],
          "name": "stdout"
        }
      ]
    },
    {
      "cell_type": "code",
      "metadata": {
        "id": "jR680Cddr2VZ",
        "colab": {
          "base_uri": "https://localhost:8080/"
        },
        "outputId": "57d9777f-aab4-497c-a57d-9083ea3bdcd5"
      },
      "source": [
        "import time\r\n",
        "num_clusters = 150\r\n",
        "X_descriptors = X_descriptors_train+X_descriptors_val\r\n",
        "print(len(X_descriptors))\r\n",
        "st = time.time()\r\n",
        "bow_dict = create_BoWSIFTfeature(X_descriptors,num_clusters)\r\n",
        "en = time.time()\r\n",
        "print(\"time\",en-st)\r\n",
        "X_features = create_features_bow(X_descriptors, bow_dict, num_clusters)"
      ],
      "execution_count": 13,
      "outputs": [
        {
          "output_type": "stream",
          "text": [
            "32298\n",
            "Done load available result\n",
            "time 0.14299893379211426\n"
          ],
          "name": "stdout"
        }
      ]
    },
    {
      "cell_type": "code",
      "metadata": {
        "id": "rdo5sQTyuZSJ",
        "colab": {
          "base_uri": "https://localhost:8080/"
        },
        "outputId": "6737db1c-52a0-45c0-c869-b9f3a42ed469"
      },
      "source": [
        "len(X_features)"
      ],
      "execution_count": 14,
      "outputs": [
        {
          "output_type": "execute_result",
          "data": {
            "text/plain": [
              "32298"
            ]
          },
          "metadata": {
            "tags": []
          },
          "execution_count": 14
        }
      ]
    },
    {
      "cell_type": "markdown",
      "metadata": {
        "id": "SJNQMRqApWJb"
      },
      "source": [
        "# Random Forest Classification"
      ]
    },
    {
      "cell_type": "code",
      "metadata": {
        "id": "sP2IkhaMpY9k",
        "colab": {
          "base_uri": "https://localhost:8080/"
        },
        "outputId": "68d2271c-4bb6-4cb9-804d-ea5cf9189af4"
      },
      "source": [
        "from sklearn.ensemble import RandomForestClassifier\r\n",
        "\r\n",
        "y_label = np.hstack((y_train,y_val))\r\n",
        "y_label.shape"
      ],
      "execution_count": 15,
      "outputs": [
        {
          "output_type": "execute_result",
          "data": {
            "text/plain": [
              "(32298,)"
            ]
          },
          "metadata": {
            "tags": []
          },
          "execution_count": 15
        }
      ]
    },
    {
      "cell_type": "code",
      "metadata": {
        "id": "m-Fxblw45Ly9",
        "colab": {
          "base_uri": "https://localhost:8080/"
        },
        "outputId": "35fe1a79-1cd8-4b76-d41a-83710956d2b9"
      },
      "source": [
        "import time\r\n",
        "RF = RandomForestClassifier(max_depth=20, random_state=0)\r\n",
        "st = time.time()\r\n",
        "RF.fit(X_features, y_label)\r\n",
        "print(time.time()-st)\r\n"
      ],
      "execution_count": 19,
      "outputs": [
        {
          "output_type": "stream",
          "text": [
            "6.30351710319519\n"
          ],
          "name": "stdout"
        }
      ]
    },
    {
      "cell_type": "code",
      "metadata": {
        "colab": {
          "base_uri": "https://localhost:8080/"
        },
        "id": "LuKTx-EDiicf",
        "outputId": "d133e46f-5d2d-4e6a-a3cd-ee2b605eed3c"
      },
      "source": [
        "RF.score(X_features, y_label)"
      ],
      "execution_count": 17,
      "outputs": [
        {
          "output_type": "execute_result",
          "data": {
            "text/plain": [
              "0.9031518979503375"
            ]
          },
          "metadata": {
            "tags": []
          },
          "execution_count": 17
        }
      ]
    },
    {
      "cell_type": "code",
      "metadata": {
        "id": "w1dNOJ1H47cI"
      },
      "source": [
        "import pickle\r\n",
        "pickle.dump(RF, open('saved_model/sift150_RFd20.pkl', 'wb'))"
      ],
      "execution_count": 18,
      "outputs": []
    },
    {
      "cell_type": "markdown",
      "metadata": {
        "id": "S78mfEowgWu8"
      },
      "source": [
        "#Evaluation"
      ]
    },
    {
      "cell_type": "code",
      "metadata": {
        "id": "7yYiGsmt6AIK",
        "colab": {
          "base_uri": "https://localhost:8080/"
        },
        "outputId": "4f2ea97c-a26f-4ae3-c431-5b91afb9efc9"
      },
      "source": [
        "import pickle\r\n",
        "\r\n",
        "num_clusters = 150\r\n",
        "bow_dict = pickle.load(open('BoW_data/bow_dict_{}.pkl'.format(num_clusters), 'rb'))\r\n",
        "\r\n",
        "X_descriptors_test = extract_sift_features(X_test)\r\n",
        "X_features_test = create_features_bow(X_descriptors_test, bow_dict,num_clusters )\r\n",
        "y_pred = RF.predict(X_features_test)\r\n",
        "\r\n",
        "print(RF.score(X_features_test,y_test))"
      ],
      "execution_count": 20,
      "outputs": [
        {
          "output_type": "stream",
          "text": [
            "0.34912231819448314\n"
          ],
          "name": "stdout"
        }
      ]
    },
    {
      "cell_type": "code",
      "metadata": {
        "colab": {
          "base_uri": "https://localhost:8080/"
        },
        "id": "Jb__MnpIB9r4",
        "outputId": "a5bc960c-f014-4937-84b3-e8eef9c08f7b"
      },
      "source": [
        "from sklearn import metrics\r\n",
        "\r\n",
        "metrics.f1_score(y_test,y_pred,average='micro')"
      ],
      "execution_count": 21,
      "outputs": [
        {
          "output_type": "execute_result",
          "data": {
            "text/plain": [
              "0.34912231819448314"
            ]
          },
          "metadata": {
            "tags": []
          },
          "execution_count": 21
        }
      ]
    },
    {
      "cell_type": "markdown",
      "metadata": {
        "papermill": {
          "duration": 0.047558,
          "end_time": "2020-12-18T22:02:19.299295",
          "exception": false,
          "start_time": "2020-12-18T22:02:19.251737",
          "status": "completed"
        },
        "tags": [],
        "id": "BBnosJ7_Lrpy"
      },
      "source": [
        "# Visual"
      ]
    },
    {
      "cell_type": "code",
      "metadata": {
        "colab": {
          "base_uri": "https://localhost:8080/",
          "height": 314
        },
        "id": "qCLOS2U75c_R",
        "outputId": "0014b930-358a-4688-c865-5d2f0b221049"
      },
      "source": [
        "from sklearn.metrics import confusion_matrix\r\n",
        "from mlxtend.plotting import plot_confusion_matrix\r\n",
        "\r\n",
        "plot_confusion_matrix(confusion_matrix(y_test,y_pred))"
      ],
      "execution_count": 22,
      "outputs": [
        {
          "output_type": "execute_result",
          "data": {
            "text/plain": [
              "(<Figure size 432x288 with 1 Axes>,\n",
              " <matplotlib.axes._subplots.AxesSubplot at 0x7efff159ff28>)"
            ]
          },
          "metadata": {
            "tags": []
          },
          "execution_count": 22
        },
        {
          "output_type": "display_data",
          "data": {
            "image/png": "[encoded data removed]",
            "text/plain": [
              "<Figure size 432x288 with 1 Axes>"
            ]
          },
          "metadata": {
            "tags": [],
            "needs_background": "light"
          }
        }
      ]
    },
    {
      "cell_type": "code",
      "metadata": {
        "papermill": {
          "duration": 0.05656,
          "end_time": "2020-12-18T22:02:19.402903",
          "exception": false,
          "start_time": "2020-12-18T22:02:19.346343",
          "status": "completed"
        },
        "tags": [],
        "id": "FzPko1foLrpy",
        "colab": {
          "base_uri": "https://localhost:8080/"
        },
        "outputId": "776caf27-fa47-43b7-dab8-8c8e5549ea6e"
      },
      "source": [
        "from sklearn.metrics import classification_report\r\n",
        "from src.visualization import plot_classification_report\r\n",
        "\r\n",
        "clf_report = classification_report(y_test, y_pred, digits=4)\r\n",
        "print(clf_report)"
      ],
      "execution_count": 23,
      "outputs": [
        {
          "output_type": "stream",
          "text": [
            "              precision    recall  f1-score   support\n",
            "\n",
            "           0     0.5652    0.0835    0.1455       467\n",
            "           1     0.4976    0.1884    0.2733       552\n",
            "           2     0.3016    0.8670    0.4475       895\n",
            "           3     0.3125    0.1149    0.1680       653\n",
            "           4     0.6548    0.4434    0.5287       415\n",
            "           5     0.3456    0.1236    0.1820       607\n",
            "\n",
            "    accuracy                         0.3491      3589\n",
            "   macro avg     0.4462    0.3035    0.2909      3589\n",
            "weighted avg     0.4163    0.3491    0.2951      3589\n",
            "\n"
          ],
          "name": "stdout"
        }
      ]
    },
    {
      "cell_type": "code",
      "metadata": {
        "colab": {
          "base_uri": "https://localhost:8080/",
          "height": 226
        },
        "id": "rNiKhfQwunjm",
        "outputId": "7eca36bd-6920-4fd0-ba08-59392deee456"
      },
      "source": [
        "import pandas as pd\r\n",
        "df = pd.DataFrame(classification_report(y_test, y_pred, digits=1,output_dict=True)).T\r\n",
        "\r\n",
        "df['support'] = df.support.apply(int)\r\n",
        "\r\n",
        "df.style.background_gradient(cmap='viridis',\r\n",
        "                             subset=pd.IndexSlice['0':'6', :'f1-score'])"
      ],
      "execution_count": 24,
      "outputs": [
        {
          "output_type": "execute_result",
          "data": {
            "text/html": [
              "<style  type=\"text/css\" >\n",
              "#T_f9727268_49be_11eb_a02e_0242ac1c0002row0_col0{\n",
              "            background-color:  #5cc863;\n",
              "            color:  #000000;\n",
              "        }#T_f9727268_49be_11eb_a02e_0242ac1c0002row0_col1,#T_f9727268_49be_11eb_a02e_0242ac1c0002row0_col2,#T_f9727268_49be_11eb_a02e_0242ac1c0002row2_col0{\n",
              "            background-color:  #440154;\n",
              "            color:  #f1f1f1;\n",
              "        }#T_f9727268_49be_11eb_a02e_0242ac1c0002row1_col0{\n",
              "            background-color:  #1f9e89;\n",
              "            color:  #000000;\n",
              "        }#T_f9727268_49be_11eb_a02e_0242ac1c0002row1_col1{\n",
              "            background-color:  #472f7d;\n",
              "            color:  #f1f1f1;\n",
              "        }#T_f9727268_49be_11eb_a02e_0242ac1c0002row1_col2{\n",
              "            background-color:  #31688e;\n",
              "            color:  #f1f1f1;\n",
              "        }#T_f9727268_49be_11eb_a02e_0242ac1c0002row2_col1,#T_f9727268_49be_11eb_a02e_0242ac1c0002row4_col0,#T_f9727268_49be_11eb_a02e_0242ac1c0002row4_col2{\n",
              "            background-color:  #fde725;\n",
              "            color:  #000000;\n",
              "        }#T_f9727268_49be_11eb_a02e_0242ac1c0002row2_col2{\n",
              "            background-color:  #73d056;\n",
              "            color:  #000000;\n",
              "        }#T_f9727268_49be_11eb_a02e_0242ac1c0002row3_col0{\n",
              "            background-color:  #460b5e;\n",
              "            color:  #f1f1f1;\n",
              "        }#T_f9727268_49be_11eb_a02e_0242ac1c0002row3_col1{\n",
              "            background-color:  #471063;\n",
              "            color:  #f1f1f1;\n",
              "        }#T_f9727268_49be_11eb_a02e_0242ac1c0002row3_col2{\n",
              "            background-color:  #481668;\n",
              "            color:  #f1f1f1;\n",
              "        }#T_f9727268_49be_11eb_a02e_0242ac1c0002row4_col1{\n",
              "            background-color:  #24868e;\n",
              "            color:  #000000;\n",
              "        }#T_f9727268_49be_11eb_a02e_0242ac1c0002row5_col0{\n",
              "            background-color:  #472c7a;\n",
              "            color:  #f1f1f1;\n",
              "        }#T_f9727268_49be_11eb_a02e_0242ac1c0002row5_col1{\n",
              "            background-color:  #481467;\n",
              "            color:  #f1f1f1;\n",
              "        }#T_f9727268_49be_11eb_a02e_0242ac1c0002row5_col2{\n",
              "            background-color:  #482374;\n",
              "            color:  #f1f1f1;\n",
              "        }</style><table id=\"T_f9727268_49be_11eb_a02e_0242ac1c0002\" ><thead>    <tr>        <th class=\"blank level0\" ></th>        <th class=\"col_heading level0 col0\" >precision</th>        <th class=\"col_heading level0 col1\" >recall</th>        <th class=\"col_heading level0 col2\" >f1-score</th>        <th class=\"col_heading level0 col3\" >support</th>    </tr></thead><tbody>\n",
              "                <tr>\n",
              "                        <th id=\"T_f9727268_49be_11eb_a02e_0242ac1c0002level0_row0\" class=\"row_heading level0 row0\" >0</th>\n",
              "                        <td id=\"T_f9727268_49be_11eb_a02e_0242ac1c0002row0_col0\" class=\"data row0 col0\" >0.565217</td>\n",
              "                        <td id=\"T_f9727268_49be_11eb_a02e_0242ac1c0002row0_col1\" class=\"data row0 col1\" >0.083512</td>\n",
              "                        <td id=\"T_f9727268_49be_11eb_a02e_0242ac1c0002row0_col2\" class=\"data row0 col2\" >0.145522</td>\n",
              "                        <td id=\"T_f9727268_49be_11eb_a02e_0242ac1c0002row0_col3\" class=\"data row0 col3\" >467</td>\n",
              "            </tr>\n",
              "            <tr>\n",
              "                        <th id=\"T_f9727268_49be_11eb_a02e_0242ac1c0002level0_row1\" class=\"row_heading level0 row1\" >1</th>\n",
              "                        <td id=\"T_f9727268_49be_11eb_a02e_0242ac1c0002row1_col0\" class=\"data row1 col0\" >0.497608</td>\n",
              "                        <td id=\"T_f9727268_49be_11eb_a02e_0242ac1c0002row1_col1\" class=\"data row1 col1\" >0.188406</td>\n",
              "                        <td id=\"T_f9727268_49be_11eb_a02e_0242ac1c0002row1_col2\" class=\"data row1 col2\" >0.273325</td>\n",
              "                        <td id=\"T_f9727268_49be_11eb_a02e_0242ac1c0002row1_col3\" class=\"data row1 col3\" >552</td>\n",
              "            </tr>\n",
              "            <tr>\n",
              "                        <th id=\"T_f9727268_49be_11eb_a02e_0242ac1c0002level0_row2\" class=\"row_heading level0 row2\" >2</th>\n",
              "                        <td id=\"T_f9727268_49be_11eb_a02e_0242ac1c0002row2_col0\" class=\"data row2 col0\" >0.301593</td>\n",
              "                        <td id=\"T_f9727268_49be_11eb_a02e_0242ac1c0002row2_col1\" class=\"data row2 col1\" >0.867039</td>\n",
              "                        <td id=\"T_f9727268_49be_11eb_a02e_0242ac1c0002row2_col2\" class=\"data row2 col2\" >0.447520</td>\n",
              "                        <td id=\"T_f9727268_49be_11eb_a02e_0242ac1c0002row2_col3\" class=\"data row2 col3\" >895</td>\n",
              "            </tr>\n",
              "            <tr>\n",
              "                        <th id=\"T_f9727268_49be_11eb_a02e_0242ac1c0002level0_row3\" class=\"row_heading level0 row3\" >3</th>\n",
              "                        <td id=\"T_f9727268_49be_11eb_a02e_0242ac1c0002row3_col0\" class=\"data row3 col0\" >0.312500</td>\n",
              "                        <td id=\"T_f9727268_49be_11eb_a02e_0242ac1c0002row3_col1\" class=\"data row3 col1\" >0.114855</td>\n",
              "                        <td id=\"T_f9727268_49be_11eb_a02e_0242ac1c0002row3_col2\" class=\"data row3 col2\" >0.167973</td>\n",
              "                        <td id=\"T_f9727268_49be_11eb_a02e_0242ac1c0002row3_col3\" class=\"data row3 col3\" >653</td>\n",
              "            </tr>\n",
              "            <tr>\n",
              "                        <th id=\"T_f9727268_49be_11eb_a02e_0242ac1c0002level0_row4\" class=\"row_heading level0 row4\" >4</th>\n",
              "                        <td id=\"T_f9727268_49be_11eb_a02e_0242ac1c0002row4_col0\" class=\"data row4 col0\" >0.654804</td>\n",
              "                        <td id=\"T_f9727268_49be_11eb_a02e_0242ac1c0002row4_col1\" class=\"data row4 col1\" >0.443373</td>\n",
              "                        <td id=\"T_f9727268_49be_11eb_a02e_0242ac1c0002row4_col2\" class=\"data row4 col2\" >0.528736</td>\n",
              "                        <td id=\"T_f9727268_49be_11eb_a02e_0242ac1c0002row4_col3\" class=\"data row4 col3\" >415</td>\n",
              "            </tr>\n",
              "            <tr>\n",
              "                        <th id=\"T_f9727268_49be_11eb_a02e_0242ac1c0002level0_row5\" class=\"row_heading level0 row5\" >5</th>\n",
              "                        <td id=\"T_f9727268_49be_11eb_a02e_0242ac1c0002row5_col0\" class=\"data row5 col0\" >0.345622</td>\n",
              "                        <td id=\"T_f9727268_49be_11eb_a02e_0242ac1c0002row5_col1\" class=\"data row5 col1\" >0.123558</td>\n",
              "                        <td id=\"T_f9727268_49be_11eb_a02e_0242ac1c0002row5_col2\" class=\"data row5 col2\" >0.182039</td>\n",
              "                        <td id=\"T_f9727268_49be_11eb_a02e_0242ac1c0002row5_col3\" class=\"data row5 col3\" >607</td>\n",
              "            </tr>\n",
              "            <tr>\n",
              "                        <th id=\"T_f9727268_49be_11eb_a02e_0242ac1c0002level0_row6\" class=\"row_heading level0 row6\" >accuracy</th>\n",
              "                        <td id=\"T_f9727268_49be_11eb_a02e_0242ac1c0002row6_col0\" class=\"data row6 col0\" >0.349122</td>\n",
              "                        <td id=\"T_f9727268_49be_11eb_a02e_0242ac1c0002row6_col1\" class=\"data row6 col1\" >0.349122</td>\n",
              "                        <td id=\"T_f9727268_49be_11eb_a02e_0242ac1c0002row6_col2\" class=\"data row6 col2\" >0.349122</td>\n",
              "                        <td id=\"T_f9727268_49be_11eb_a02e_0242ac1c0002row6_col3\" class=\"data row6 col3\" >0</td>\n",
              "            </tr>\n",
              "            <tr>\n",
              "                        <th id=\"T_f9727268_49be_11eb_a02e_0242ac1c0002level0_row7\" class=\"row_heading level0 row7\" >macro avg</th>\n",
              "                        <td id=\"T_f9727268_49be_11eb_a02e_0242ac1c0002row7_col0\" class=\"data row7 col0\" >0.446224</td>\n",
              "                        <td id=\"T_f9727268_49be_11eb_a02e_0242ac1c0002row7_col1\" class=\"data row7 col1\" >0.303457</td>\n",
              "                        <td id=\"T_f9727268_49be_11eb_a02e_0242ac1c0002row7_col2\" class=\"data row7 col2\" >0.290852</td>\n",
              "                        <td id=\"T_f9727268_49be_11eb_a02e_0242ac1c0002row7_col3\" class=\"data row7 col3\" >3589</td>\n",
              "            </tr>\n",
              "            <tr>\n",
              "                        <th id=\"T_f9727268_49be_11eb_a02e_0242ac1c0002level0_row8\" class=\"row_heading level0 row8\" >weighted avg</th>\n",
              "                        <td id=\"T_f9727268_49be_11eb_a02e_0242ac1c0002row8_col0\" class=\"data row8 col0\" >0.416317</td>\n",
              "                        <td id=\"T_f9727268_49be_11eb_a02e_0242ac1c0002row8_col1\" class=\"data row8 col1\" >0.349122</td>\n",
              "                        <td id=\"T_f9727268_49be_11eb_a02e_0242ac1c0002row8_col2\" class=\"data row8 col2\" >0.295061</td>\n",
              "                        <td id=\"T_f9727268_49be_11eb_a02e_0242ac1c0002row8_col3\" class=\"data row8 col3\" >3589</td>\n",
              "            </tr>\n",
              "    </tbody></table>"
            ],
            "text/plain": [
              "<pandas.io.formats.style.Styler at 0x7efff14be908>"
            ]
          },
          "metadata": {
            "tags": []
          },
          "execution_count": 24
        }
      ]
    },
    {
      "cell_type": "code",
      "metadata": {
        "id": "MIKbDgRT0GGe"
      },
      "source": [
        ""
      ],
      "execution_count": null,
      "outputs": []
    }
  ]
}