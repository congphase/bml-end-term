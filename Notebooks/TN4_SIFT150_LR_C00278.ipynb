{
  "nbformat": 4,
  "nbformat_minor": 0,
  "metadata": {
    "colab": {
      "name": "TN4_SIFT150_LR_C00278.ipynb",
      "provenance": [],
      "collapsed_sections": [],
      "toc_visible": true
    },
    "kernelspec": {
      "name": "python3",
      "display_name": "Python 3"
    }
  },
  "cells": [
    {
      "cell_type": "code",
      "metadata": {
        "id": "PL21Mz5-OeDg",
        "colab": {
          "base_uri": "https://localhost:8080/"
        },
        "outputId": "45464463-d39e-49eb-b6d7-762ad5035f29"
      },
      "source": [
        "# Mount \"My Drive\" into /content/drive\r\n",
        "from google.colab import drive\r\n",
        "\r\n",
        "google_drive_dir = \"Final_project\"  # @param\r\n",
        "#bml-notebooks/\r\n",
        "drive.mount('/content/drive')\r\n",
        "\r\n",
        "mount_point = \"/content/drive/My Drive/{}\".format(google_drive_dir)\r\n",
        "\r\n",
        "# Change the root directory to your mount_point\r\n",
        "% cd '$mount_point'"
      ],
      "execution_count": 1,
      "outputs": [
        {
          "output_type": "stream",
          "text": [
            "Drive already mounted at /content/drive; to attempt to forcibly remount, call drive.mount(\"/content/drive\", force_remount=True).\n",
            "/content/drive/.shortcut-targets-by-id/1uHceact8nZzLehIO7J8WmUhJnJWKOf8w/Final_project\n"
          ],
          "name": "stdout"
        }
      ]
    },
    {
      "cell_type": "markdown",
      "metadata": {
        "id": "qUCjqlGGYWG5"
      },
      "source": [
        "# Downgrade opencv"
      ]
    },
    {
      "cell_type": "code",
      "metadata": {
        "id": "q2O722__dAmL"
      },
      "source": [
        "import cv2\r\n",
        "if cv2.__version__[0] == '4':\r\n",
        "    !pip uninstall opencv-python -y\r\n",
        "    #downgrade OpenCV a bit since some none-free features are not avilable\r\n",
        "    !pip install opencv-contrib-python==3.4.2.17 --force-reinstall"
      ],
      "execution_count": 2,
      "outputs": []
    },
    {
      "cell_type": "markdown",
      "metadata": {
        "papermill": {
          "duration": 0.044808,
          "end_time": "2020-12-18T22:02:11.416442",
          "exception": false,
          "start_time": "2020-12-18T22:02:11.371634",
          "status": "completed"
        },
        "tags": [],
        "id": "eI1PdIKtLrpv"
      },
      "source": [
        "# <span style=\"color: royalblue;\">Load Data</span>\n",
        "Load the image data with labels."
      ]
    },
    {
      "cell_type": "code",
      "metadata": {
        "id": "HM1rN5gqd5aG"
      },
      "source": [
        "from src.loadData import loadFer2013\r\n",
        "from keras.utils import to_categorical"
      ],
      "execution_count": 3,
      "outputs": []
    },
    {
      "cell_type": "code",
      "metadata": {
        "id": "ct5pobN6eBgW",
        "colab": {
          "base_uri": "https://localhost:8080/"
        },
        "outputId": "f0eff495-c1c0-40ab-a7b9-f506c070e091"
      },
      "source": [
        "X_train,X_val,X_test,y_train,y_val,y_test = loadFer2013('fer2013/icml_face_data.csv')\r\n",
        "\r\n",
        "y_train_onehot = to_categorical(y_train)\r\n",
        "y_val_onehot = to_categorical(y_val)\r\n",
        "y_test_onehot = to_categorical(y_test)"
      ],
      "execution_count": 4,
      "outputs": [
        {
          "output_type": "stream",
          "text": [
            "/content/drive/.shortcut-targets-by-id/1uHceact8nZzLehIO7J8WmUhJnJWKOf8w/Final_project/src/loadData.py:23: SettingWithCopyWarning: \n",
            "A value is trying to be set on a copy of a slice from a DataFrame\n",
            "\n",
            "See the caveats in the documentation: https://pandas.pydata.org/pandas-docs/stable/user_guide/indexing.html#returning-a-view-versus-a-copy\n",
            "  data['emotion'][data['emotion']>1]-=1\n"
          ],
          "name": "stderr"
        }
      ]
    },
    {
      "cell_type": "code",
      "metadata": {
        "id": "1qZ7W3Pfh6-j",
        "colab": {
          "base_uri": "https://localhost:8080/"
        },
        "outputId": "1926caad-34ec-4e6a-8128-b7107d8a23e3"
      },
      "source": [
        "y_train_onehot.shape, y_val_onehot.shape, y_test_onehot.shape"
      ],
      "execution_count": 5,
      "outputs": [
        {
          "output_type": "execute_result",
          "data": {
            "text/plain": [
              "((28709, 6), (3589, 6), (3589, 6))"
            ]
          },
          "metadata": {
            "tags": []
          },
          "execution_count": 5
        }
      ]
    },
    {
      "cell_type": "code",
      "metadata": {
        "id": "jncS-WGXfb2j",
        "colab": {
          "base_uri": "https://localhost:8080/"
        },
        "outputId": "04aceb80-61b4-431e-d565-4efc584c8f29"
      },
      "source": [
        "X_train.shape, y_train.shape"
      ],
      "execution_count": 6,
      "outputs": [
        {
          "output_type": "execute_result",
          "data": {
            "text/plain": [
              "((28709, 48, 48), (28709,))"
            ]
          },
          "metadata": {
            "tags": []
          },
          "execution_count": 6
        }
      ]
    },
    {
      "cell_type": "code",
      "metadata": {
        "id": "Nt9oKq3mo60M"
      },
      "source": [
        "emotions = {0: 'Angry', 1:'Fear', 2: 'Happy', 3: 'Sad', 4: 'Surprise', 5: 'Neutral'}"
      ],
      "execution_count": 7,
      "outputs": []
    },
    {
      "cell_type": "code",
      "metadata": {
        "id": "sIHHtenVug_E",
        "colab": {
          "base_uri": "https://localhost:8080/"
        },
        "outputId": "884d020c-ebba-465d-868d-3e8097031b57"
      },
      "source": [
        "class_names = list(emotions.values())\r\n",
        "class_names"
      ],
      "execution_count": 8,
      "outputs": [
        {
          "output_type": "execute_result",
          "data": {
            "text/plain": [
              "['Angry', 'Fear', 'Happy', 'Sad', 'Surprise', 'Neutral']"
            ]
          },
          "metadata": {
            "tags": []
          },
          "execution_count": 8
        }
      ]
    },
    {
      "cell_type": "markdown",
      "metadata": {
        "id": "2NbdB64SdEET"
      },
      "source": [
        "# Extract features"
      ]
    },
    {
      "cell_type": "code",
      "metadata": {
        "id": "uFKdTq_hQTYH"
      },
      "source": [
        "from src.extractFeatures import *"
      ],
      "execution_count": 9,
      "outputs": []
    },
    {
      "cell_type": "code",
      "metadata": {
        "id": "b4X5PB-xjInU",
        "colab": {
          "base_uri": "https://localhost:8080/"
        },
        "outputId": "7623a70d-8f82-48e3-da1f-5079ceeee95b"
      },
      "source": [
        "\r\n",
        "X_descriptors_train = extract_sift_features(X_train)\r\n",
        "X_descriptors_val = extract_sift_features(X_val)\r\n",
        "for i in range(10):\r\n",
        "    print('Image {} has {} descriptors'.format(i, len(X_descriptors_train[i])))"
      ],
      "execution_count": 10,
      "outputs": [
        {
          "output_type": "stream",
          "text": [
            "Image 0 has 24 descriptors\n",
            "Image 1 has 36 descriptors\n",
            "Image 2 has 25 descriptors\n",
            "Image 3 has 26 descriptors\n",
            "Image 4 has 27 descriptors\n",
            "Image 5 has 25 descriptors\n",
            "Image 6 has 23 descriptors\n",
            "Image 7 has 20 descriptors\n",
            "Image 8 has 25 descriptors\n",
            "Image 9 has 26 descriptors\n"
          ],
          "name": "stdout"
        }
      ]
    },
    {
      "cell_type": "code",
      "metadata": {
        "id": "jR680Cddr2VZ",
        "colab": {
          "base_uri": "https://localhost:8080/"
        },
        "outputId": "6074abd3-53a9-41de-ae10-dd98104c704a"
      },
      "source": [
        "import time\r\n",
        "num_clusters = 150\r\n",
        "X_descriptors = X_descriptors_train+X_descriptors_val\r\n",
        "print(len(X_descriptors))\r\n",
        "st = time.time()\r\n",
        "bow_dict = create_BoWSIFTfeature(X_descriptors,num_clusters)\r\n",
        "en = time.time()\r\n",
        "print(\"time\",en-st)\r\n",
        "X_features = create_features_bow(X_descriptors, bow_dict, num_clusters)"
      ],
      "execution_count": 11,
      "outputs": [
        {
          "output_type": "stream",
          "text": [
            "32298\n",
            "Done load available result\n",
            "time 0.7385761737823486\n"
          ],
          "name": "stdout"
        }
      ]
    },
    {
      "cell_type": "code",
      "metadata": {
        "id": "rdo5sQTyuZSJ",
        "colab": {
          "base_uri": "https://localhost:8080/"
        },
        "outputId": "38b55d7e-14a8-4363-be14-54a997e9dd33"
      },
      "source": [
        "\r\n",
        "len(X_features)"
      ],
      "execution_count": 12,
      "outputs": [
        {
          "output_type": "execute_result",
          "data": {
            "text/plain": [
              "32298"
            ]
          },
          "metadata": {
            "tags": []
          },
          "execution_count": 12
        }
      ]
    },
    {
      "cell_type": "markdown",
      "metadata": {
        "id": "4_4gqGDmuWTz"
      },
      "source": [
        "# Classification"
      ]
    },
    {
      "cell_type": "code",
      "metadata": {
        "colab": {
          "base_uri": "https://localhost:8080/"
        },
        "id": "hbCZYBOZuWT2",
        "outputId": "44cc00b1-1d28-474f-a1a8-231115c2cf10"
      },
      "source": [
        "from sklearn.linear_model import LogisticRegression\r\n",
        "y_label = np.hstack((y_train,y_val))\r\n",
        "y_label.shape"
      ],
      "execution_count": 13,
      "outputs": [
        {
          "output_type": "execute_result",
          "data": {
            "text/plain": [
              "(32298,)"
            ]
          },
          "metadata": {
            "tags": []
          },
          "execution_count": 13
        }
      ]
    },
    {
      "cell_type": "markdown",
      "metadata": {
        "id": "iuwSKB9w7sLO"
      },
      "source": [
        "#GridSearch"
      ]
    },
    {
      "cell_type": "code",
      "metadata": {
        "id": "B6J7rV4w7wuz"
      },
      "source": [
        "from sklearn.model_selection import GridSearchCV\r\n",
        "parameters = {'C':np.logspace(-10, 1, 100)}\r\n",
        "logis_model = LogisticRegression(max_iter=1000)\r\n",
        "clf = GridSearchCV(logis_model, parameters)\r\n",
        "clf.fit(X_features, y_label)"
      ],
      "execution_count": null,
      "outputs": []
    },
    {
      "cell_type": "code",
      "metadata": {
        "id": "RPCKvn_jwszR"
      },
      "source": [
        "import pickle\r\n",
        "pickle.dump(clf, open('saved_model/sift150_logis_c00278.pkl', 'wb'))"
      ],
      "execution_count": null,
      "outputs": []
    },
    {
      "cell_type": "code",
      "metadata": {
        "id": "_6qpKRlCX8ah"
      },
      "source": [
        "import pickle\r\n",
        "clf = pickle.load(open('saved_model/sift150_logis_c00278.pkl','rb'))"
      ],
      "execution_count": null,
      "outputs": []
    },
    {
      "cell_type": "code",
      "metadata": {
        "colab": {
          "base_uri": "https://localhost:8080/"
        },
        "id": "C0dlS1na2b5p",
        "outputId": "c4c78039-3376-4412-ad62-1c53b1ca1b8e"
      },
      "source": [
        "model = LogisticRegression(C=0.00278,max_iter=1000,verbose=0)\r\n",
        "\r\n",
        "st= time.time()\r\n",
        "model.fit(X_features, y_label)\r\n",
        "print(time.time()-st)\r\n",
        "model.score(X_features, y_label)"
      ],
      "execution_count": 17,
      "outputs": [
        {
          "output_type": "stream",
          "text": [
            "2.2863802909851074\n"
          ],
          "name": "stdout"
        },
        {
          "output_type": "execute_result",
          "data": {
            "text/plain": [
              "0.30299089726918077"
            ]
          },
          "metadata": {
            "tags": []
          },
          "execution_count": 17
        }
      ]
    },
    {
      "cell_type": "markdown",
      "metadata": {
        "id": "S78mfEowgWu8"
      },
      "source": [
        "#Evaluation"
      ]
    },
    {
      "cell_type": "code",
      "metadata": {
        "id": "7yYiGsmt6AIK",
        "colab": {
          "base_uri": "https://localhost:8080/"
        },
        "outputId": "8d2601f1-ff91-40ba-d67b-4bd40407ff83"
      },
      "source": [
        "import pickle\r\n",
        "\r\n",
        "num_clusters = 150\r\n",
        "bow_dict = pickle.load(open('BoW_data/bow_dict_{}.pkl'.format(num_clusters), 'rb'))\r\n",
        "\r\n",
        "X_descriptors_test = extract_sift_features(X_test)\r\n",
        "X_features_test = create_features_bow(X_descriptors_test, bow_dict,num_clusters )\r\n",
        "y_pred = model.predict(X_features_test)\r\n",
        "\r\n",
        "print(model.score(X_features_test,y_test))"
      ],
      "execution_count": null,
      "outputs": [
        {
          "output_type": "stream",
          "text": [
            "0.2984118138757314\n"
          ],
          "name": "stdout"
        }
      ]
    }
  ]
}