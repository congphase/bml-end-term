{
  "nbformat": 4,
  "nbformat_minor": 0,
  "metadata": {
    "colab": {
      "name": "TN11_eigenFace_SVM_C1.ipynb",
      "provenance": [],
      "collapsed_sections": []
    },
    "kernelspec": {
      "name": "python3",
      "display_name": "Python 3"
    }
  },
  "cells": [
    {
      "cell_type": "code",
      "metadata": {
        "id": "PL21Mz5-OeDg",
        "colab": {
          "base_uri": "https://localhost:8080/"
        },
        "outputId": "47608235-6a68-40fd-826d-65141eb15c64"
      },
      "source": [
        "# Mount \"My Drive\" into /content/drive\r\n",
        "from google.colab import drive\r\n",
        "\r\n",
        "google_drive_dir = \"Final_project\"  # @param\r\n",
        "#bml-notebooks/\r\n",
        "drive.mount('/content/drive')\r\n",
        "\r\n",
        "mount_point = \"/content/drive/My Drive/{}\".format(google_drive_dir)\r\n",
        "\r\n",
        "# Change the root directory to your mount_point\r\n",
        "% cd '$mount_point'"
      ],
      "execution_count": 1,
      "outputs": [
        {
          "output_type": "stream",
          "text": [
            "Mounted at /content/drive\n",
            "/content/drive/.shortcut-targets-by-id/1uHceact8nZzLehIO7J8WmUhJnJWKOf8w/Final_project\n"
          ],
          "name": "stdout"
        }
      ]
    },
    {
      "cell_type": "markdown",
      "metadata": {
        "papermill": {
          "duration": 0.044808,
          "end_time": "2020-12-18T22:02:11.416442",
          "exception": false,
          "start_time": "2020-12-18T22:02:11.371634",
          "status": "completed"
        },
        "tags": [],
        "id": "eI1PdIKtLrpv"
      },
      "source": [
        "# <span style=\"color: royalblue;\">Load Data</span>\n",
        "Load the image data with labels."
      ]
    },
    {
      "cell_type": "code",
      "metadata": {
        "id": "HM1rN5gqd5aG"
      },
      "source": [
        "import numpy as np\r\n",
        "from src.loadData import loadFer2013\r\n",
        "from keras.utils import to_categorical\r\n"
      ],
      "execution_count": 2,
      "outputs": []
    },
    {
      "cell_type": "code",
      "metadata": {
        "id": "ct5pobN6eBgW",
        "colab": {
          "base_uri": "https://localhost:8080/"
        },
        "outputId": "ce8d71eb-8cde-4d1f-d080-7a2c95385f56"
      },
      "source": [
        "X_train,X_val,X_test,y_train,y_val,y_test = loadFer2013('fer2013/icml_face_data.csv')\r\n",
        "\r\n",
        "y_train_onehot = to_categorical(y_train)\r\n",
        "y_val_onehot = to_categorical(y_val)\r\n",
        "y_test_onehot = to_categorical(y_test)"
      ],
      "execution_count": 3,
      "outputs": [
        {
          "output_type": "stream",
          "text": [
            "/content/drive/.shortcut-targets-by-id/1uHceact8nZzLehIO7J8WmUhJnJWKOf8w/Final_project/src/loadData.py:23: SettingWithCopyWarning: \n",
            "A value is trying to be set on a copy of a slice from a DataFrame\n",
            "\n",
            "See the caveats in the documentation: https://pandas.pydata.org/pandas-docs/stable/user_guide/indexing.html#returning-a-view-versus-a-copy\n",
            "  data['emotion'][data['emotion']>1]-=1\n"
          ],
          "name": "stderr"
        }
      ]
    },
    {
      "cell_type": "code",
      "metadata": {
        "id": "1qZ7W3Pfh6-j",
        "colab": {
          "base_uri": "https://localhost:8080/"
        },
        "outputId": "4c0e95d2-5265-4158-adb5-8ba1f9af6689"
      },
      "source": [
        "y_train_onehot.shape, y_val_onehot.shape, y_test_onehot.shape"
      ],
      "execution_count": 4,
      "outputs": [
        {
          "output_type": "execute_result",
          "data": {
            "text/plain": [
              "((28709, 6), (3589, 6), (3589, 6))"
            ]
          },
          "metadata": {
            "tags": []
          },
          "execution_count": 4
        }
      ]
    },
    {
      "cell_type": "code",
      "metadata": {
        "id": "jncS-WGXfb2j",
        "colab": {
          "base_uri": "https://localhost:8080/"
        },
        "outputId": "ba91b595-39b0-4064-c66a-45dec23c3e5e"
      },
      "source": [
        "X_train.shape, y_train.shape"
      ],
      "execution_count": 5,
      "outputs": [
        {
          "output_type": "execute_result",
          "data": {
            "text/plain": [
              "((28709, 48, 48), (28709,))"
            ]
          },
          "metadata": {
            "tags": []
          },
          "execution_count": 5
        }
      ]
    },
    {
      "cell_type": "code",
      "metadata": {
        "id": "Nt9oKq3mo60M"
      },
      "source": [
        "emotions = {0: 'Angry', 1:'Fear', 2: 'Happy', 3: 'Sad', 4: 'Surprise', 5: 'Neutral'}"
      ],
      "execution_count": 6,
      "outputs": []
    },
    {
      "cell_type": "code",
      "metadata": {
        "id": "sIHHtenVug_E",
        "colab": {
          "base_uri": "https://localhost:8080/"
        },
        "outputId": "31209115-585d-45ff-e9ee-b4dbdf0ff4be"
      },
      "source": [
        "class_names = list(emotions.values())\r\n",
        "class_names"
      ],
      "execution_count": 7,
      "outputs": [
        {
          "output_type": "execute_result",
          "data": {
            "text/plain": [
              "['Angry', 'Fear', 'Happy', 'Sad', 'Surprise', 'Neutral']"
            ]
          },
          "metadata": {
            "tags": []
          },
          "execution_count": 7
        }
      ]
    },
    {
      "cell_type": "markdown",
      "metadata": {
        "id": "2NbdB64SdEET"
      },
      "source": [
        "# Extract features"
      ]
    },
    {
      "cell_type": "code",
      "metadata": {
        "colab": {
          "base_uri": "https://localhost:8080/"
        },
        "id": "cACftFjWeuYn",
        "outputId": "0d21f1ca-a568-4d5f-d22b-ff649712cc71"
      },
      "source": [
        "X_val.shape"
      ],
      "execution_count": 11,
      "outputs": [
        {
          "output_type": "execute_result",
          "data": {
            "text/plain": [
              "(3589, 48, 48)"
            ]
          },
          "metadata": {
            "tags": []
          },
          "execution_count": 11
        }
      ]
    },
    {
      "cell_type": "code",
      "metadata": {
        "colab": {
          "base_uri": "https://localhost:8080/"
        },
        "id": "mPyF9I_Wewia",
        "outputId": "49f22ea5-a13b-41a4-b5fa-a8876c3a3f64"
      },
      "source": [
        "X_data = np.vstack((X_train,X_val))\r\n",
        "X_data.shape"
      ],
      "execution_count": 12,
      "outputs": [
        {
          "output_type": "execute_result",
          "data": {
            "text/plain": [
              "(32298, 48, 48)"
            ]
          },
          "metadata": {
            "tags": []
          },
          "execution_count": 12
        }
      ]
    },
    {
      "cell_type": "code",
      "metadata": {
        "id": "uFKdTq_hQTYH",
        "colab": {
          "base_uri": "https://localhost:8080/"
        },
        "outputId": "fc547f0c-2ff4-4bef-a830-584af451b1cf"
      },
      "source": [
        "X_data = X_data.reshape(32298,-1)\r\n",
        "X_data.shape"
      ],
      "execution_count": 13,
      "outputs": [
        {
          "output_type": "execute_result",
          "data": {
            "text/plain": [
              "(32298, 2304)"
            ]
          },
          "metadata": {
            "tags": []
          },
          "execution_count": 13
        }
      ]
    },
    {
      "cell_type": "code",
      "metadata": {
        "colab": {
          "base_uri": "https://localhost:8080/"
        },
        "id": "d2aXGbsmJNdz",
        "outputId": "69d5a52f-e6e8-4e42-df98-391df837ae7a"
      },
      "source": [
        "X_test.shape"
      ],
      "execution_count": 14,
      "outputs": [
        {
          "output_type": "execute_result",
          "data": {
            "text/plain": [
              "(3589, 48, 48)"
            ]
          },
          "metadata": {
            "tags": []
          },
          "execution_count": 14
        }
      ]
    },
    {
      "cell_type": "code",
      "metadata": {
        "colab": {
          "base_uri": "https://localhost:8080/"
        },
        "id": "Xhlb13xnLmDF",
        "outputId": "dd03bca6-a581-4f23-860f-dd87f928e32b"
      },
      "source": [
        "h,w = X_train[0].shape\r\n",
        "h,w"
      ],
      "execution_count": 15,
      "outputs": [
        {
          "output_type": "execute_result",
          "data": {
            "text/plain": [
              "(48, 48)"
            ]
          },
          "metadata": {
            "tags": []
          },
          "execution_count": 15
        }
      ]
    },
    {
      "cell_type": "code",
      "metadata": {
        "colab": {
          "base_uri": "https://localhost:8080/"
        },
        "id": "MTuYmAqQIfXZ",
        "outputId": "0e934b29-03ad-418d-9f72-e599c9da4b03"
      },
      "source": [
        "import time\r\n",
        "from sklearn.decomposition import PCA\r\n",
        "\r\n",
        "n_components = 150\r\n",
        "\r\n",
        "print(\"Extracting the top %d eigenfaces from %d faces\"\r\n",
        "      % (n_components, X_data.shape[0]))\r\n",
        "t0 = time.time()\r\n",
        "pca = PCA(n_components=n_components, svd_solver='randomized',\r\n",
        "          whiten=True).fit(X_data)\r\n",
        "print(\"done in %0.3fs\" % (time.time() - t0))\r\n",
        "\r\n",
        "eigenfaces = pca.components_.reshape((n_components, h, w))\r\n",
        "\r\n",
        "print(\"Projecting the input data on the eigenfaces orthonormal basis\")\r\n",
        "t0 = time.time()\r\n",
        "X_train_pca = pca.transform(X_data)\r\n",
        "X_test_pca = pca.transform(X_test.reshape(3589,-1))\r\n",
        "print(\"done in %0.3fs\" % (time.time() - t0))"
      ],
      "execution_count": 16,
      "outputs": [
        {
          "output_type": "stream",
          "text": [
            "Extracting the top 150 eigenfaces from 32298 faces\n",
            "done in 15.784s\n",
            "Projecting the input data on the eigenfaces orthonormal basis\n",
            "done in 1.088s\n"
          ],
          "name": "stdout"
        }
      ]
    },
    {
      "cell_type": "code",
      "metadata": {
        "id": "y6qcfnPYMkzM",
        "colab": {
          "base_uri": "https://localhost:8080/"
        },
        "outputId": "a41c5305-cf8a-4459-c0c0-5f591c736d5e"
      },
      "source": [
        "X_train_pca.shape"
      ],
      "execution_count": 17,
      "outputs": [
        {
          "output_type": "execute_result",
          "data": {
            "text/plain": [
              "(32298, 150)"
            ]
          },
          "metadata": {
            "tags": []
          },
          "execution_count": 17
        }
      ]
    },
    {
      "cell_type": "markdown",
      "metadata": {
        "id": "SJNQMRqApWJb"
      },
      "source": [
        "# SVM Classification"
      ]
    },
    {
      "cell_type": "code",
      "metadata": {
        "colab": {
          "base_uri": "https://localhost:8080/"
        },
        "id": "OOkO4AaKO_Yg",
        "outputId": "ef8031d4-2e50-4e25-aff7-40db5c38a2e5"
      },
      "source": [
        "\r\n",
        "y_label = np.vstack((y_train_onehot,y_val_onehot))\r\n",
        "y_label.shape"
      ],
      "execution_count": 19,
      "outputs": [
        {
          "output_type": "execute_result",
          "data": {
            "text/plain": [
              "(32298, 6)"
            ]
          },
          "metadata": {
            "tags": []
          },
          "execution_count": 19
        }
      ]
    },
    {
      "cell_type": "code",
      "metadata": {
        "id": "VjkHVVSRf-fo"
      },
      "source": [
        "from sklearn.svm import SVC\r\n",
        "svm=SVC(kernel='rbf', class_weight='balanced',C=1)\r\n",
        "st = time.time()\r\n",
        "svm.fit(X_train_pca, y_label)\r\n",
        "print(time.time()-st)\r\n",
        "svm.score(X_train_pca, y_label)"
      ],
      "execution_count": null,
      "outputs": []
    },
    {
      "cell_type": "markdown",
      "metadata": {
        "id": "S78mfEowgWu8"
      },
      "source": [
        "#Evaluation"
      ]
    },
    {
      "cell_type": "code",
      "metadata": {
        "id": "BxthX5Y-k7QU"
      },
      "source": [
        "import pickle\r\n",
        "svm = pickle.load(open('saved_model/eignface_svmC1.pkl', 'rb'))"
      ],
      "execution_count": 23,
      "outputs": []
    },
    {
      "cell_type": "code",
      "metadata": {
        "colab": {
          "base_uri": "https://localhost:8080/"
        },
        "id": "kZS51cm4bKcs",
        "outputId": "9a23501b-45d6-41c8-d9b1-742daabf1af0"
      },
      "source": [
        "# Quantitative evaluation of the model quality on the test set\r\n",
        "from sklearn.metrics import classification_report\r\n",
        "from sklearn.metrics import confusion_matrix\r\n",
        "\r\n",
        "print(\"Predicting people's names on the test set\")\r\n",
        "t0 = time.time()\r\n",
        "y_pred = svm.predict(X_test_pca)\r\n",
        "print(\"done in %0.3fs\" % (time.time() - t0))\r\n",
        "\r\n",
        "print(classification_report(y_test, y_pred, target_names=class_names))\r\n",
        "print(confusion_matrix(y_test, y_pred, labels=range(len(class_names))))"
      ],
      "execution_count": 24,
      "outputs": [
        {
          "output_type": "stream",
          "text": [
            "Predicting people's names on the test set\n",
            "done in 32.136s\n",
            "              precision    recall  f1-score   support\n",
            "\n",
            "       Angry       0.29      0.29      0.29       467\n",
            "        Fear       0.40      0.34      0.37       552\n",
            "       Happy       0.60      0.60      0.60       895\n",
            "         Sad       0.37      0.39      0.38       653\n",
            "    Surprise       0.65      0.62      0.63       415\n",
            "     Neutral       0.40      0.45      0.42       607\n",
            "\n",
            "    accuracy                           0.46      3589\n",
            "   macro avg       0.45      0.45      0.45      3589\n",
            "weighted avg       0.46      0.46      0.46      3589\n",
            "\n",
            "[[137  58  94  91  22  65]\n",
            " [ 75 189  68  98  44  78]\n",
            " [ 74  50 541 104  26 100]\n",
            " [ 95  76  78 253  24 127]\n",
            " [ 23  44  28  31 257  32]\n",
            " [ 68  54  88 102  24 271]]\n"
          ],
          "name": "stdout"
        }
      ]
    },
    {
      "cell_type": "code",
      "metadata": {
        "colab": {
          "base_uri": "https://localhost:8080/"
        },
        "id": "vczTRunJkihz",
        "outputId": "478239de-a22a-49a8-cbdf-48763b0e1cf8"
      },
      "source": [
        "from sklearn import metrics\r\n",
        "print(metrics.accuracy_score(y_test, y_pred))\r\n",
        "print(metrics.f1_score(y_test, y_pred,average='micro'))\r\n"
      ],
      "execution_count": 25,
      "outputs": [
        {
          "output_type": "stream",
          "text": [
            "0.4591808303148509\n",
            "0.4591808303148509\n"
          ],
          "name": "stdout"
        }
      ]
    },
    {
      "cell_type": "code",
      "metadata": {
        "id": "SF8g0cKweGyS"
      },
      "source": [
        ""
      ],
      "execution_count": null,
      "outputs": []
    }
  ]
}