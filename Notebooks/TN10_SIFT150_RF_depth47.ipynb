{
  "nbformat": 4,
  "nbformat_minor": 0,
  "metadata": {
    "colab": {
      "name": "TN10_SIFT150_RF_depth47.ipynb",
      "provenance": [],
      "collapsed_sections": [],
      "toc_visible": true
    },
    "kernelspec": {
      "name": "python3",
      "display_name": "Python 3"
    }
  },
  "cells": [
    {
      "cell_type": "code",
      "metadata": {
        "id": "PL21Mz5-OeDg",
        "colab": {
          "base_uri": "https://localhost:8080/"
        },
        "outputId": "0d5ce8c1-6edc-440b-b3af-0f1574c9d5cf"
      },
      "source": [
        "# Mount \"My Drive\" into /content/drive\r\n",
        "from google.colab import drive\r\n",
        "\r\n",
        "google_drive_dir = \"Final_project\"  # @param\r\n",
        "#bml-notebooks/\r\n",
        "drive.mount('/content/drive')\r\n",
        "\r\n",
        "mount_point = \"/content/drive/My Drive/{}\".format(google_drive_dir)\r\n",
        "\r\n",
        "# Change the root directory to your mount_point\r\n",
        "% cd '$mount_point'"
      ],
      "execution_count": 1,
      "outputs": [
        {
          "output_type": "stream",
          "text": [
            "Drive already mounted at /content/drive; to attempt to forcibly remount, call drive.mount(\"/content/drive\", force_remount=True).\n",
            "/content/drive/.shortcut-targets-by-id/1uHceact8nZzLehIO7J8WmUhJnJWKOf8w/Final_project\n"
          ],
          "name": "stdout"
        }
      ]
    },
    {
      "cell_type": "markdown",
      "metadata": {
        "id": "qUCjqlGGYWG5"
      },
      "source": [
        "# Downgrade opencv"
      ]
    },
    {
      "cell_type": "code",
      "metadata": {
        "id": "q2O722__dAmL"
      },
      "source": [
        "import cv2\r\n",
        "if cv2.__version__[0] == '4':\r\n",
        "    !pip uninstall opencv-python -y\r\n",
        "    #downgrade OpenCV a bit since some none-free features are not avilable\r\n",
        "    !pip install opencv-contrib-python==3.4.2.17 --force-reinstall"
      ],
      "execution_count": 2,
      "outputs": []
    },
    {
      "cell_type": "markdown",
      "metadata": {
        "papermill": {
          "duration": 0.044808,
          "end_time": "2020-12-18T22:02:11.416442",
          "exception": false,
          "start_time": "2020-12-18T22:02:11.371634",
          "status": "completed"
        },
        "tags": [],
        "id": "eI1PdIKtLrpv"
      },
      "source": [
        "# <span style=\"color: royalblue;\">Load Data</span>\n",
        "Load the image data with labels."
      ]
    },
    {
      "cell_type": "code",
      "metadata": {
        "id": "HM1rN5gqd5aG"
      },
      "source": [
        "from src.loadData import loadFer2013\r\n",
        "from keras.utils import to_categorical"
      ],
      "execution_count": 3,
      "outputs": []
    },
    {
      "cell_type": "code",
      "metadata": {
        "id": "ct5pobN6eBgW",
        "colab": {
          "base_uri": "https://localhost:8080/"
        },
        "outputId": "f826d5a1-b074-4672-957c-3ee2b55cdda2"
      },
      "source": [
        "X_train,X_val,X_test,y_train,y_val,y_test = loadFer2013('fer2013/icml_face_data.csv')\r\n",
        "\r\n",
        "y_train_onehot = to_categorical(y_train)\r\n",
        "y_val_onehot = to_categorical(y_val)\r\n",
        "y_test_onehot = to_categorical(y_test)"
      ],
      "execution_count": 4,
      "outputs": [
        {
          "output_type": "stream",
          "text": [
            "/content/drive/.shortcut-targets-by-id/1uHceact8nZzLehIO7J8WmUhJnJWKOf8w/Final_project/src/loadData.py:23: SettingWithCopyWarning: \n",
            "A value is trying to be set on a copy of a slice from a DataFrame\n",
            "\n",
            "See the caveats in the documentation: https://pandas.pydata.org/pandas-docs/stable/user_guide/indexing.html#returning-a-view-versus-a-copy\n",
            "  data['emotion'][data['emotion']>1]-=1\n"
          ],
          "name": "stderr"
        }
      ]
    },
    {
      "cell_type": "code",
      "metadata": {
        "id": "1qZ7W3Pfh6-j",
        "colab": {
          "base_uri": "https://localhost:8080/"
        },
        "outputId": "11aac0f0-f62e-4736-cfc2-b9f5961a6def"
      },
      "source": [
        "y_train_onehot.shape, y_val_onehot.shape, y_test_onehot.shape"
      ],
      "execution_count": 5,
      "outputs": [
        {
          "output_type": "execute_result",
          "data": {
            "text/plain": [
              "((28709, 6), (3589, 6), (3589, 6))"
            ]
          },
          "metadata": {
            "tags": []
          },
          "execution_count": 5
        }
      ]
    },
    {
      "cell_type": "code",
      "metadata": {
        "id": "jncS-WGXfb2j",
        "colab": {
          "base_uri": "https://localhost:8080/"
        },
        "outputId": "912204d1-627c-4e18-ef0d-83bc8333bdc8"
      },
      "source": [
        "X_train.shape, y_train.shape"
      ],
      "execution_count": 6,
      "outputs": [
        {
          "output_type": "execute_result",
          "data": {
            "text/plain": [
              "((28709, 48, 48), (28709,))"
            ]
          },
          "metadata": {
            "tags": []
          },
          "execution_count": 6
        }
      ]
    },
    {
      "cell_type": "code",
      "metadata": {
        "id": "Nt9oKq3mo60M"
      },
      "source": [
        "emotions = {0: 'Angry', 1:'Fear', 2: 'Happy', 3: 'Sad', 4: 'Surprise', 5: 'Neutral'}"
      ],
      "execution_count": 7,
      "outputs": []
    },
    {
      "cell_type": "code",
      "metadata": {
        "id": "sIHHtenVug_E",
        "colab": {
          "base_uri": "https://localhost:8080/"
        },
        "outputId": "4b9fd768-b3ce-402e-d368-789039181c8e"
      },
      "source": [
        "class_names = list(emotions.values())\r\n",
        "class_names"
      ],
      "execution_count": 8,
      "outputs": [
        {
          "output_type": "execute_result",
          "data": {
            "text/plain": [
              "['Angry', 'Fear', 'Happy', 'Sad', 'Surprise', 'Neutral']"
            ]
          },
          "metadata": {
            "tags": []
          },
          "execution_count": 8
        }
      ]
    },
    {
      "cell_type": "markdown",
      "metadata": {
        "id": "2NbdB64SdEET"
      },
      "source": [
        "# Extract features"
      ]
    },
    {
      "cell_type": "code",
      "metadata": {
        "id": "uFKdTq_hQTYH"
      },
      "source": [
        "from src.extractFeatures import *"
      ],
      "execution_count": 9,
      "outputs": []
    },
    {
      "cell_type": "code",
      "metadata": {
        "id": "b4X5PB-xjInU",
        "colab": {
          "base_uri": "https://localhost:8080/"
        },
        "outputId": "f8515134-8bd7-4b20-8a87-9c152b3fdd04"
      },
      "source": [
        "\r\n",
        "X_descriptors_train = extract_sift_features(X_train)\r\n",
        "X_descriptors_val = extract_sift_features(X_val)\r\n",
        "for i in range(10):\r\n",
        "    print('Image {} has {} descriptors'.format(i, len(X_descriptors_train[i])))"
      ],
      "execution_count": 10,
      "outputs": [
        {
          "output_type": "stream",
          "text": [
            "Image 0 has 24 descriptors\n",
            "Image 1 has 36 descriptors\n",
            "Image 2 has 25 descriptors\n",
            "Image 3 has 26 descriptors\n",
            "Image 4 has 27 descriptors\n",
            "Image 5 has 25 descriptors\n",
            "Image 6 has 23 descriptors\n",
            "Image 7 has 20 descriptors\n",
            "Image 8 has 25 descriptors\n",
            "Image 9 has 26 descriptors\n"
          ],
          "name": "stdout"
        }
      ]
    },
    {
      "cell_type": "code",
      "metadata": {
        "id": "jR680Cddr2VZ",
        "colab": {
          "base_uri": "https://localhost:8080/"
        },
        "outputId": "710a2d88-d414-4945-8693-a5c2d70dbdf1"
      },
      "source": [
        "import time\r\n",
        "num_clusters = 150\r\n",
        "X_descriptors = X_descriptors_train+X_descriptors_val\r\n",
        "print(len(X_descriptors))\r\n",
        "st = time.time()\r\n",
        "bow_dict = create_BoWSIFTfeature(X_descriptors,num_clusters)\r\n",
        "en = time.time()\r\n",
        "print(\"time\",en-st)\r\n",
        "X_features = create_features_bow(X_descriptors, bow_dict, num_clusters)"
      ],
      "execution_count": 11,
      "outputs": [
        {
          "output_type": "stream",
          "text": [
            "32298\n",
            "Done load available result\n",
            "time 0.47838377952575684\n"
          ],
          "name": "stdout"
        }
      ]
    },
    {
      "cell_type": "code",
      "metadata": {
        "id": "rdo5sQTyuZSJ",
        "colab": {
          "base_uri": "https://localhost:8080/"
        },
        "outputId": "7a24cbc7-82f2-4328-c318-64d26ede28ff"
      },
      "source": [
        "len(X_features)"
      ],
      "execution_count": 12,
      "outputs": [
        {
          "output_type": "execute_result",
          "data": {
            "text/plain": [
              "32298"
            ]
          },
          "metadata": {
            "tags": []
          },
          "execution_count": 12
        }
      ]
    },
    {
      "cell_type": "markdown",
      "metadata": {
        "id": "SJNQMRqApWJb"
      },
      "source": [
        "# Random Forest Classification"
      ]
    },
    {
      "cell_type": "code",
      "metadata": {
        "id": "sP2IkhaMpY9k",
        "colab": {
          "base_uri": "https://localhost:8080/"
        },
        "outputId": "9190d77d-756c-4a82-907b-965778d326dd"
      },
      "source": [
        "from sklearn.ensemble import RandomForestClassifier\r\n",
        "\r\n",
        "y_label = np.hstack((y_train,y_val))\r\n",
        "y_label.shape"
      ],
      "execution_count": 13,
      "outputs": [
        {
          "output_type": "execute_result",
          "data": {
            "text/plain": [
              "(32298,)"
            ]
          },
          "metadata": {
            "tags": []
          },
          "execution_count": 13
        }
      ]
    },
    {
      "cell_type": "code",
      "metadata": {
        "colab": {
          "base_uri": "https://localhost:8080/"
        },
        "id": "n9-v21cT9hER",
        "outputId": "d3192696-4597-4b1a-da16-2ef26646cfd2"
      },
      "source": [
        "from sklearn.model_selection import GridSearchCV\r\n",
        "parameters = {'max_depth':depth}\r\n",
        "RF = RandomForestClassifier()\r\n",
        "\r\n",
        "clf = GridSearchCV(RF, parameters)\r\n",
        "clf.fit(X_features, y_label)"
      ],
      "execution_count": null,
      "outputs": [
        {
          "output_type": "execute_result",
          "data": {
            "text/plain": [
              "GridSearchCV(cv=None, error_score=nan,\n",
              "             estimator=RandomForestClassifier(bootstrap=True, ccp_alpha=0.0,\n",
              "                                              class_weight=None,\n",
              "                                              criterion='gini', max_depth=None,\n",
              "                                              max_features='auto',\n",
              "                                              max_leaf_nodes=None,\n",
              "                                              max_samples=None,\n",
              "                                              min_impurity_decrease=0.0,\n",
              "                                              min_impurity_split=None,\n",
              "                                              min_samples_leaf=1,\n",
              "                                              min_samples_split=2,\n",
              "                                              min_weight_fraction_leaf=0.0,\n",
              "                                              n_estimators=100, n_jobs=None,\n",
              "                                              oob_score=False,\n",
              "                                              random_state=None, verbose=0,\n",
              "                                              warm_start=False),\n",
              "             iid='deprecated', n_jobs=None,\n",
              "             param_grid={'max_depth': [2, 7, 12, 17, 22, 27, 32, 37, 42, 47, 52,\n",
              "                                       57]},\n",
              "             pre_dispatch='2*n_jobs', refit=True, return_train_score=False,\n",
              "             scoring=None, verbose=0)"
            ]
          },
          "metadata": {
            "tags": []
          },
          "execution_count": 44
        }
      ]
    },
    {
      "cell_type": "code",
      "metadata": {
        "colab": {
          "base_uri": "https://localhost:8080/"
        },
        "id": "7bSzw6f9-QqA",
        "outputId": "4bbeaee8-ca01-49c3-ab2e-28792532464f"
      },
      "source": [
        "clf.score(X_features, y_label)"
      ],
      "execution_count": null,
      "outputs": [
        {
          "output_type": "execute_result",
          "data": {
            "text/plain": [
              "0.9977397981299152"
            ]
          },
          "metadata": {
            "tags": []
          },
          "execution_count": 46
        }
      ]
    },
    {
      "cell_type": "code",
      "metadata": {
        "colab": {
          "base_uri": "https://localhost:8080/"
        },
        "id": "ZCSgneiKBgeM",
        "outputId": "cdd2b8b1-80c4-4289-ff1e-a6ef876db543"
      },
      "source": [
        "clf.best_params_"
      ],
      "execution_count": null,
      "outputs": [
        {
          "output_type": "execute_result",
          "data": {
            "text/plain": [
              "{'max_depth': 47}"
            ]
          },
          "metadata": {
            "tags": []
          },
          "execution_count": 47
        }
      ]
    },
    {
      "cell_type": "code",
      "metadata": {
        "id": "m-Fxblw45Ly9",
        "colab": {
          "base_uri": "https://localhost:8080/"
        },
        "outputId": "18f37178-6ded-44a3-d789-dedd1cc1c388"
      },
      "source": [
        "import time\r\n",
        "RF = RandomForestClassifier(max_depth=47)\r\n",
        "st = time.time()\r\n",
        "RF.fit(X_features, y_label)\r\n",
        "print(time.time()-st)\r\n"
      ],
      "execution_count": 26,
      "outputs": [
        {
          "output_type": "stream",
          "text": [
            "9.681296348571777\n"
          ],
          "name": "stdout"
        }
      ]
    },
    {
      "cell_type": "code",
      "metadata": {
        "id": "LuKTx-EDiicf",
        "colab": {
          "base_uri": "https://localhost:8080/"
        },
        "outputId": "ecd4f36f-20e2-463b-c4aa-bfb3aecba46d"
      },
      "source": [
        "RF.score(X_features, y_label)"
      ],
      "execution_count": 27,
      "outputs": [
        {
          "output_type": "execute_result",
          "data": {
            "text/plain": [
              "0.9976778747910088"
            ]
          },
          "metadata": {
            "tags": []
          },
          "execution_count": 27
        }
      ]
    },
    {
      "cell_type": "markdown",
      "metadata": {
        "id": "S78mfEowgWu8"
      },
      "source": [
        "#Evaluation"
      ]
    },
    {
      "cell_type": "code",
      "metadata": {
        "id": "7yYiGsmt6AIK",
        "colab": {
          "base_uri": "https://localhost:8080/"
        },
        "outputId": "f30e43f7-3ca1-4860-a637-188a4244c433"
      },
      "source": [
        "import pickle\r\n",
        "\r\n",
        "num_clusters = 150\r\n",
        "bow_dict = pickle.load(open('BoW_data/bow_dict_{}.pkl'.format(num_clusters), 'rb'))\r\n",
        "\r\n",
        "X_descriptors_test = extract_sift_features(X_test)\r\n",
        "X_features_test = create_features_bow(X_descriptors_test, bow_dict,num_clusters )\r\n",
        "y_pred = RF.predict(X_features_test)\r\n",
        "\r\n",
        "print(RF.score(X_features_test,y_test))"
      ],
      "execution_count": 28,
      "outputs": [
        {
          "output_type": "stream",
          "text": [
            "0.37392031206464194\n"
          ],
          "name": "stdout"
        }
      ]
    },
    {
      "cell_type": "code",
      "metadata": {
        "colab": {
          "base_uri": "https://localhost:8080/"
        },
        "id": "Jb__MnpIB9r4",
        "outputId": "63acdb4d-afe4-4b3d-f640-6610aea4c77c"
      },
      "source": [
        "from sklearn import metrics\r\n",
        "\r\n",
        "metrics.f1_score(y_test,y_pred,average='micro')"
      ],
      "execution_count": 29,
      "outputs": [
        {
          "output_type": "execute_result",
          "data": {
            "text/plain": [
              "0.37392031206464194"
            ]
          },
          "metadata": {
            "tags": []
          },
          "execution_count": 29
        }
      ]
    },
    {
      "cell_type": "markdown",
      "metadata": {
        "papermill": {
          "duration": 0.047558,
          "end_time": "2020-12-18T22:02:19.299295",
          "exception": false,
          "start_time": "2020-12-18T22:02:19.251737",
          "status": "completed"
        },
        "tags": [],
        "id": "BBnosJ7_Lrpy"
      },
      "source": [
        "# Visual"
      ]
    },
    {
      "cell_type": "code",
      "metadata": {
        "colab": {
          "base_uri": "https://localhost:8080/",
          "height": 314
        },
        "id": "qCLOS2U75c_R",
        "outputId": "21184db5-1756-4937-9081-956ecc5f2810"
      },
      "source": [
        "from sklearn.metrics import confusion_matrix\r\n",
        "from mlxtend.plotting import plot_confusion_matrix\r\n",
        "\r\n",
        "plot_confusion_matrix(confusion_matrix(y_test,y_pred))"
      ],
      "execution_count": 30,
      "outputs": [
        {
          "output_type": "execute_result",
          "data": {
            "text/plain": [
              "(<Figure size 432x288 with 1 Axes>,\n",
              " <matplotlib.axes._subplots.AxesSubplot at 0x7f3d8fb0b240>)"
            ]
          },
          "metadata": {
            "tags": []
          },
          "execution_count": 30
        },
        {
          "output_type": "display_data",
          "data": {
            "image/png": "[encoded data removed]",
            "text/plain": [
              "<Figure size 432x288 with 1 Axes>"
            ]
          },
          "metadata": {
            "tags": [],
            "needs_background": "light"
          }
        }
      ]
    },
    {
      "cell_type": "code",
      "metadata": {
        "papermill": {
          "duration": 0.05656,
          "end_time": "2020-12-18T22:02:19.402903",
          "exception": false,
          "start_time": "2020-12-18T22:02:19.346343",
          "status": "completed"
        },
        "tags": [],
        "id": "FzPko1foLrpy",
        "colab": {
          "base_uri": "https://localhost:8080/"
        },
        "outputId": "a0cedce2-0263-4ce2-c219-4b2d8e323d7e"
      },
      "source": [
        "from sklearn.metrics import classification_report\r\n",
        "from src.visualization import plot_classification_report\r\n",
        "\r\n",
        "clf_report = classification_report(y_test, y_pred, digits=4)\r\n",
        "print(clf_report)"
      ],
      "execution_count": 31,
      "outputs": [
        {
          "output_type": "stream",
          "text": [
            "              precision    recall  f1-score   support\n",
            "\n",
            "           0     0.4242    0.1499    0.2215       467\n",
            "           1     0.4202    0.2482    0.3121       552\n",
            "           2     0.3374    0.7464    0.4647       895\n",
            "           3     0.3294    0.2113    0.2575       653\n",
            "           4     0.7153    0.4964    0.5861       415\n",
            "           5     0.2993    0.2026    0.2417       607\n",
            "\n",
            "    accuracy                         0.3739      3589\n",
            "   macro avg     0.4210    0.3425    0.3472      3589\n",
            "weighted avg     0.3972    0.3739    0.3482      3589\n",
            "\n"
          ],
          "name": "stdout"
        }
      ]
    },
    {
      "cell_type": "code",
      "metadata": {
        "colab": {
          "base_uri": "https://localhost:8080/",
          "height": 226
        },
        "id": "rNiKhfQwunjm",
        "outputId": "eb994310-842d-4f56-b1da-9629a591b015"
      },
      "source": [
        "import pandas as pd\r\n",
        "df = pd.DataFrame(classification_report(y_test, y_pred, digits=1,output_dict=True)).T\r\n",
        "\r\n",
        "df['support'] = df.support.apply(int)\r\n",
        "\r\n",
        "df.style.background_gradient(cmap='viridis',\r\n",
        "                             subset=pd.IndexSlice['0':'6', :'f1-score'])"
      ],
      "execution_count": 32,
      "outputs": [
        {
          "output_type": "execute_result",
          "data": {
            "text/html": [
              "<style  type=\"text/css\" >\n",
              "#T_abf3169a_49bf_11eb_b2d2_0242ac1c0002row0_col0{\n",
              "            background-color:  #355f8d;\n",
              "            color:  #f1f1f1;\n",
              "        }#T_abf3169a_49bf_11eb_b2d2_0242ac1c0002row0_col1,#T_abf3169a_49bf_11eb_b2d2_0242ac1c0002row0_col2,#T_abf3169a_49bf_11eb_b2d2_0242ac1c0002row5_col0{\n",
              "            background-color:  #440154;\n",
              "            color:  #f1f1f1;\n",
              "        }#T_abf3169a_49bf_11eb_b2d2_0242ac1c0002row1_col0{\n",
              "            background-color:  #365d8d;\n",
              "            color:  #f1f1f1;\n",
              "        }#T_abf3169a_49bf_11eb_b2d2_0242ac1c0002row1_col1{\n",
              "            background-color:  #443983;\n",
              "            color:  #f1f1f1;\n",
              "        }#T_abf3169a_49bf_11eb_b2d2_0242ac1c0002row1_col2{\n",
              "            background-color:  #3b518b;\n",
              "            color:  #f1f1f1;\n",
              "        }#T_abf3169a_49bf_11eb_b2d2_0242ac1c0002row2_col0{\n",
              "            background-color:  #482173;\n",
              "            color:  #f1f1f1;\n",
              "        }#T_abf3169a_49bf_11eb_b2d2_0242ac1c0002row2_col1,#T_abf3169a_49bf_11eb_b2d2_0242ac1c0002row4_col0,#T_abf3169a_49bf_11eb_b2d2_0242ac1c0002row4_col2{\n",
              "            background-color:  #fde725;\n",
              "            color:  #000000;\n",
              "        }#T_abf3169a_49bf_11eb_b2d2_0242ac1c0002row2_col2{\n",
              "            background-color:  #35b779;\n",
              "            color:  #000000;\n",
              "        }#T_abf3169a_49bf_11eb_b2d2_0242ac1c0002row3_col0{\n",
              "            background-color:  #481b6d;\n",
              "            color:  #f1f1f1;\n",
              "        }#T_abf3169a_49bf_11eb_b2d2_0242ac1c0002row3_col1{\n",
              "            background-color:  #482576;\n",
              "            color:  #f1f1f1;\n",
              "        }#T_abf3169a_49bf_11eb_b2d2_0242ac1c0002row3_col2{\n",
              "            background-color:  #482475;\n",
              "            color:  #f1f1f1;\n",
              "        }#T_abf3169a_49bf_11eb_b2d2_0242ac1c0002row4_col1{\n",
              "            background-color:  #20a386;\n",
              "            color:  #000000;\n",
              "        }#T_abf3169a_49bf_11eb_b2d2_0242ac1c0002row5_col1{\n",
              "            background-color:  #482071;\n",
              "            color:  #f1f1f1;\n",
              "        }#T_abf3169a_49bf_11eb_b2d2_0242ac1c0002row5_col2{\n",
              "            background-color:  #481668;\n",
              "            color:  #f1f1f1;\n",
              "        }</style><table id=\"T_abf3169a_49bf_11eb_b2d2_0242ac1c0002\" ><thead>    <tr>        <th class=\"blank level0\" ></th>        <th class=\"col_heading level0 col0\" >precision</th>        <th class=\"col_heading level0 col1\" >recall</th>        <th class=\"col_heading level0 col2\" >f1-score</th>        <th class=\"col_heading level0 col3\" >support</th>    </tr></thead><tbody>\n",
              "                <tr>\n",
              "                        <th id=\"T_abf3169a_49bf_11eb_b2d2_0242ac1c0002level0_row0\" class=\"row_heading level0 row0\" >0</th>\n",
              "                        <td id=\"T_abf3169a_49bf_11eb_b2d2_0242ac1c0002row0_col0\" class=\"data row0 col0\" >0.424242</td>\n",
              "                        <td id=\"T_abf3169a_49bf_11eb_b2d2_0242ac1c0002row0_col1\" class=\"data row0 col1\" >0.149893</td>\n",
              "                        <td id=\"T_abf3169a_49bf_11eb_b2d2_0242ac1c0002row0_col2\" class=\"data row0 col2\" >0.221519</td>\n",
              "                        <td id=\"T_abf3169a_49bf_11eb_b2d2_0242ac1c0002row0_col3\" class=\"data row0 col3\" >467</td>\n",
              "            </tr>\n",
              "            <tr>\n",
              "                        <th id=\"T_abf3169a_49bf_11eb_b2d2_0242ac1c0002level0_row1\" class=\"row_heading level0 row1\" >1</th>\n",
              "                        <td id=\"T_abf3169a_49bf_11eb_b2d2_0242ac1c0002row1_col0\" class=\"data row1 col0\" >0.420245</td>\n",
              "                        <td id=\"T_abf3169a_49bf_11eb_b2d2_0242ac1c0002row1_col1\" class=\"data row1 col1\" >0.248188</td>\n",
              "                        <td id=\"T_abf3169a_49bf_11eb_b2d2_0242ac1c0002row1_col2\" class=\"data row1 col2\" >0.312073</td>\n",
              "                        <td id=\"T_abf3169a_49bf_11eb_b2d2_0242ac1c0002row1_col3\" class=\"data row1 col3\" >552</td>\n",
              "            </tr>\n",
              "            <tr>\n",
              "                        <th id=\"T_abf3169a_49bf_11eb_b2d2_0242ac1c0002level0_row2\" class=\"row_heading level0 row2\" >2</th>\n",
              "                        <td id=\"T_abf3169a_49bf_11eb_b2d2_0242ac1c0002row2_col0\" class=\"data row2 col0\" >0.337374</td>\n",
              "                        <td id=\"T_abf3169a_49bf_11eb_b2d2_0242ac1c0002row2_col1\" class=\"data row2 col1\" >0.746369</td>\n",
              "                        <td id=\"T_abf3169a_49bf_11eb_b2d2_0242ac1c0002row2_col2\" class=\"data row2 col2\" >0.464696</td>\n",
              "                        <td id=\"T_abf3169a_49bf_11eb_b2d2_0242ac1c0002row2_col3\" class=\"data row2 col3\" >895</td>\n",
              "            </tr>\n",
              "            <tr>\n",
              "                        <th id=\"T_abf3169a_49bf_11eb_b2d2_0242ac1c0002level0_row3\" class=\"row_heading level0 row3\" >3</th>\n",
              "                        <td id=\"T_abf3169a_49bf_11eb_b2d2_0242ac1c0002row3_col0\" class=\"data row3 col0\" >0.329356</td>\n",
              "                        <td id=\"T_abf3169a_49bf_11eb_b2d2_0242ac1c0002row3_col1\" class=\"data row3 col1\" >0.211332</td>\n",
              "                        <td id=\"T_abf3169a_49bf_11eb_b2d2_0242ac1c0002row3_col2\" class=\"data row3 col2\" >0.257463</td>\n",
              "                        <td id=\"T_abf3169a_49bf_11eb_b2d2_0242ac1c0002row3_col3\" class=\"data row3 col3\" >653</td>\n",
              "            </tr>\n",
              "            <tr>\n",
              "                        <th id=\"T_abf3169a_49bf_11eb_b2d2_0242ac1c0002level0_row4\" class=\"row_heading level0 row4\" >4</th>\n",
              "                        <td id=\"T_abf3169a_49bf_11eb_b2d2_0242ac1c0002row4_col0\" class=\"data row4 col0\" >0.715278</td>\n",
              "                        <td id=\"T_abf3169a_49bf_11eb_b2d2_0242ac1c0002row4_col1\" class=\"data row4 col1\" >0.496386</td>\n",
              "                        <td id=\"T_abf3169a_49bf_11eb_b2d2_0242ac1c0002row4_col2\" class=\"data row4 col2\" >0.586060</td>\n",
              "                        <td id=\"T_abf3169a_49bf_11eb_b2d2_0242ac1c0002row4_col3\" class=\"data row4 col3\" >415</td>\n",
              "            </tr>\n",
              "            <tr>\n",
              "                        <th id=\"T_abf3169a_49bf_11eb_b2d2_0242ac1c0002level0_row5\" class=\"row_heading level0 row5\" >5</th>\n",
              "                        <td id=\"T_abf3169a_49bf_11eb_b2d2_0242ac1c0002row5_col0\" class=\"data row5 col0\" >0.299270</td>\n",
              "                        <td id=\"T_abf3169a_49bf_11eb_b2d2_0242ac1c0002row5_col1\" class=\"data row5 col1\" >0.202636</td>\n",
              "                        <td id=\"T_abf3169a_49bf_11eb_b2d2_0242ac1c0002row5_col2\" class=\"data row5 col2\" >0.241650</td>\n",
              "                        <td id=\"T_abf3169a_49bf_11eb_b2d2_0242ac1c0002row5_col3\" class=\"data row5 col3\" >607</td>\n",
              "            </tr>\n",
              "            <tr>\n",
              "                        <th id=\"T_abf3169a_49bf_11eb_b2d2_0242ac1c0002level0_row6\" class=\"row_heading level0 row6\" >accuracy</th>\n",
              "                        <td id=\"T_abf3169a_49bf_11eb_b2d2_0242ac1c0002row6_col0\" class=\"data row6 col0\" >0.373920</td>\n",
              "                        <td id=\"T_abf3169a_49bf_11eb_b2d2_0242ac1c0002row6_col1\" class=\"data row6 col1\" >0.373920</td>\n",
              "                        <td id=\"T_abf3169a_49bf_11eb_b2d2_0242ac1c0002row6_col2\" class=\"data row6 col2\" >0.373920</td>\n",
              "                        <td id=\"T_abf3169a_49bf_11eb_b2d2_0242ac1c0002row6_col3\" class=\"data row6 col3\" >0</td>\n",
              "            </tr>\n",
              "            <tr>\n",
              "                        <th id=\"T_abf3169a_49bf_11eb_b2d2_0242ac1c0002level0_row7\" class=\"row_heading level0 row7\" >macro avg</th>\n",
              "                        <td id=\"T_abf3169a_49bf_11eb_b2d2_0242ac1c0002row7_col0\" class=\"data row7 col0\" >0.420961</td>\n",
              "                        <td id=\"T_abf3169a_49bf_11eb_b2d2_0242ac1c0002row7_col1\" class=\"data row7 col1\" >0.342467</td>\n",
              "                        <td id=\"T_abf3169a_49bf_11eb_b2d2_0242ac1c0002row7_col2\" class=\"data row7 col2\" >0.347243</td>\n",
              "                        <td id=\"T_abf3169a_49bf_11eb_b2d2_0242ac1c0002row7_col3\" class=\"data row7 col3\" >3589</td>\n",
              "            </tr>\n",
              "            <tr>\n",
              "                        <th id=\"T_abf3169a_49bf_11eb_b2d2_0242ac1c0002level0_row8\" class=\"row_heading level0 row8\" >weighted avg</th>\n",
              "                        <td id=\"T_abf3169a_49bf_11eb_b2d2_0242ac1c0002row8_col0\" class=\"data row8 col0\" >0.397217</td>\n",
              "                        <td id=\"T_abf3169a_49bf_11eb_b2d2_0242ac1c0002row8_col1\" class=\"data row8 col1\" >0.373920</td>\n",
              "                        <td id=\"T_abf3169a_49bf_11eb_b2d2_0242ac1c0002row8_col2\" class=\"data row8 col2\" >0.348185</td>\n",
              "                        <td id=\"T_abf3169a_49bf_11eb_b2d2_0242ac1c0002row8_col3\" class=\"data row8 col3\" >3589</td>\n",
              "            </tr>\n",
              "    </tbody></table>"
            ],
            "text/plain": [
              "<pandas.io.formats.style.Styler at 0x7f3d8f0099e8>"
            ]
          },
          "metadata": {
            "tags": []
          },
          "execution_count": 32
        }
      ]
    },
    {
      "cell_type": "code",
      "metadata": {
        "id": "MIKbDgRT0GGe"
      },
      "source": [
        ""
      ],
      "execution_count": 32,
      "outputs": []
    }
  ]
}