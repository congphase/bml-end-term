{
  "nbformat": 4,
  "nbformat_minor": 0,
  "metadata": {
    "colab": {
      "name": "TN14_PretrainCNN_SVM.ipynb",
      "provenance": [],
      "collapsed_sections": [],
      "toc_visible": true
    },
    "kernelspec": {
      "name": "python3",
      "display_name": "Python 3"
    },
    "accelerator": "GPU"
  },
  "cells": [
    {
      "cell_type": "code",
      "metadata": {
        "id": "PL21Mz5-OeDg",
        "colab": {
          "base_uri": "https://localhost:8080/"
        },
        "outputId": "2b1a3a91-0f6a-44e2-bac6-611f0004d4b9"
      },
      "source": [
        "# Mount \"My Drive\" into /content/drive\r\n",
        "from google.colab import drive\r\n",
        "\r\n",
        "google_drive_dir = \"Final_project\"  # @param\r\n",
        "#bml-notebooks/\r\n",
        "drive.mount('/content/drive')\r\n",
        "\r\n",
        "mount_point = \"/content/drive/My Drive/{}\".format(google_drive_dir)\r\n",
        "\r\n",
        "# Change the root directory to your mount_point\r\n",
        "% cd '$mount_point'"
      ],
      "execution_count": null,
      "outputs": [
        {
          "output_type": "stream",
          "text": [
            "Drive already mounted at /content/drive; to attempt to forcibly remount, call drive.mount(\"/content/drive\", force_remount=True).\n",
            "/content/drive/My Drive/Final_project\n"
          ],
          "name": "stdout"
        }
      ]
    },
    {
      "cell_type": "markdown",
      "metadata": {
        "papermill": {
          "duration": 0.044808,
          "end_time": "2020-12-18T22:02:11.416442",
          "exception": false,
          "start_time": "2020-12-18T22:02:11.371634",
          "status": "completed"
        },
        "tags": [],
        "id": "eI1PdIKtLrpv"
      },
      "source": [
        "# <span style=\"color: royalblue;\">Load Data</span>\n",
        "Load the image data with labels."
      ]
    },
    {
      "cell_type": "code",
      "metadata": {
        "id": "HM1rN5gqd5aG"
      },
      "source": [
        "import numpy as np\r\n",
        "from src.loadData import loadFer2013\r\n",
        "from keras.utils import to_categorical\r\n"
      ],
      "execution_count": null,
      "outputs": []
    },
    {
      "cell_type": "code",
      "metadata": {
        "id": "ct5pobN6eBgW",
        "colab": {
          "base_uri": "https://localhost:8080/"
        },
        "outputId": "0efaeacd-4a80-4041-b60b-60b2b10564f2"
      },
      "source": [
        "X_train,X_val,X_test,y_train,y_val,y_test = loadFer2013('fer2013/icml_face_data.csv')\r\n",
        "\r\n",
        "y_train_onehot = to_categorical(y_train)\r\n",
        "y_val_onehot = to_categorical(y_val)\r\n",
        "y_test_onehot = to_categorical(y_test)"
      ],
      "execution_count": null,
      "outputs": [
        {
          "output_type": "stream",
          "text": [
            "/content/drive/My Drive/Final_project/src/loadData.py:23: SettingWithCopyWarning: \n",
            "A value is trying to be set on a copy of a slice from a DataFrame\n",
            "\n",
            "See the caveats in the documentation: https://pandas.pydata.org/pandas-docs/stable/user_guide/indexing.html#returning-a-view-versus-a-copy\n",
            "  data['emotion'][data['emotion']>1]-=1\n"
          ],
          "name": "stderr"
        }
      ]
    },
    {
      "cell_type": "code",
      "metadata": {
        "id": "1qZ7W3Pfh6-j",
        "colab": {
          "base_uri": "https://localhost:8080/"
        },
        "outputId": "2964c367-44c5-43e6-dede-87610f9e3cc4"
      },
      "source": [
        "y_train_onehot.shape, y_val_onehot.shape, y_test_onehot.shape"
      ],
      "execution_count": null,
      "outputs": [
        {
          "output_type": "execute_result",
          "data": {
            "text/plain": [
              "((28709, 6), (3589, 6), (3589, 6))"
            ]
          },
          "metadata": {
            "tags": []
          },
          "execution_count": 5
        }
      ]
    },
    {
      "cell_type": "code",
      "metadata": {
        "id": "jncS-WGXfb2j",
        "colab": {
          "base_uri": "https://localhost:8080/"
        },
        "outputId": "dd068527-283a-4457-d0e6-683c67f51aaf"
      },
      "source": [
        "X_train.shape, y_train.shape"
      ],
      "execution_count": null,
      "outputs": [
        {
          "output_type": "execute_result",
          "data": {
            "text/plain": [
              "((28709, 48, 48), (28709,))"
            ]
          },
          "metadata": {
            "tags": []
          },
          "execution_count": 6
        }
      ]
    },
    {
      "cell_type": "code",
      "metadata": {
        "id": "Nt9oKq3mo60M"
      },
      "source": [
        "emotions = {0: 'Angry', 1:'Fear', 2: 'Happy', 3: 'Sad', 4: 'Surprise', 5: 'Neutral'}"
      ],
      "execution_count": null,
      "outputs": []
    },
    {
      "cell_type": "code",
      "metadata": {
        "id": "sIHHtenVug_E",
        "colab": {
          "base_uri": "https://localhost:8080/"
        },
        "outputId": "002cd03f-bae0-4e5e-a45a-b74e78e44853"
      },
      "source": [
        "class_names = list(emotions.values())\r\n",
        "class_names"
      ],
      "execution_count": null,
      "outputs": [
        {
          "output_type": "execute_result",
          "data": {
            "text/plain": [
              "['Angry', 'Fear', 'Happy', 'Sad', 'Surprise', 'Neutral']"
            ]
          },
          "metadata": {
            "tags": []
          },
          "execution_count": 8
        }
      ]
    },
    {
      "cell_type": "markdown",
      "metadata": {
        "id": "-9KsqSFYycZW"
      },
      "source": [
        "#Preprocessing"
      ]
    },
    {
      "cell_type": "code",
      "metadata": {
        "colab": {
          "base_uri": "https://localhost:8080/"
        },
        "id": "lIAx61wiye5z",
        "outputId": "8160e635-057a-48b6-ff0b-a436c91972df"
      },
      "source": [
        "def preprocessX(X):\r\n",
        "    X = np.expand_dims(X,axis=-1)\r\n",
        "    return X/255\r\n",
        "\r\n",
        "X_processed_train = preprocessX(X_train)\r\n",
        "X_processed_val = preprocessX(X_val)\r\n",
        "X_processed_test = preprocessX(X_test)\r\n",
        "X_processed_train.shape,X_processed_val.shape,X_processed_test.shape"
      ],
      "execution_count": null,
      "outputs": [
        {
          "output_type": "execute_result",
          "data": {
            "text/plain": [
              "((28709, 48, 48, 1), (3589, 48, 48, 1), (3589, 48, 48, 1))"
            ]
          },
          "metadata": {
            "tags": []
          },
          "execution_count": 9
        }
      ]
    },
    {
      "cell_type": "markdown",
      "metadata": {
        "id": "2NbdB64SdEET"
      },
      "source": [
        "# Extract features"
      ]
    },
    {
      "cell_type": "code",
      "metadata": {
        "id": "UgE2yv8mwA4j"
      },
      "source": [
        "from keras import models, Model\r\n",
        "from keras.layers import Dense, Dropout, Flatten, Conv2D, MaxPool2D\r\n",
        "from keras.optimizers import RMSprop,Adam\r\n",
        "from keras.utils import to_categorical\r\n",
        "from keras.callbacks import ModelCheckpoint"
      ],
      "execution_count": null,
      "outputs": []
    },
    {
      "cell_type": "markdown",
      "metadata": {
        "id": "E2UEq142V8d5"
      },
      "source": [
        "#Load pretrain model\r\n"
      ]
    },
    {
      "cell_type": "code",
      "metadata": {
        "id": "_zVWn2BXV7oO"
      },
      "source": [
        "from keras.models import model_from_json\r\n",
        "\r\n",
        "json_file = open('keras_model/model.json', 'r')\r\n",
        "loaded_model_json = json_file.read()\r\n",
        "json_file.close()\r\n",
        "loaded_model = model_from_json(loaded_model_json)\r\n",
        "loaded_model.load_weights(\"keras_model/model.h5\")"
      ],
      "execution_count": null,
      "outputs": []
    },
    {
      "cell_type": "code",
      "metadata": {
        "colab": {
          "base_uri": "https://localhost:8080/"
        },
        "id": "J2ZdVp82W_jm",
        "outputId": "ceba0f82-0645-4eb3-edaf-1db896fec945"
      },
      "source": [
        "loaded_model.summary()"
      ],
      "execution_count": null,
      "outputs": [
        {
          "output_type": "stream",
          "text": [
            "Model: \"sequential_2\"\n",
            "_________________________________________________________________\n",
            "Layer (type)                 Output Shape              Param #   \n",
            "=================================================================\n",
            "conv2d_3 (Conv2D)            (None, 46, 46, 32)        320       \n",
            "_________________________________________________________________\n",
            "max_pooling2d_2 (MaxPooling2 (None, 23, 23, 32)        0         \n",
            "_________________________________________________________________\n",
            "conv2d_4 (Conv2D)            (None, 21, 21, 64)        18496     \n",
            "_________________________________________________________________\n",
            "max_pooling2d_3 (MaxPooling2 (None, 10, 10, 64)        0         \n",
            "_________________________________________________________________\n",
            "conv2d_5 (Conv2D)            (None, 8, 8, 64)          36928     \n",
            "_________________________________________________________________\n",
            "flatten_1 (Flatten)          (None, 4096)              0         \n",
            "_________________________________________________________________\n",
            "dense_2 (Dense)              (None, 64)                262208    \n",
            "_________________________________________________________________\n",
            "dense_3 (Dense)              (None, 6)                 390       \n",
            "=================================================================\n",
            "Total params: 318,342\n",
            "Trainable params: 318,342\n",
            "Non-trainable params: 0\n",
            "_________________________________________________________________\n"
          ],
          "name": "stdout"
        }
      ]
    },
    {
      "cell_type": "code",
      "metadata": {
        "id": "UR_qBzkFXc4_"
      },
      "source": [
        "y_pred = loaded_model.predict(X_processed_test)"
      ],
      "execution_count": null,
      "outputs": []
    },
    {
      "cell_type": "code",
      "metadata": {
        "colab": {
          "base_uri": "https://localhost:8080/"
        },
        "id": "8-AaadHJXkjd",
        "outputId": "1a66ea10-2cfa-4f4d-e3e1-40fa2247881c"
      },
      "source": [
        "from sklearn import metrics\r\n",
        "print(metrics.accuracy_score(y_test, y_pred.argmax(axis=1)))\r\n",
        "print(metrics.f1_score(y_test, y_pred.argmax(axis=1),average='micro'))"
      ],
      "execution_count": null,
      "outputs": [
        {
          "output_type": "stream",
          "text": [
            "0.5564224017832266\n",
            "0.5564224017832266\n"
          ],
          "name": "stdout"
        }
      ]
    },
    {
      "cell_type": "code",
      "metadata": {
        "id": "jrmcWP3kXcJu"
      },
      "source": [
        "extract = Model(loaded_model.inputs, loaded_model.layers[-3].output) # Dense(128,...)\r\n"
      ],
      "execution_count": null,
      "outputs": []
    },
    {
      "cell_type": "code",
      "metadata": {
        "id": "XWshyoKjXz8l"
      },
      "source": [
        "test_features = extract(X_processed_test)"
      ],
      "execution_count": null,
      "outputs": []
    },
    {
      "cell_type": "markdown",
      "metadata": {
        "id": "egWy0pqCYK3m"
      },
      "source": [
        "#Classify"
      ]
    },
    {
      "cell_type": "code",
      "metadata": {
        "colab": {
          "base_uri": "https://localhost:8080/"
        },
        "id": "xYT-D0MWvJ-1",
        "outputId": "757a6cae-7210-49a4-921a-37fbb6514e02"
      },
      "source": [
        "from sklearn.svm import SVC\r\n",
        "import time\r\n",
        "svm=SVC(kernel='rbf', class_weight='balanced',C=1)\r\n",
        "st = time.time()\r\n",
        "svm.fit(features, y_train)\r\n",
        "print(time.time()-st)\r\n",
        "svm.score(features, y_train)"
      ],
      "execution_count": null,
      "outputs": [
        {
          "output_type": "stream",
          "text": [
            "5105.537826299667\n"
          ],
          "name": "stdout"
        },
        {
          "output_type": "execute_result",
          "data": {
            "text/plain": [
              "0.8360792782751054"
            ]
          },
          "metadata": {
            "tags": []
          },
          "execution_count": 37
        }
      ]
    },
    {
      "cell_type": "code",
      "metadata": {
        "id": "BxthX5Y-k7QU"
      },
      "source": [
        "import pickle\r\n",
        "pickle.dump(svm, open('saved_model/CNN_svmC1.pkl', 'wb'))"
      ],
      "execution_count": null,
      "outputs": []
    },
    {
      "cell_type": "code",
      "metadata": {
        "id": "vIR1n5NYlAVT"
      },
      "source": [
        "import pickle\r\n",
        "svm = pickle.load(open('saved_model/CNN_svmC1.pkl', 'rb'))"
      ],
      "execution_count": null,
      "outputs": []
    },
    {
      "cell_type": "code",
      "metadata": {
        "id": "tQHsC4HCQITj"
      },
      "source": [
        "test_features = extract(X_processed_test)\r\n",
        "y_pred = svm.predict(test_features)\r\n"
      ],
      "execution_count": null,
      "outputs": []
    },
    {
      "cell_type": "code",
      "metadata": {
        "id": "OErWMwa1e3Dv",
        "colab": {
          "base_uri": "https://localhost:8080/"
        },
        "outputId": "78ab78a3-f8d0-4e38-d186-dff25927366e"
      },
      "source": [
        "y_pred"
      ],
      "execution_count": null,
      "outputs": [
        {
          "output_type": "execute_result",
          "data": {
            "text/plain": [
              "array([0, 5, 0, ..., 3, 0, 5])"
            ]
          },
          "metadata": {
            "tags": []
          },
          "execution_count": 30
        }
      ]
    },
    {
      "cell_type": "code",
      "metadata": {
        "colab": {
          "base_uri": "https://localhost:8080/"
        },
        "id": "LTTuvixlQvXE",
        "outputId": "4e6fb38c-0a44-421e-de16-8b644945fe12"
      },
      "source": [
        "from sklearn import metrics\r\n",
        "print(metrics.accuracy_score(y_test, y_pred))\r\n",
        "print(metrics.f1_score(y_test, y_pred,average='micro'))\r\n"
      ],
      "execution_count": null,
      "outputs": [
        {
          "output_type": "stream",
          "text": [
            "0.593201448871552\n",
            "0.593201448871552\n"
          ],
          "name": "stdout"
        }
      ]
    },
    {
      "cell_type": "markdown",
      "metadata": {
        "id": "S78mfEowgWu8"
      },
      "source": [
        "#Evaluation"
      ]
    },
    {
      "cell_type": "code",
      "metadata": {
        "colab": {
          "base_uri": "https://localhost:8080/",
          "height": 531
        },
        "id": "kZS51cm4bKcs",
        "outputId": "842dee76-fd04-4ac7-9584-36a40b2dfd57"
      },
      "source": [
        "# Quantitative evaluation of the model quality on the test set\r\n",
        "import time\r\n",
        "from sklearn.metrics import classification_report\r\n",
        "from sklearn.metrics import confusion_matrix\r\n",
        "from mlxtend.plotting import plot_confusion_matrix\r\n",
        "\r\n",
        "print(classification_report(y_test, y_pred, target_names=class_names))\r\n",
        "plot_confusion_matrix(confusion_matrix(y_test, y_pred, labels=range(len(class_names))))"
      ],
      "execution_count": null,
      "outputs": [
        {
          "output_type": "stream",
          "text": [
            "              precision    recall  f1-score   support\n",
            "\n",
            "       Angry       0.46      0.54      0.50       467\n",
            "        Fear       0.50      0.38      0.43       552\n",
            "       Happy       0.82      0.75      0.78       895\n",
            "         Sad       0.48      0.50      0.49       653\n",
            "    Surprise       0.73      0.77      0.75       415\n",
            "     Neutral       0.50      0.59      0.54       607\n",
            "\n",
            "    accuracy                           0.59      3589\n",
            "   macro avg       0.58      0.59      0.58      3589\n",
            "weighted avg       0.60      0.59      0.59      3589\n",
            "\n"
          ],
          "name": "stdout"
        },
        {
          "output_type": "execute_result",
          "data": {
            "text/plain": [
              "(<Figure size 432x288 with 1 Axes>,\n",
              " <matplotlib.axes._subplots.AxesSubplot at 0x7f26c2ae3240>)"
            ]
          },
          "metadata": {
            "tags": []
          },
          "execution_count": 21
        },
        {
          "output_type": "display_data",
          "data": {
            "image/png": "[encoded data removed]",
            "text/plain": [
              "<Figure size 432x288 with 1 Axes>"
            ]
          },
          "metadata": {
            "tags": [],
            "needs_background": "light"
          }
        }
      ]
    },
    {
      "cell_type": "code",
      "metadata": {
        "id": "g-T4Nh7FaiLo"
      },
      "source": [
        ""
      ],
      "execution_count": null,
      "outputs": []
    }
  ]
}