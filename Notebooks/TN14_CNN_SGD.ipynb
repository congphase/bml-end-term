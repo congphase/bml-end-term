{
  "nbformat": 4,
  "nbformat_minor": 0,
  "metadata": {
    "colab": {
      "name": "TN14_CNN_SGD.ipynb",
      "provenance": [],
      "collapsed_sections": [],
      "toc_visible": true
    },
    "kernelspec": {
      "name": "python3",
      "display_name": "Python 3"
    },
    "accelerator": "GPU"
  },
  "cells": [
    {
      "cell_type": "code",
      "metadata": {
        "id": "PL21Mz5-OeDg",
        "colab": {
          "base_uri": "https://localhost:8080/"
        },
        "outputId": "5dfdb7e3-74cb-440c-9db7-ff1812d9ba44"
      },
      "source": [
        "# Mount \"My Drive\" into /content/drive\r\n",
        "from google.colab import drive\r\n",
        "\r\n",
        "google_drive_dir = \"bml-notebooks/Final_project/ThuMucCuaPha\"  # @param\r\n",
        "#bml-notebooks/\r\n",
        "drive.mount('/content/drive')\r\n",
        "\r\n",
        "mount_point = \"/content/drive/My Drive/{}\".format(google_drive_dir)\r\n",
        "\r\n",
        "# Change the root directory to your mount_point\r\n",
        "% cd '$mount_point'"
      ],
      "execution_count": null,
      "outputs": [
        {
          "output_type": "stream",
          "text": [
            "Drive already mounted at /content/drive; to attempt to forcibly remount, call drive.mount(\"/content/drive\", force_remount=True).\n",
            "/content/drive/.shortcut-targets-by-id/1uHceact8nZzLehIO7J8WmUhJnJWKOf8w/Final_project/ThuMucCuaPha\n"
          ],
          "name": "stdout"
        }
      ]
    },
    {
      "cell_type": "markdown",
      "metadata": {
        "papermill": {
          "duration": 0.044808,
          "end_time": "2020-12-18T22:02:11.416442",
          "exception": false,
          "start_time": "2020-12-18T22:02:11.371634",
          "status": "completed"
        },
        "tags": [],
        "id": "eI1PdIKtLrpv"
      },
      "source": [
        "# <span style=\"color: royalblue;\">Load Data</span>\n",
        "Load the image data with labels."
      ]
    },
    {
      "cell_type": "code",
      "metadata": {
        "id": "HM1rN5gqd5aG"
      },
      "source": [
        "import numpy as np\r\n",
        "from src.loadData import loadFer2013\r\n",
        "from keras.utils import to_categorical\r\n"
      ],
      "execution_count": null,
      "outputs": []
    },
    {
      "cell_type": "code",
      "metadata": {
        "id": "ct5pobN6eBgW",
        "colab": {
          "base_uri": "https://localhost:8080/"
        },
        "outputId": "0ebe545d-9ea4-419a-f5cd-513f1bc42542"
      },
      "source": [
        "X_train,X_val,X_test,y_train,y_val,y_test = loadFer2013('fer2013/icml_face_data.csv')\r\n",
        "\r\n",
        "y_train_onehot = to_categorical(y_train)\r\n",
        "y_val_onehot = to_categorical(y_val)\r\n",
        "y_test_onehot = to_categorical(y_test)"
      ],
      "execution_count": null,
      "outputs": [
        {
          "output_type": "stream",
          "text": [
            "/content/drive/.shortcut-targets-by-id/1uHceact8nZzLehIO7J8WmUhJnJWKOf8w/Final_project/src/loadData.py:23: SettingWithCopyWarning: \n",
            "A value is trying to be set on a copy of a slice from a DataFrame\n",
            "\n",
            "See the caveats in the documentation: https://pandas.pydata.org/pandas-docs/stable/user_guide/indexing.html#returning-a-view-versus-a-copy\n",
            "  data['emotion'][data['emotion']>1]-=1\n"
          ],
          "name": "stderr"
        }
      ]
    },
    {
      "cell_type": "code",
      "metadata": {
        "id": "1qZ7W3Pfh6-j",
        "colab": {
          "base_uri": "https://localhost:8080/"
        },
        "outputId": "fb916a37-1933-475b-dfdf-df940cfc6054"
      },
      "source": [
        "y_train_onehot.shape, y_val_onehot.shape, y_test_onehot.shape"
      ],
      "execution_count": null,
      "outputs": [
        {
          "output_type": "execute_result",
          "data": {
            "text/plain": [
              "((28709, 6), (3589, 6), (3589, 6))"
            ]
          },
          "metadata": {
            "tags": []
          },
          "execution_count": 25
        }
      ]
    },
    {
      "cell_type": "code",
      "metadata": {
        "id": "jncS-WGXfb2j",
        "colab": {
          "base_uri": "https://localhost:8080/"
        },
        "outputId": "bef17543-5386-4fb9-b075-0003c6b466b3"
      },
      "source": [
        "X_train.shape, y_train.shape"
      ],
      "execution_count": null,
      "outputs": [
        {
          "output_type": "execute_result",
          "data": {
            "text/plain": [
              "((28709, 48, 48), (28709,))"
            ]
          },
          "metadata": {
            "tags": []
          },
          "execution_count": 26
        }
      ]
    },
    {
      "cell_type": "code",
      "metadata": {
        "id": "Nt9oKq3mo60M"
      },
      "source": [
        "emotions = {0: 'Angry', 1:'Fear', 2: 'Happy', 3: 'Sad', 4: 'Surprise', 5: 'Neutral'}"
      ],
      "execution_count": null,
      "outputs": []
    },
    {
      "cell_type": "code",
      "metadata": {
        "id": "sIHHtenVug_E",
        "colab": {
          "base_uri": "https://localhost:8080/"
        },
        "outputId": "da74f670-9882-46c6-b07d-ce85705bd822"
      },
      "source": [
        "class_names = list(emotions.values())\r\n",
        "class_names"
      ],
      "execution_count": null,
      "outputs": [
        {
          "output_type": "execute_result",
          "data": {
            "text/plain": [
              "['Angry', 'Fear', 'Happy', 'Sad', 'Surprise', 'Neutral']"
            ]
          },
          "metadata": {
            "tags": []
          },
          "execution_count": 28
        }
      ]
    },
    {
      "cell_type": "markdown",
      "metadata": {
        "id": "-9KsqSFYycZW"
      },
      "source": [
        "#Preprocessing"
      ]
    },
    {
      "cell_type": "code",
      "metadata": {
        "colab": {
          "base_uri": "https://localhost:8080/"
        },
        "id": "lIAx61wiye5z",
        "outputId": "9df991f1-5418-461b-f28d-19a43c0df1ed"
      },
      "source": [
        "def preprocessX(X):\r\n",
        "    X = np.expand_dims(X,axis=-1)\r\n",
        "    return X/255\r\n",
        "\r\n",
        "X_processed_train = preprocessX(X_train)\r\n",
        "X_processed_val = preprocessX(X_val)\r\n",
        "X_processed_test = preprocessX(X_test)\r\n",
        "X_processed_train.shape,X_processed_val.shape,X_processed_test.shape"
      ],
      "execution_count": null,
      "outputs": [
        {
          "output_type": "execute_result",
          "data": {
            "text/plain": [
              "((28709, 48, 48, 1), (3589, 48, 48, 1), (3589, 48, 48, 1))"
            ]
          },
          "metadata": {
            "tags": []
          },
          "execution_count": 29
        }
      ]
    },
    {
      "cell_type": "markdown",
      "metadata": {
        "id": "2NbdB64SdEET"
      },
      "source": [
        "# Extract features"
      ]
    },
    {
      "cell_type": "code",
      "metadata": {
        "id": "UgE2yv8mwA4j"
      },
      "source": [
        "from keras import models\r\n",
        "from keras.layers import Dense, Dropout, Flatten, Conv2D, MaxPool2D\r\n",
        "from keras.optimizers import RMSprop,Adam,SGD\r\n",
        "from keras.utils import to_categorical\r\n",
        "from keras.callbacks import ModelCheckpoint"
      ],
      "execution_count": null,
      "outputs": []
    },
    {
      "cell_type": "code",
      "metadata": {
        "id": "aOScUFbzLzBl"
      },
      "source": [
        "epochs = 20\r\n",
        "lr = 0.01\r\n",
        "decay = lr/epochs\r\n",
        "sgd = SGD(lr=lr, momentum=0.9, decay=decay, nesterov=False)"
      ],
      "execution_count": null,
      "outputs": []
    },
    {
      "cell_type": "code",
      "metadata": {
        "id": "fUCUCxDCwCEA"
      },
      "source": [
        "model = models.Sequential()\r\n",
        "model.add(Conv2D(32, (3, 3), activation='relu', input_shape=(48, 48, 1)))\r\n",
        "model.add(MaxPool2D((2, 2)))\r\n",
        "model.add(Conv2D(64, (3, 3), activation='relu'))\r\n",
        "model.add(MaxPool2D((2, 2)))\r\n",
        "model.add(Conv2D(64, (3, 3), activation='relu'))\r\n",
        "model.add(Flatten())\r\n",
        "model.add(Dense(64, activation='relu'))\r\n",
        "model.add(Dense(6, activation='softmax'))"
      ],
      "execution_count": null,
      "outputs": []
    },
    {
      "cell_type": "code",
      "metadata": {
        "id": "q3NYPeClwLAB"
      },
      "source": [
        "model.compile(optimizer=sgd, loss='categorical_crossentropy', metrics=['accuracy'])"
      ],
      "execution_count": null,
      "outputs": []
    },
    {
      "cell_type": "code",
      "metadata": {
        "colab": {
          "base_uri": "https://localhost:8080/"
        },
        "id": "E65sknvTM7UY",
        "outputId": "eff002bd-71b1-47f5-9a67-1e47edd167d4"
      },
      "source": [
        "!ls"
      ],
      "execution_count": null,
      "outputs": [
        {
          "output_type": "stream",
          "text": [
            "'Bản sao của 1-facial-expression-eda-cnn.ipynb'   prepareTestImages.ipynb\n",
            "'Bản sao của TN13_CNN.ipynb'\t\t\t  src\n",
            " data_imgs\t\t\t\t\t  test_imgs.zip\n",
            " fer2013\t\t\t\t\t  train-Pha.ipynb\n",
            " keras_model\t\t\t\t\t  train-svm.ipynb\n"
          ],
          "name": "stdout"
        }
      ]
    },
    {
      "cell_type": "code",
      "metadata": {
        "id": "pddIhxRCAuBo"
      },
      "source": [
        "checkpoint_filepath = 'keras_model/checkpoint'\r\n",
        "model_checkpoint_callback = ModelCheckpoint(\r\n",
        "    filepath=checkpoint_filepath,\r\n",
        "    save_weights_only=True,\r\n",
        "    monitor='val_accuracy',\r\n",
        "    mode='max',\r\n",
        "    save_best_only=True)"
      ],
      "execution_count": null,
      "outputs": []
    },
    {
      "cell_type": "code",
      "metadata": {
        "colab": {
          "base_uri": "https://localhost:8080/"
        },
        "id": "NPjXAwkOw477",
        "outputId": "35b29727-bc5a-4dbe-c7b7-6ef71620ce95"
      },
      "source": [
        "model.summary()"
      ],
      "execution_count": null,
      "outputs": [
        {
          "output_type": "stream",
          "text": [
            "Model: \"sequential_10\"\n",
            "_________________________________________________________________\n",
            "Layer (type)                 Output Shape              Param #   \n",
            "=================================================================\n",
            "conv2d_30 (Conv2D)           (None, 46, 46, 32)        320       \n",
            "_________________________________________________________________\n",
            "max_pooling2d_20 (MaxPooling (None, 23, 23, 32)        0         \n",
            "_________________________________________________________________\n",
            "conv2d_31 (Conv2D)           (None, 21, 21, 64)        18496     \n",
            "_________________________________________________________________\n",
            "max_pooling2d_21 (MaxPooling (None, 10, 10, 64)        0         \n",
            "_________________________________________________________________\n",
            "conv2d_32 (Conv2D)           (None, 8, 8, 64)          36928     \n",
            "_________________________________________________________________\n",
            "flatten_10 (Flatten)         (None, 4096)              0         \n",
            "_________________________________________________________________\n",
            "dense_20 (Dense)             (None, 64)                262208    \n",
            "_________________________________________________________________\n",
            "dense_21 (Dense)             (None, 6)                 390       \n",
            "=================================================================\n",
            "Total params: 318,342\n",
            "Trainable params: 318,342\n",
            "Non-trainable params: 0\n",
            "_________________________________________________________________\n"
          ],
          "name": "stdout"
        }
      ]
    },
    {
      "cell_type": "code",
      "metadata": {
        "colab": {
          "base_uri": "https://localhost:8080/"
        },
        "id": "z0ud0dcDxBL3",
        "outputId": "e411605a-b611-4daf-c453-66e2624270f6"
      },
      "source": [
        "\r\n",
        "history = model.fit(X_processed_train,y_train_onehot,\r\n",
        "                    validation_data=(X_processed_val, y_val_onehot),\r\n",
        "                    epochs=epochs,\r\n",
        "                    batch_size=128,\r\n",
        "                    callbacks=[model_checkpoint_callback])"
      ],
      "execution_count": null,
      "outputs": [
        {
          "output_type": "stream",
          "text": [
            "Epoch 1/20\n",
            "225/225 [==============================] - 3s 11ms/step - loss: 1.7621 - accuracy: 0.2478 - val_loss: 1.7234 - val_accuracy: 0.2580\n",
            "Epoch 2/20\n",
            "225/225 [==============================] - 2s 10ms/step - loss: 1.6982 - accuracy: 0.2833 - val_loss: 1.6187 - val_accuracy: 0.3461\n",
            "Epoch 3/20\n",
            "225/225 [==============================] - 2s 10ms/step - loss: 1.5915 - accuracy: 0.3627 - val_loss: 1.5453 - val_accuracy: 0.3870\n",
            "Epoch 4/20\n",
            "225/225 [==============================] - 2s 9ms/step - loss: 1.5143 - accuracy: 0.4042 - val_loss: 1.4891 - val_accuracy: 0.4140\n",
            "Epoch 5/20\n",
            "225/225 [==============================] - 2s 10ms/step - loss: 1.4712 - accuracy: 0.4182 - val_loss: 1.4429 - val_accuracy: 0.4302\n",
            "Epoch 6/20\n",
            "225/225 [==============================] - 2s 9ms/step - loss: 1.4145 - accuracy: 0.4435 - val_loss: 1.4146 - val_accuracy: 0.4419\n",
            "Epoch 7/20\n",
            "225/225 [==============================] - 2s 9ms/step - loss: 1.3725 - accuracy: 0.4585 - val_loss: 1.3901 - val_accuracy: 0.4480\n",
            "Epoch 8/20\n",
            "225/225 [==============================] - 2s 9ms/step - loss: 1.3283 - accuracy: 0.4831 - val_loss: 1.3554 - val_accuracy: 0.4625\n",
            "Epoch 9/20\n",
            "225/225 [==============================] - 2s 9ms/step - loss: 1.2910 - accuracy: 0.4935 - val_loss: 1.3305 - val_accuracy: 0.4804\n",
            "Epoch 10/20\n",
            "225/225 [==============================] - 2s 9ms/step - loss: 1.2521 - accuracy: 0.5187 - val_loss: 1.3229 - val_accuracy: 0.4804\n",
            "Epoch 11/20\n",
            "225/225 [==============================] - 2s 9ms/step - loss: 1.2130 - accuracy: 0.5338 - val_loss: 1.3172 - val_accuracy: 0.4921\n",
            "Epoch 12/20\n",
            "225/225 [==============================] - 2s 10ms/step - loss: 1.1708 - accuracy: 0.5510 - val_loss: 1.3350 - val_accuracy: 0.4826\n",
            "Epoch 13/20\n",
            "225/225 [==============================] - 2s 10ms/step - loss: 1.1437 - accuracy: 0.5619 - val_loss: 1.2832 - val_accuracy: 0.4940\n",
            "Epoch 14/20\n",
            "225/225 [==============================] - 2s 9ms/step - loss: 1.1009 - accuracy: 0.5845 - val_loss: 1.2894 - val_accuracy: 0.5077\n",
            "Epoch 15/20\n",
            "225/225 [==============================] - 2s 9ms/step - loss: 1.0700 - accuracy: 0.5936 - val_loss: 1.2728 - val_accuracy: 0.5166\n",
            "Epoch 16/20\n",
            "225/225 [==============================] - 2s 9ms/step - loss: 1.0242 - accuracy: 0.6123 - val_loss: 1.2851 - val_accuracy: 0.5180\n",
            "Epoch 17/20\n",
            "225/225 [==============================] - 2s 9ms/step - loss: 0.9951 - accuracy: 0.6248 - val_loss: 1.2556 - val_accuracy: 0.5230\n",
            "Epoch 18/20\n",
            "225/225 [==============================] - 2s 9ms/step - loss: 0.9635 - accuracy: 0.6404 - val_loss: 1.2776 - val_accuracy: 0.5180\n",
            "Epoch 19/20\n",
            "225/225 [==============================] - 2s 9ms/step - loss: 0.9228 - accuracy: 0.6609 - val_loss: 1.3346 - val_accuracy: 0.5096\n",
            "Epoch 20/20\n",
            "225/225 [==============================] - 2s 9ms/step - loss: 0.8844 - accuracy: 0.6772 - val_loss: 1.3038 - val_accuracy: 0.5263\n"
          ],
          "name": "stdout"
        }
      ]
    },
    {
      "cell_type": "code",
      "metadata": {
        "colab": {
          "base_uri": "https://localhost:8080/"
        },
        "id": "m1N6mbMl6GnC",
        "outputId": "a63ebea7-d81c-4bea-b269-8605697c7063"
      },
      "source": [
        "model.evaluate(X_processed_test,y_test_onehot)"
      ],
      "execution_count": null,
      "outputs": [
        {
          "output_type": "stream",
          "text": [
            "113/113 [==============================] - 0s 3ms/step - loss: 1.3072 - accuracy: 0.5249\n"
          ],
          "name": "stdout"
        },
        {
          "output_type": "execute_result",
          "data": {
            "text/plain": [
              "[1.30718195438385, 0.5249373316764832]"
            ]
          },
          "metadata": {
            "tags": []
          },
          "execution_count": 122
        }
      ]
    },
    {
      "cell_type": "code",
      "metadata": {
        "colab": {
          "base_uri": "https://localhost:8080/"
        },
        "id": "a63T62JPWHn8",
        "outputId": "bb1026c5-1bfa-41a7-d6a0-cbd3b1b75aaa"
      },
      "source": [
        "model.load_weights(checkpoint_filepath)\r\n",
        "model.evaluate(X_processed_test,y_test_onehot)"
      ],
      "execution_count": null,
      "outputs": [
        {
          "output_type": "stream",
          "text": [
            "113/113 [==============================] - 0s 3ms/step - loss: 1.3072 - accuracy: 0.5249\n"
          ],
          "name": "stdout"
        },
        {
          "output_type": "execute_result",
          "data": {
            "text/plain": [
              "[1.30718195438385, 0.5249373316764832]"
            ]
          },
          "metadata": {
            "tags": []
          },
          "execution_count": 124
        }
      ]
    },
    {
      "cell_type": "code",
      "metadata": {
        "colab": {
          "base_uri": "https://localhost:8080/",
          "height": 295
        },
        "id": "L8z3gISD61LP",
        "outputId": "af572e61-90c5-46be-f477-002b3b90c8b0"
      },
      "source": [
        "import matplotlib.pyplot as plt\r\n",
        "loss = history.history['loss']\r\n",
        "acc = history.history['accuracy']\r\n",
        "acc_val = history.history['val_accuracy']\r\n",
        "epochs = range(1, len(loss)+1)\r\n",
        "plt.plot(epochs, acc, 'r', label='accuracy_train')\r\n",
        "plt.plot(epochs, acc_val, 'b', label='accuracy_val')\r\n",
        "plt.title('accuracy')\r\n",
        "plt.xlabel('epochs')\r\n",
        "plt.ylabel('value of accuracy')\r\n",
        "plt.legend()\r\n",
        "plt.grid()\r\n",
        "plt.show()"
      ],
      "execution_count": null,
      "outputs": [
        {
          "output_type": "display_data",
          "data": {
            "image/png": "[encoded data removed]",
            "text/plain": [
              "<Figure size 432x288 with 1 Axes>"
            ]
          },
          "metadata": {
            "tags": [],
            "needs_background": "light"
          }
        }
      ]
    },
    {
      "cell_type": "markdown",
      "metadata": {
        "id": "S78mfEowgWu8"
      },
      "source": [
        "#Evaluation"
      ]
    },
    {
      "cell_type": "code",
      "metadata": {
        "colab": {
          "base_uri": "https://localhost:8080/",
          "height": 421
        },
        "id": "kZS51cm4bKcs",
        "outputId": "12785f47-9ea5-4fe2-f2d1-8290fcfb43e3"
      },
      "source": [
        "# Quantitative evaluation of the model quality on the test set\r\n",
        "import time\r\n",
        "from sklearn.metrics import classification_report\r\n",
        "from sklearn.metrics import confusion_matrix\r\n",
        "\r\n",
        "print(\"Predicting people's names on the test set\")\r\n",
        "t0 = time.time()\r\n",
        "y_pred = model.predict(X_processed_test)\r\n",
        "print(\"done in %0.3fs\" % (time.time() - t0))\r\n",
        "\r\n",
        "print(classification_report(y_test_onehot, y_pred, target_names=class_names))\r\n",
        "# print(confusion_matrix(y_test, y_pred, labels=range(len(class_names))))"
      ],
      "execution_count": null,
      "outputs": [
        {
          "output_type": "stream",
          "text": [
            "Predicting people's names on the test set\n",
            "done in 2.683s\n"
          ],
          "name": "stdout"
        },
        {
          "output_type": "error",
          "ename": "ValueError",
          "evalue": "ignored",
          "traceback": [
            "\u001b[0;31m---------------------------------------------------------------------------\u001b[0m",
            "\u001b[0;31mValueError\u001b[0m                                Traceback (most recent call last)",
            "\u001b[0;32m<ipython-input-59-d18b5c662fcc>\u001b[0m in \u001b[0;36m<module>\u001b[0;34m()\u001b[0m\n\u001b[1;32m      9\u001b[0m \u001b[0mprint\u001b[0m\u001b[0;34m(\u001b[0m\u001b[0;34m\"done in %0.3fs\"\u001b[0m \u001b[0;34m%\u001b[0m \u001b[0;34m(\u001b[0m\u001b[0mtime\u001b[0m\u001b[0;34m.\u001b[0m\u001b[0mtime\u001b[0m\u001b[0;34m(\u001b[0m\u001b[0;34m)\u001b[0m \u001b[0;34m-\u001b[0m \u001b[0mt0\u001b[0m\u001b[0;34m)\u001b[0m\u001b[0;34m)\u001b[0m\u001b[0;34m\u001b[0m\u001b[0;34m\u001b[0m\u001b[0m\n\u001b[1;32m     10\u001b[0m \u001b[0;34m\u001b[0m\u001b[0m\n\u001b[0;32m---> 11\u001b[0;31m \u001b[0mprint\u001b[0m\u001b[0;34m(\u001b[0m\u001b[0mclassification_report\u001b[0m\u001b[0;34m(\u001b[0m\u001b[0my_test_onehot\u001b[0m\u001b[0;34m,\u001b[0m \u001b[0my_pred\u001b[0m\u001b[0;34m,\u001b[0m \u001b[0mtarget_names\u001b[0m\u001b[0;34m=\u001b[0m\u001b[0mclass_names\u001b[0m\u001b[0;34m)\u001b[0m\u001b[0;34m)\u001b[0m\u001b[0;34m\u001b[0m\u001b[0;34m\u001b[0m\u001b[0m\n\u001b[0m\u001b[1;32m     12\u001b[0m \u001b[0;31m# print(confusion_matrix(y_test, y_pred, labels=range(len(class_names))))\u001b[0m\u001b[0;34m\u001b[0m\u001b[0;34m\u001b[0m\u001b[0;34m\u001b[0m\u001b[0m\n",
            "\u001b[0;32m/usr/local/lib/python3.6/dist-packages/sklearn/metrics/_classification.py\u001b[0m in \u001b[0;36mclassification_report\u001b[0;34m(y_true, y_pred, labels, target_names, sample_weight, digits, output_dict, zero_division)\u001b[0m\n\u001b[1;32m   1969\u001b[0m     \"\"\"\n\u001b[1;32m   1970\u001b[0m \u001b[0;34m\u001b[0m\u001b[0m\n\u001b[0;32m-> 1971\u001b[0;31m     \u001b[0my_type\u001b[0m\u001b[0;34m,\u001b[0m \u001b[0my_true\u001b[0m\u001b[0;34m,\u001b[0m \u001b[0my_pred\u001b[0m \u001b[0;34m=\u001b[0m \u001b[0m_check_targets\u001b[0m\u001b[0;34m(\u001b[0m\u001b[0my_true\u001b[0m\u001b[0;34m,\u001b[0m \u001b[0my_pred\u001b[0m\u001b[0;34m)\u001b[0m\u001b[0;34m\u001b[0m\u001b[0;34m\u001b[0m\u001b[0m\n\u001b[0m\u001b[1;32m   1972\u001b[0m \u001b[0;34m\u001b[0m\u001b[0m\n\u001b[1;32m   1973\u001b[0m     \u001b[0mlabels_given\u001b[0m \u001b[0;34m=\u001b[0m \u001b[0;32mTrue\u001b[0m\u001b[0;34m\u001b[0m\u001b[0;34m\u001b[0m\u001b[0m\n",
            "\u001b[0;32m/usr/local/lib/python3.6/dist-packages/sklearn/metrics/_classification.py\u001b[0m in \u001b[0;36m_check_targets\u001b[0;34m(y_true, y_pred)\u001b[0m\n\u001b[1;32m     88\u001b[0m     \u001b[0;32mif\u001b[0m \u001b[0mlen\u001b[0m\u001b[0;34m(\u001b[0m\u001b[0my_type\u001b[0m\u001b[0;34m)\u001b[0m \u001b[0;34m>\u001b[0m \u001b[0;36m1\u001b[0m\u001b[0;34m:\u001b[0m\u001b[0;34m\u001b[0m\u001b[0;34m\u001b[0m\u001b[0m\n\u001b[1;32m     89\u001b[0m         raise ValueError(\"Classification metrics can't handle a mix of {0} \"\n\u001b[0;32m---> 90\u001b[0;31m                          \"and {1} targets\".format(type_true, type_pred))\n\u001b[0m\u001b[1;32m     91\u001b[0m \u001b[0;34m\u001b[0m\u001b[0m\n\u001b[1;32m     92\u001b[0m     \u001b[0;31m# We can't have more than one value on y_type => The set is no more needed\u001b[0m\u001b[0;34m\u001b[0m\u001b[0;34m\u001b[0m\u001b[0;34m\u001b[0m\u001b[0m\n",
            "\u001b[0;31mValueError\u001b[0m: Classification metrics can't handle a mix of multilabel-indicator and continuous-multioutput targets"
          ]
        }
      ]
    },
    {
      "cell_type": "code",
      "metadata": {
        "colab": {
          "base_uri": "https://localhost:8080/"
        },
        "id": "vczTRunJkihz",
        "outputId": "ae52eb67-d3c4-4dcd-8a7d-90318c9a5ece"
      },
      "source": [
        "from sklearn import metrics\r\n",
        "print(metrics.accuracy_score(y_test, y_pred))\r\n",
        "print(metrics.f1_score(y_test, y_pred,average='micro'))\r\n"
      ],
      "execution_count": null,
      "outputs": [
        {
          "output_type": "stream",
          "text": [
            "0.4834215658957927\n",
            "0.4834215658957927\n"
          ],
          "name": "stdout"
        }
      ]
    },
    {
      "cell_type": "code",
      "metadata": {
        "id": "BxthX5Y-k7QU"
      },
      "source": [
        "import pickle\r\n",
        "pickle.dump(svm, open('saved_model/eignface_svmC1.pkl', 'wb'))"
      ],
      "execution_count": null,
      "outputs": []
    },
    {
      "cell_type": "code",
      "metadata": {
        "id": "vIR1n5NYlAVT"
      },
      "source": [
        ""
      ],
      "execution_count": null,
      "outputs": []
    }
  ]
}