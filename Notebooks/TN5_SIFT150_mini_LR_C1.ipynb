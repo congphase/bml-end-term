{
  "nbformat": 4,
  "nbformat_minor": 0,
  "metadata": {
    "colab": {
      "name": "TN5_SIFT150_mini_LR_C1.ipynb",
      "provenance": [],
      "collapsed_sections": [],
      "toc_visible": true
    },
    "kernelspec": {
      "name": "python3",
      "display_name": "Python 3"
    }
  },
  "cells": [
    {
      "cell_type": "code",
      "metadata": {
        "id": "PL21Mz5-OeDg",
        "colab": {
          "base_uri": "https://localhost:8080/"
        },
        "outputId": "6cd1316a-2bd0-4dfc-f260-a2f4b4b50c8a"
      },
      "source": [
        "# Mount \"My Drive\" into /content/drive\r\n",
        "from google.colab import drive\r\n",
        "\r\n",
        "google_drive_dir = \"Final_project\"  # @param\r\n",
        "#bml-notebooks/\r\n",
        "drive.mount('/content/drive')\r\n",
        "\r\n",
        "mount_point = \"/content/drive/My Drive/{}\".format(google_drive_dir)\r\n",
        "\r\n",
        "# Change the root directory to your mount_point\r\n",
        "% cd '$mount_point'"
      ],
      "execution_count": 1,
      "outputs": [
        {
          "output_type": "stream",
          "text": [
            "Drive already mounted at /content/drive; to attempt to forcibly remount, call drive.mount(\"/content/drive\", force_remount=True).\n",
            "/content/drive/.shortcut-targets-by-id/1uHceact8nZzLehIO7J8WmUhJnJWKOf8w/Final_project\n"
          ],
          "name": "stdout"
        }
      ]
    },
    {
      "cell_type": "markdown",
      "metadata": {
        "id": "qUCjqlGGYWG5"
      },
      "source": [
        "# Downgrade opencv"
      ]
    },
    {
      "cell_type": "code",
      "metadata": {
        "id": "q2O722__dAmL"
      },
      "source": [
        "import cv2\r\n",
        "if cv2.__version__[0] == '4':\r\n",
        "    !pip uninstall opencv-python -y\r\n",
        "    #downgrade OpenCV a bit since some none-free features are not avilable\r\n",
        "    !pip install opencv-contrib-python==3.4.2.17 --force-reinstall"
      ],
      "execution_count": 2,
      "outputs": []
    },
    {
      "cell_type": "markdown",
      "metadata": {
        "papermill": {
          "duration": 0.044808,
          "end_time": "2020-12-18T22:02:11.416442",
          "exception": false,
          "start_time": "2020-12-18T22:02:11.371634",
          "status": "completed"
        },
        "tags": [],
        "id": "eI1PdIKtLrpv"
      },
      "source": [
        "# <span style=\"color: royalblue;\">Load Data</span>\n",
        "Load the image data with labels."
      ]
    },
    {
      "cell_type": "code",
      "metadata": {
        "id": "HM1rN5gqd5aG"
      },
      "source": [
        "from src.loadData import loadFer2013\r\n",
        "from keras.utils import to_categorical"
      ],
      "execution_count": 3,
      "outputs": []
    },
    {
      "cell_type": "code",
      "metadata": {
        "id": "ct5pobN6eBgW",
        "colab": {
          "base_uri": "https://localhost:8080/"
        },
        "outputId": "cf5babea-155c-453f-868d-84d1742fec9d"
      },
      "source": [
        "X_train,X_val,X_test,y_train,y_val,y_test = loadFer2013('fer2013/icml_face_data.csv')\r\n",
        "\r\n",
        "y_train_onehot = to_categorical(y_train)\r\n",
        "y_val_onehot = to_categorical(y_val)\r\n",
        "y_test_onehot = to_categorical(y_test)"
      ],
      "execution_count": 4,
      "outputs": [
        {
          "output_type": "stream",
          "text": [
            "/content/drive/.shortcut-targets-by-id/1uHceact8nZzLehIO7J8WmUhJnJWKOf8w/Final_project/src/loadData.py:23: SettingWithCopyWarning: \n",
            "A value is trying to be set on a copy of a slice from a DataFrame\n",
            "\n",
            "See the caveats in the documentation: https://pandas.pydata.org/pandas-docs/stable/user_guide/indexing.html#returning-a-view-versus-a-copy\n",
            "  data['emotion'][data['emotion']>1]-=1\n"
          ],
          "name": "stderr"
        }
      ]
    },
    {
      "cell_type": "code",
      "metadata": {
        "id": "1qZ7W3Pfh6-j",
        "colab": {
          "base_uri": "https://localhost:8080/"
        },
        "outputId": "805ecd7e-2561-41ae-e306-d17dd734ea21"
      },
      "source": [
        "y_train_onehot.shape, y_val_onehot.shape, y_test_onehot.shape"
      ],
      "execution_count": 5,
      "outputs": [
        {
          "output_type": "execute_result",
          "data": {
            "text/plain": [
              "((28709, 6), (3589, 6), (3589, 6))"
            ]
          },
          "metadata": {
            "tags": []
          },
          "execution_count": 5
        }
      ]
    },
    {
      "cell_type": "code",
      "metadata": {
        "id": "jncS-WGXfb2j",
        "colab": {
          "base_uri": "https://localhost:8080/"
        },
        "outputId": "2d4cdfd1-24ba-46b3-f9c3-3f3f02b50737"
      },
      "source": [
        "X_train.shape, y_train.shape"
      ],
      "execution_count": 6,
      "outputs": [
        {
          "output_type": "execute_result",
          "data": {
            "text/plain": [
              "((28709, 48, 48), (28709,))"
            ]
          },
          "metadata": {
            "tags": []
          },
          "execution_count": 6
        }
      ]
    },
    {
      "cell_type": "code",
      "metadata": {
        "id": "Nt9oKq3mo60M"
      },
      "source": [
        "emotions = {0: 'Angry', 1:'Fear', 2: 'Happy', 3: 'Sad', 4: 'Surprise', 5: 'Neutral'}"
      ],
      "execution_count": 7,
      "outputs": []
    },
    {
      "cell_type": "code",
      "metadata": {
        "id": "sIHHtenVug_E",
        "colab": {
          "base_uri": "https://localhost:8080/"
        },
        "outputId": "bd449f30-431e-4f2a-cbd0-3a3a34e11ce9"
      },
      "source": [
        "class_names = list(emotions.values())\r\n",
        "class_names"
      ],
      "execution_count": 8,
      "outputs": [
        {
          "output_type": "execute_result",
          "data": {
            "text/plain": [
              "['Angry', 'Fear', 'Happy', 'Sad', 'Surprise', 'Neutral']"
            ]
          },
          "metadata": {
            "tags": []
          },
          "execution_count": 8
        }
      ]
    },
    {
      "cell_type": "markdown",
      "metadata": {
        "id": "2NbdB64SdEET"
      },
      "source": [
        "# Extract features"
      ]
    },
    {
      "cell_type": "code",
      "metadata": {
        "id": "uFKdTq_hQTYH"
      },
      "source": [
        "from src.extractFeatures import *"
      ],
      "execution_count": 9,
      "outputs": []
    },
    {
      "cell_type": "code",
      "metadata": {
        "id": "b4X5PB-xjInU",
        "colab": {
          "base_uri": "https://localhost:8080/"
        },
        "outputId": "42f6a2a5-05a9-4d31-ecf4-0b0cf59970c4"
      },
      "source": [
        "\r\n",
        "X_descriptors_train = extract_sift_features(X_train)\r\n",
        "X_descriptors_val = extract_sift_features(X_val)\r\n",
        "for i in range(10):\r\n",
        "    print('Image {} has {} descriptors'.format(i, len(X_descriptors_train[i])))"
      ],
      "execution_count": 10,
      "outputs": [
        {
          "output_type": "stream",
          "text": [
            "Image 0 has 24 descriptors\n",
            "Image 1 has 36 descriptors\n",
            "Image 2 has 25 descriptors\n",
            "Image 3 has 26 descriptors\n",
            "Image 4 has 27 descriptors\n",
            "Image 5 has 25 descriptors\n",
            "Image 6 has 23 descriptors\n",
            "Image 7 has 20 descriptors\n",
            "Image 8 has 25 descriptors\n",
            "Image 9 has 26 descriptors\n"
          ],
          "name": "stdout"
        }
      ]
    },
    {
      "cell_type": "code",
      "metadata": {
        "id": "jR680Cddr2VZ",
        "colab": {
          "base_uri": "https://localhost:8080/"
        },
        "outputId": "e87ced97-1104-4842-c3cb-c701a3b1f425"
      },
      "source": [
        "import time\r\n",
        "num_clusters = 150\r\n",
        "X_descriptors = X_descriptors_train+X_descriptors_val\r\n",
        "print(len(X_descriptors))\r\n",
        "st = time.time()\r\n",
        "bow_dict = create_BoWSIFTfeature(X_descriptors,num_clusters)\r\n",
        "en = time.time()\r\n",
        "print(\"time\",en-st)\r\n",
        "X_features = create_features_bow(X_descriptors, bow_dict, num_clusters)"
      ],
      "execution_count": 15,
      "outputs": [
        {
          "output_type": "stream",
          "text": [
            "32298\n",
            "Processing...\n",
            "Total number of descriptors: 771202\n",
            "using minikmean\n",
            "Data saved at BoW_data/bow_dict_150.pkl\n",
            "time 9.820410251617432\n"
          ],
          "name": "stdout"
        }
      ]
    },
    {
      "cell_type": "code",
      "metadata": {
        "id": "rdo5sQTyuZSJ",
        "colab": {
          "base_uri": "https://localhost:8080/"
        },
        "outputId": "8ead84a5-4974-4a61-d55b-4803950c44f1"
      },
      "source": [
        "\r\n",
        "len(X_features)"
      ],
      "execution_count": 16,
      "outputs": [
        {
          "output_type": "execute_result",
          "data": {
            "text/plain": [
              "32298"
            ]
          },
          "metadata": {
            "tags": []
          },
          "execution_count": 16
        }
      ]
    },
    {
      "cell_type": "markdown",
      "metadata": {
        "id": "4_4gqGDmuWTz"
      },
      "source": [
        "# Classification"
      ]
    },
    {
      "cell_type": "code",
      "metadata": {
        "colab": {
          "base_uri": "https://localhost:8080/"
        },
        "id": "hbCZYBOZuWT2",
        "outputId": "047741f0-6dbe-4d3d-e66d-9b0b117bfee3"
      },
      "source": [
        "from sklearn.linear_model import LogisticRegression\r\n",
        "y_label = np.hstack((y_train,y_val))\r\n",
        "y_label.shape"
      ],
      "execution_count": 17,
      "outputs": [
        {
          "output_type": "execute_result",
          "data": {
            "text/plain": [
              "(32298,)"
            ]
          },
          "metadata": {
            "tags": []
          },
          "execution_count": 17
        }
      ]
    },
    {
      "cell_type": "code",
      "metadata": {
        "colab": {
          "base_uri": "https://localhost:8080/"
        },
        "id": "rs3avo6eB8__",
        "outputId": "5b5785ea-5971-4a12-f39d-9bbe32858b2e"
      },
      "source": [
        "model = LogisticRegression(C=1,max_iter=1000,verbose=0)\n",
        "\n",
        "st= time.time()\n",
        "model.fit(X_features, y_label)\n",
        "print(time.time()-st)\n",
        "model.score(X_features, y_label)"
      ],
      "execution_count": 18,
      "outputs": [
        {
          "output_type": "stream",
          "text": [
            "4.882762670516968\n"
          ],
          "name": "stdout"
        },
        {
          "output_type": "execute_result",
          "data": {
            "text/plain": [
              "0.2507585609016038"
            ]
          },
          "metadata": {
            "tags": []
          },
          "execution_count": 18
        }
      ]
    },
    {
      "cell_type": "code",
      "metadata": {
        "id": "q-B5_iPyuRn9"
      },
      "source": [
        ""
      ],
      "execution_count": null,
      "outputs": []
    },
    {
      "cell_type": "markdown",
      "metadata": {
        "id": "S78mfEowgWu8"
      },
      "source": [
        "#Evaluation"
      ]
    },
    {
      "cell_type": "code",
      "metadata": {
        "id": "7yYiGsmt6AIK",
        "colab": {
          "base_uri": "https://localhost:8080/"
        },
        "outputId": "89288621-db86-4784-c661-940d8c5179c8"
      },
      "source": [
        "import pickle\r\n",
        "\r\n",
        "num_clusters = 150\r\n",
        "bow_dict = pickle.load(open('BoW_data/bow_dict_{}.pkl'.format(num_clusters), 'rb'))\r\n",
        "\r\n",
        "X_descriptors_test = extract_sift_features(X_test)\r\n",
        "X_features_test = create_features_bow(X_descriptors_test, bow_dict,num_clusters )\r\n",
        "y_pred = model.predict(X_features_test)\r\n",
        "\r\n",
        "print(model.score(X_features_test,y_test))"
      ],
      "execution_count": 19,
      "outputs": [
        {
          "output_type": "stream",
          "text": [
            "0.251044859292282\n"
          ],
          "name": "stdout"
        }
      ]
    },
    {
      "cell_type": "markdown",
      "metadata": {
        "papermill": {
          "duration": 0.047558,
          "end_time": "2020-12-18T22:02:19.299295",
          "exception": false,
          "start_time": "2020-12-18T22:02:19.251737",
          "status": "completed"
        },
        "tags": [],
        "id": "BBnosJ7_Lrpy"
      },
      "source": [
        "# Visual"
      ]
    },
    {
      "cell_type": "code",
      "metadata": {
        "colab": {
          "base_uri": "https://localhost:8080/",
          "height": 314
        },
        "id": "qCLOS2U75c_R",
        "outputId": "28bc0a24-0582-4ba7-d092-4be3a92d755b"
      },
      "source": [
        "from sklearn.metrics import confusion_matrix\r\n",
        "from mlxtend.plotting import plot_confusion_matrix\r\n",
        "\r\n",
        "plot_confusion_matrix(confusion_matrix(y_test,y_pred))"
      ],
      "execution_count": 20,
      "outputs": [
        {
          "output_type": "execute_result",
          "data": {
            "text/plain": [
              "(<Figure size 432x288 with 1 Axes>,\n",
              " <matplotlib.axes._subplots.AxesSubplot at 0x7f2fc3d85668>)"
            ]
          },
          "metadata": {
            "tags": []
          },
          "execution_count": 20
        },
        {
          "output_type": "display_data",
          "data": {
            "image/png": "[encoded data removed]",
            "text/plain": [
              "<Figure size 432x288 with 1 Axes>"
            ]
          },
          "metadata": {
            "tags": [],
            "needs_background": "light"
          }
        }
      ]
    },
    {
      "cell_type": "code",
      "metadata": {
        "papermill": {
          "duration": 0.05656,
          "end_time": "2020-12-18T22:02:19.402903",
          "exception": false,
          "start_time": "2020-12-18T22:02:19.346343",
          "status": "completed"
        },
        "tags": [],
        "id": "FzPko1foLrpy",
        "colab": {
          "base_uri": "https://localhost:8080/"
        },
        "outputId": "5c86156e-d6bc-416b-9b51-67c5f4b7dd0c"
      },
      "source": [
        "from sklearn.metrics import classification_report\r\n",
        "from src.visualization import plot_classification_report\r\n",
        "\r\n",
        "clf_report = classification_report(y_test, y_pred, digits=4)\r\n",
        "print(clf_report)"
      ],
      "execution_count": 21,
      "outputs": [
        {
          "output_type": "stream",
          "text": [
            "              precision    recall  f1-score   support\n",
            "\n",
            "           0     0.0000    0.0000    0.0000       467\n",
            "           1     0.2214    0.0562    0.0896       552\n",
            "           2     0.2527    0.9721    0.4011       895\n",
            "           3     0.0000    0.0000    0.0000       653\n",
            "           4     0.0000    0.0000    0.0000       415\n",
            "           5     0.0000    0.0000    0.0000       607\n",
            "\n",
            "    accuracy                         0.2510      3589\n",
            "   macro avg     0.0790    0.1714    0.0818      3589\n",
            "weighted avg     0.0971    0.2510    0.1138      3589\n",
            "\n"
          ],
          "name": "stdout"
        },
        {
          "output_type": "stream",
          "text": [
            "/usr/local/lib/python3.6/dist-packages/sklearn/metrics/_classification.py:1272: UndefinedMetricWarning: Precision and F-score are ill-defined and being set to 0.0 in labels with no predicted samples. Use `zero_division` parameter to control this behavior.\n",
            "  _warn_prf(average, modifier, msg_start, len(result))\n"
          ],
          "name": "stderr"
        }
      ]
    },
    {
      "cell_type": "code",
      "metadata": {
        "colab": {
          "base_uri": "https://localhost:8080/",
          "height": 281
        },
        "id": "rNiKhfQwunjm",
        "outputId": "5ce4c596-c89f-4ed5-90c9-a97a552bc5da"
      },
      "source": [
        "import pandas as pd\r\n",
        "df = pd.DataFrame(classification_report(y_test, y_pred, digits=1,output_dict=True)).T\r\n",
        "\r\n",
        "df['support'] = df.support.apply(int)\r\n",
        "\r\n",
        "df.style.background_gradient(cmap='viridis',\r\n",
        "                             subset=pd.IndexSlice['0':'6', :'f1-score'])"
      ],
      "execution_count": 22,
      "outputs": [
        {
          "output_type": "stream",
          "text": [
            "/usr/local/lib/python3.6/dist-packages/sklearn/metrics/_classification.py:1272: UndefinedMetricWarning: Precision and F-score are ill-defined and being set to 0.0 in labels with no predicted samples. Use `zero_division` parameter to control this behavior.\n",
            "  _warn_prf(average, modifier, msg_start, len(result))\n"
          ],
          "name": "stderr"
        },
        {
          "output_type": "execute_result",
          "data": {
            "text/html": [
              "<style  type=\"text/css\" >\n",
              "#T_5f65147c_49ba_11eb_b7c5_0242ac1c0002row0_col0,#T_5f65147c_49ba_11eb_b7c5_0242ac1c0002row0_col1,#T_5f65147c_49ba_11eb_b7c5_0242ac1c0002row0_col2,#T_5f65147c_49ba_11eb_b7c5_0242ac1c0002row3_col0,#T_5f65147c_49ba_11eb_b7c5_0242ac1c0002row3_col1,#T_5f65147c_49ba_11eb_b7c5_0242ac1c0002row3_col2,#T_5f65147c_49ba_11eb_b7c5_0242ac1c0002row4_col0,#T_5f65147c_49ba_11eb_b7c5_0242ac1c0002row4_col1,#T_5f65147c_49ba_11eb_b7c5_0242ac1c0002row4_col2,#T_5f65147c_49ba_11eb_b7c5_0242ac1c0002row5_col0,#T_5f65147c_49ba_11eb_b7c5_0242ac1c0002row5_col1,#T_5f65147c_49ba_11eb_b7c5_0242ac1c0002row5_col2{\n",
              "            background-color:  #440154;\n",
              "            color:  #f1f1f1;\n",
              "        }#T_5f65147c_49ba_11eb_b7c5_0242ac1c0002row1_col0{\n",
              "            background-color:  #addc30;\n",
              "            color:  #000000;\n",
              "        }#T_5f65147c_49ba_11eb_b7c5_0242ac1c0002row1_col1{\n",
              "            background-color:  #481668;\n",
              "            color:  #f1f1f1;\n",
              "        }#T_5f65147c_49ba_11eb_b7c5_0242ac1c0002row1_col2{\n",
              "            background-color:  #3e4a89;\n",
              "            color:  #f1f1f1;\n",
              "        }#T_5f65147c_49ba_11eb_b7c5_0242ac1c0002row2_col0,#T_5f65147c_49ba_11eb_b7c5_0242ac1c0002row2_col1,#T_5f65147c_49ba_11eb_b7c5_0242ac1c0002row2_col2{\n",
              "            background-color:  #fde725;\n",
              "            color:  #000000;\n",
              "        }</style><table id=\"T_5f65147c_49ba_11eb_b7c5_0242ac1c0002\" ><thead>    <tr>        <th class=\"blank level0\" ></th>        <th class=\"col_heading level0 col0\" >precision</th>        <th class=\"col_heading level0 col1\" >recall</th>        <th class=\"col_heading level0 col2\" >f1-score</th>        <th class=\"col_heading level0 col3\" >support</th>    </tr></thead><tbody>\n",
              "                <tr>\n",
              "                        <th id=\"T_5f65147c_49ba_11eb_b7c5_0242ac1c0002level0_row0\" class=\"row_heading level0 row0\" >0</th>\n",
              "                        <td id=\"T_5f65147c_49ba_11eb_b7c5_0242ac1c0002row0_col0\" class=\"data row0 col0\" >0.000000</td>\n",
              "                        <td id=\"T_5f65147c_49ba_11eb_b7c5_0242ac1c0002row0_col1\" class=\"data row0 col1\" >0.000000</td>\n",
              "                        <td id=\"T_5f65147c_49ba_11eb_b7c5_0242ac1c0002row0_col2\" class=\"data row0 col2\" >0.000000</td>\n",
              "                        <td id=\"T_5f65147c_49ba_11eb_b7c5_0242ac1c0002row0_col3\" class=\"data row0 col3\" >467</td>\n",
              "            </tr>\n",
              "            <tr>\n",
              "                        <th id=\"T_5f65147c_49ba_11eb_b7c5_0242ac1c0002level0_row1\" class=\"row_heading level0 row1\" >1</th>\n",
              "                        <td id=\"T_5f65147c_49ba_11eb_b7c5_0242ac1c0002row1_col0\" class=\"data row1 col0\" >0.221429</td>\n",
              "                        <td id=\"T_5f65147c_49ba_11eb_b7c5_0242ac1c0002row1_col1\" class=\"data row1 col1\" >0.056159</td>\n",
              "                        <td id=\"T_5f65147c_49ba_11eb_b7c5_0242ac1c0002row1_col2\" class=\"data row1 col2\" >0.089595</td>\n",
              "                        <td id=\"T_5f65147c_49ba_11eb_b7c5_0242ac1c0002row1_col3\" class=\"data row1 col3\" >552</td>\n",
              "            </tr>\n",
              "            <tr>\n",
              "                        <th id=\"T_5f65147c_49ba_11eb_b7c5_0242ac1c0002level0_row2\" class=\"row_heading level0 row2\" >2</th>\n",
              "                        <td id=\"T_5f65147c_49ba_11eb_b7c5_0242ac1c0002row2_col0\" class=\"data row2 col0\" >0.252687</td>\n",
              "                        <td id=\"T_5f65147c_49ba_11eb_b7c5_0242ac1c0002row2_col1\" class=\"data row2 col1\" >0.972067</td>\n",
              "                        <td id=\"T_5f65147c_49ba_11eb_b7c5_0242ac1c0002row2_col2\" class=\"data row2 col2\" >0.401107</td>\n",
              "                        <td id=\"T_5f65147c_49ba_11eb_b7c5_0242ac1c0002row2_col3\" class=\"data row2 col3\" >895</td>\n",
              "            </tr>\n",
              "            <tr>\n",
              "                        <th id=\"T_5f65147c_49ba_11eb_b7c5_0242ac1c0002level0_row3\" class=\"row_heading level0 row3\" >3</th>\n",
              "                        <td id=\"T_5f65147c_49ba_11eb_b7c5_0242ac1c0002row3_col0\" class=\"data row3 col0\" >0.000000</td>\n",
              "                        <td id=\"T_5f65147c_49ba_11eb_b7c5_0242ac1c0002row3_col1\" class=\"data row3 col1\" >0.000000</td>\n",
              "                        <td id=\"T_5f65147c_49ba_11eb_b7c5_0242ac1c0002row3_col2\" class=\"data row3 col2\" >0.000000</td>\n",
              "                        <td id=\"T_5f65147c_49ba_11eb_b7c5_0242ac1c0002row3_col3\" class=\"data row3 col3\" >653</td>\n",
              "            </tr>\n",
              "            <tr>\n",
              "                        <th id=\"T_5f65147c_49ba_11eb_b7c5_0242ac1c0002level0_row4\" class=\"row_heading level0 row4\" >4</th>\n",
              "                        <td id=\"T_5f65147c_49ba_11eb_b7c5_0242ac1c0002row4_col0\" class=\"data row4 col0\" >0.000000</td>\n",
              "                        <td id=\"T_5f65147c_49ba_11eb_b7c5_0242ac1c0002row4_col1\" class=\"data row4 col1\" >0.000000</td>\n",
              "                        <td id=\"T_5f65147c_49ba_11eb_b7c5_0242ac1c0002row4_col2\" class=\"data row4 col2\" >0.000000</td>\n",
              "                        <td id=\"T_5f65147c_49ba_11eb_b7c5_0242ac1c0002row4_col3\" class=\"data row4 col3\" >415</td>\n",
              "            </tr>\n",
              "            <tr>\n",
              "                        <th id=\"T_5f65147c_49ba_11eb_b7c5_0242ac1c0002level0_row5\" class=\"row_heading level0 row5\" >5</th>\n",
              "                        <td id=\"T_5f65147c_49ba_11eb_b7c5_0242ac1c0002row5_col0\" class=\"data row5 col0\" >0.000000</td>\n",
              "                        <td id=\"T_5f65147c_49ba_11eb_b7c5_0242ac1c0002row5_col1\" class=\"data row5 col1\" >0.000000</td>\n",
              "                        <td id=\"T_5f65147c_49ba_11eb_b7c5_0242ac1c0002row5_col2\" class=\"data row5 col2\" >0.000000</td>\n",
              "                        <td id=\"T_5f65147c_49ba_11eb_b7c5_0242ac1c0002row5_col3\" class=\"data row5 col3\" >607</td>\n",
              "            </tr>\n",
              "            <tr>\n",
              "                        <th id=\"T_5f65147c_49ba_11eb_b7c5_0242ac1c0002level0_row6\" class=\"row_heading level0 row6\" >accuracy</th>\n",
              "                        <td id=\"T_5f65147c_49ba_11eb_b7c5_0242ac1c0002row6_col0\" class=\"data row6 col0\" >0.251045</td>\n",
              "                        <td id=\"T_5f65147c_49ba_11eb_b7c5_0242ac1c0002row6_col1\" class=\"data row6 col1\" >0.251045</td>\n",
              "                        <td id=\"T_5f65147c_49ba_11eb_b7c5_0242ac1c0002row6_col2\" class=\"data row6 col2\" >0.251045</td>\n",
              "                        <td id=\"T_5f65147c_49ba_11eb_b7c5_0242ac1c0002row6_col3\" class=\"data row6 col3\" >0</td>\n",
              "            </tr>\n",
              "            <tr>\n",
              "                        <th id=\"T_5f65147c_49ba_11eb_b7c5_0242ac1c0002level0_row7\" class=\"row_heading level0 row7\" >macro avg</th>\n",
              "                        <td id=\"T_5f65147c_49ba_11eb_b7c5_0242ac1c0002row7_col0\" class=\"data row7 col0\" >0.079019</td>\n",
              "                        <td id=\"T_5f65147c_49ba_11eb_b7c5_0242ac1c0002row7_col1\" class=\"data row7 col1\" >0.171371</td>\n",
              "                        <td id=\"T_5f65147c_49ba_11eb_b7c5_0242ac1c0002row7_col2\" class=\"data row7 col2\" >0.081784</td>\n",
              "                        <td id=\"T_5f65147c_49ba_11eb_b7c5_0242ac1c0002row7_col3\" class=\"data row7 col3\" >3589</td>\n",
              "            </tr>\n",
              "            <tr>\n",
              "                        <th id=\"T_5f65147c_49ba_11eb_b7c5_0242ac1c0002level0_row8\" class=\"row_heading level0 row8\" >weighted avg</th>\n",
              "                        <td id=\"T_5f65147c_49ba_11eb_b7c5_0242ac1c0002row8_col0\" class=\"data row8 col0\" >0.097070</td>\n",
              "                        <td id=\"T_5f65147c_49ba_11eb_b7c5_0242ac1c0002row8_col1\" class=\"data row8 col1\" >0.251045</td>\n",
              "                        <td id=\"T_5f65147c_49ba_11eb_b7c5_0242ac1c0002row8_col2\" class=\"data row8 col2\" >0.113805</td>\n",
              "                        <td id=\"T_5f65147c_49ba_11eb_b7c5_0242ac1c0002row8_col3\" class=\"data row8 col3\" >3589</td>\n",
              "            </tr>\n",
              "    </tbody></table>"
            ],
            "text/plain": [
              "<pandas.io.formats.style.Styler at 0x7f2fc3c82438>"
            ]
          },
          "metadata": {
            "tags": []
          },
          "execution_count": 22
        }
      ]
    },
    {
      "cell_type": "code",
      "metadata": {
        "id": "MIKbDgRT0GGe"
      },
      "source": [
        ""
      ],
      "execution_count": 22,
      "outputs": []
    }
  ]
}