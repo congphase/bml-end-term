{
  "nbformat": 4,
  "nbformat_minor": 0,
  "metadata": {
    "colab": {
      "name": "TN2_SIFT68_LRopt.ipynb",
      "provenance": [],
      "collapsed_sections": [],
      "toc_visible": true
    },
    "kernelspec": {
      "name": "python3",
      "display_name": "Python 3"
    }
  },
  "cells": [
    {
      "cell_type": "code",
      "metadata": {
        "id": "PL21Mz5-OeDg",
        "colab": {
          "base_uri": "https://localhost:8080/"
        },
        "outputId": "63fd85ff-1611-4f9b-e3de-b7b634dac614"
      },
      "source": [
        "# Mount \"My Drive\" into /content/drive\r\n",
        "from google.colab import drive\r\n",
        "\r\n",
        "google_drive_dir = \"Final_project\"  # @param\r\n",
        "#bml-notebooks/\r\n",
        "drive.mount('/content/drive')\r\n",
        "\r\n",
        "mount_point = \"/content/drive/My Drive/{}\".format(google_drive_dir)\r\n",
        "\r\n",
        "# Change the root directory to your mount_point\r\n",
        "% cd '$mount_point'"
      ],
      "execution_count": 1,
      "outputs": [
        {
          "output_type": "stream",
          "text": [
            "Drive already mounted at /content/drive; to attempt to forcibly remount, call drive.mount(\"/content/drive\", force_remount=True).\n",
            "/content/drive/.shortcut-targets-by-id/1uHceact8nZzLehIO7J8WmUhJnJWKOf8w/Final_project\n"
          ],
          "name": "stdout"
        }
      ]
    },
    {
      "cell_type": "markdown",
      "metadata": {
        "id": "qUCjqlGGYWG5"
      },
      "source": [
        "# Downgrade opencv"
      ]
    },
    {
      "cell_type": "code",
      "metadata": {
        "id": "q2O722__dAmL"
      },
      "source": [
        "import cv2\r\n",
        "if cv2.__version__[0] == '4':\r\n",
        "    !pip uninstall opencv-python -y\r\n",
        "    #downgrade OpenCV a bit since some none-free features are not avilable\r\n",
        "    !pip install opencv-contrib-python==3.4.2.17 --force-reinstall"
      ],
      "execution_count": 2,
      "outputs": []
    },
    {
      "cell_type": "markdown",
      "metadata": {
        "papermill": {
          "duration": 0.044808,
          "end_time": "2020-12-18T22:02:11.416442",
          "exception": false,
          "start_time": "2020-12-18T22:02:11.371634",
          "status": "completed"
        },
        "tags": [],
        "id": "eI1PdIKtLrpv"
      },
      "source": [
        "# <span style=\"color: royalblue;\">Load Data</span>\n",
        "Load the image data with labels."
      ]
    },
    {
      "cell_type": "code",
      "metadata": {
        "id": "HM1rN5gqd5aG"
      },
      "source": [
        "from src.loadData import loadFer2013\r\n",
        "from keras.utils import to_categorical"
      ],
      "execution_count": 3,
      "outputs": []
    },
    {
      "cell_type": "code",
      "metadata": {
        "id": "ct5pobN6eBgW",
        "colab": {
          "base_uri": "https://localhost:8080/"
        },
        "outputId": "3b75242b-8124-47b3-a075-d34670354c55"
      },
      "source": [
        "X_train,X_val,X_test,y_train,y_val,y_test = loadFer2013('fer2013/icml_face_data.csv')\r\n",
        "\r\n",
        "y_train_onehot = to_categorical(y_train)\r\n",
        "y_val_onehot = to_categorical(y_val)\r\n",
        "y_test_onehot = to_categorical(y_test)"
      ],
      "execution_count": 4,
      "outputs": [
        {
          "output_type": "stream",
          "text": [
            "/content/drive/.shortcut-targets-by-id/1uHceact8nZzLehIO7J8WmUhJnJWKOf8w/Final_project/src/loadData.py:23: SettingWithCopyWarning: \n",
            "A value is trying to be set on a copy of a slice from a DataFrame\n",
            "\n",
            "See the caveats in the documentation: https://pandas.pydata.org/pandas-docs/stable/user_guide/indexing.html#returning-a-view-versus-a-copy\n",
            "  data['emotion'][data['emotion']>1]-=1\n"
          ],
          "name": "stderr"
        }
      ]
    },
    {
      "cell_type": "code",
      "metadata": {
        "id": "1qZ7W3Pfh6-j",
        "colab": {
          "base_uri": "https://localhost:8080/"
        },
        "outputId": "e46c96d7-a99e-4fa8-e712-212c7b672794"
      },
      "source": [
        "y_train_onehot.shape, y_val_onehot.shape, y_test_onehot.shape"
      ],
      "execution_count": 5,
      "outputs": [
        {
          "output_type": "execute_result",
          "data": {
            "text/plain": [
              "((28709, 6), (3589, 6), (3589, 6))"
            ]
          },
          "metadata": {
            "tags": []
          },
          "execution_count": 5
        }
      ]
    },
    {
      "cell_type": "code",
      "metadata": {
        "id": "jncS-WGXfb2j",
        "colab": {
          "base_uri": "https://localhost:8080/"
        },
        "outputId": "ef5ca350-125b-4afc-bba5-8f81bc05e314"
      },
      "source": [
        "X_train.shape, y_train.shape"
      ],
      "execution_count": 6,
      "outputs": [
        {
          "output_type": "execute_result",
          "data": {
            "text/plain": [
              "((28709, 48, 48), (28709,))"
            ]
          },
          "metadata": {
            "tags": []
          },
          "execution_count": 6
        }
      ]
    },
    {
      "cell_type": "code",
      "metadata": {
        "id": "Nt9oKq3mo60M"
      },
      "source": [
        "emotions = {0: 'Angry', 1:'Fear', 2: 'Happy', 3: 'Sad', 4: 'Surprise', 5: 'Neutral'}"
      ],
      "execution_count": 7,
      "outputs": []
    },
    {
      "cell_type": "code",
      "metadata": {
        "id": "sIHHtenVug_E",
        "colab": {
          "base_uri": "https://localhost:8080/"
        },
        "outputId": "2c50cade-d3e7-4298-ee39-c954f7e5190e"
      },
      "source": [
        "class_names = list(emotions.values())\r\n",
        "class_names"
      ],
      "execution_count": 8,
      "outputs": [
        {
          "output_type": "execute_result",
          "data": {
            "text/plain": [
              "['Angry', 'Fear', 'Happy', 'Sad', 'Surprise', 'Neutral']"
            ]
          },
          "metadata": {
            "tags": []
          },
          "execution_count": 8
        }
      ]
    },
    {
      "cell_type": "markdown",
      "metadata": {
        "id": "2NbdB64SdEET"
      },
      "source": [
        "# Extract features"
      ]
    },
    {
      "cell_type": "code",
      "metadata": {
        "id": "uFKdTq_hQTYH"
      },
      "source": [
        "from src.extractFeatures import *"
      ],
      "execution_count": 9,
      "outputs": []
    },
    {
      "cell_type": "code",
      "metadata": {
        "id": "b4X5PB-xjInU",
        "colab": {
          "base_uri": "https://localhost:8080/"
        },
        "outputId": "83897eaa-7660-4835-d6b2-7582d5694181"
      },
      "source": [
        "X_descriptors_train = extract_sift_features(X_train)\r\n",
        "X_descriptors_val = extract_sift_features(X_val)\r\n",
        "for i in range(10):\r\n",
        "    print('Image {} has {} descriptors'.format(i, len(X_descriptors_train[i])))"
      ],
      "execution_count": 10,
      "outputs": [
        {
          "output_type": "stream",
          "text": [
            "Image 0 has 24 descriptors\n",
            "Image 1 has 36 descriptors\n",
            "Image 2 has 25 descriptors\n",
            "Image 3 has 26 descriptors\n",
            "Image 4 has 27 descriptors\n",
            "Image 5 has 25 descriptors\n",
            "Image 6 has 23 descriptors\n",
            "Image 7 has 20 descriptors\n",
            "Image 8 has 25 descriptors\n",
            "Image 9 has 26 descriptors\n"
          ],
          "name": "stdout"
        }
      ]
    },
    {
      "cell_type": "code",
      "metadata": {
        "id": "jR680Cddr2VZ",
        "colab": {
          "base_uri": "https://localhost:8080/"
        },
        "outputId": "b9e51eb6-4d52-4c3f-c851-ab963f20e9c4"
      },
      "source": [
        "import time\r\n",
        "num_clusters = 68\r\n",
        "X_descriptors = X_descriptors_train+X_descriptors_val\r\n",
        "print(len(X_descriptors))\r\n",
        "st = time.time()\r\n",
        "bow_dict = create_BoWSIFTfeature(X_descriptors,num_clusters)\r\n",
        "en = time.time()\r\n",
        "print(\"time\",en-st)\r\n",
        "X_features = create_features_bow(X_descriptors, bow_dict, num_clusters)\r\n"
      ],
      "execution_count": 11,
      "outputs": [
        {
          "output_type": "stream",
          "text": [
            "32298\n",
            "Done load available result\n",
            "time 0.14557909965515137\n"
          ],
          "name": "stdout"
        }
      ]
    },
    {
      "cell_type": "code",
      "metadata": {
        "id": "rdo5sQTyuZSJ",
        "colab": {
          "base_uri": "https://localhost:8080/"
        },
        "outputId": "db34d079-e3a0-426b-a6fa-9023faee527a"
      },
      "source": [
        "len(X_features)"
      ],
      "execution_count": 12,
      "outputs": [
        {
          "output_type": "execute_result",
          "data": {
            "text/plain": [
              "32298"
            ]
          },
          "metadata": {
            "tags": []
          },
          "execution_count": 12
        }
      ]
    },
    {
      "cell_type": "markdown",
      "metadata": {
        "id": "TyXdyq4UO4oo"
      },
      "source": [
        "#Visualize using PCA"
      ]
    },
    {
      "cell_type": "code",
      "metadata": {
        "id": "ygwBmfXXwgT9"
      },
      "source": [
        "from sklearn.decomposition import PCA\r\n",
        "pca = PCA(n_components=2)\r\n",
        "pct = pca.fit_transform(X_features)"
      ],
      "execution_count": null,
      "outputs": []
    },
    {
      "cell_type": "code",
      "metadata": {
        "id": "JviJ-rENxB0i"
      },
      "source": [
        "from sklearn.decomposition import KernelPCA\r\n",
        "kpca = KernelPCA(n_components=2,kernel=\"rbf\", gamma=0.5) #“linear” | “poly” | “rbf” | “sigmoid” | “cosine” | “precomputed”\r\n",
        "data_kpca = kpca.fit_transform(X_features)"
      ],
      "execution_count": null,
      "outputs": []
    },
    {
      "cell_type": "code",
      "metadata": {
        "colab": {
          "base_uri": "https://localhost:8080/",
          "height": 281
        },
        "id": "pxd2MvIQxJF-",
        "outputId": "022ac588-aaf2-4d42-8863-ef3b40389d21"
      },
      "source": [
        "import itertools\r\n",
        "import matplotlib.pyplot as plt\r\n",
        "\r\n",
        "colors = itertools.cycle(['#1f77b4', '#ff7f0e', '#2ca02c', '#d62728', '#9467bd', '#8c564b', '#e377c2', '#7f7f7f', '#bcbd22', '#17becf'])\r\n",
        "plt.scatter(pct[y_label==0, 0], pct[y_label==0, 1], c=next(colors), s=20, edgecolor='k')\r\n",
        "# plt.scatter(pct[y_label==1, 0], pct[y_label==1, 1], c=next(colors), s=20, edgecolor='k')\r\n",
        "plt.scatter(pct[y_label==2, 0], pct[y_label==2, 1], c=next(colors), s=20, edgecolor='k')\r\n",
        "# plt.scatter(pct[y_label==3, 0], pct[y_label==3, 1], c=next(colors), s=20, edgecolor='k')\r\n",
        "# plt.scatter(pct[y_label==4, 0], pct[y_label==4, 1], c=next(colors), s=20, edgecolor='k')\r\n",
        "plt.scatter(pct[y_label==5, 0], pct[y_label==5, 1], c=next(colors), s=20, edgecolor='k')\r\n",
        "\r\n",
        "plt.title(\"Projection  Iris by PCA\")\r\n",
        "plt.show()"
      ],
      "execution_count": null,
      "outputs": [
        {
          "output_type": "display_data",
          "data": {
            "image/png": "[encoded data removed]",
            "text/plain": [
              "<Figure size 432x288 with 1 Axes>"
            ]
          },
          "metadata": {
            "tags": [],
            "needs_background": "light"
          }
        }
      ]
    },
    {
      "cell_type": "markdown",
      "metadata": {
        "id": "SJNQMRqApWJb"
      },
      "source": [
        "# Classification"
      ]
    },
    {
      "cell_type": "code",
      "metadata": {
        "id": "sP2IkhaMpY9k",
        "colab": {
          "base_uri": "https://localhost:8080/"
        },
        "outputId": "042a7cbf-ab4a-46ee-b735-89d98e731905"
      },
      "source": [
        "from sklearn.linear_model import LogisticRegression\n",
        "\n",
        "y_label = np.hstack((y_train,y_val))\n",
        "y_label.shape"
      ],
      "execution_count": 13,
      "outputs": [
        {
          "output_type": "execute_result",
          "data": {
            "text/plain": [
              "(32298,)"
            ]
          },
          "metadata": {
            "tags": []
          },
          "execution_count": 13
        }
      ]
    },
    {
      "cell_type": "markdown",
      "metadata": {
        "id": "iuwSKB9w7sLO"
      },
      "source": [
        "#GridSearch"
      ]
    },
    {
      "cell_type": "code",
      "metadata": {
        "id": "B6J7rV4w7wuz"
      },
      "source": [
        "from sklearn.model_selection import GridSearchCV\r\n",
        "parameters = {'C':np.logspace(-10, 1, 100)}\r\n",
        "logis_model = LogisticRegression(max_iter=1000)\r\n",
        "clf = GridSearchCV(logis_model, parameters)\r\n",
        "clf.fit(X_features, y_label)"
      ],
      "execution_count": null,
      "outputs": []
    },
    {
      "cell_type": "code",
      "metadata": {
        "id": "w1dNOJ1H47cI"
      },
      "source": [
        "import pickle\r\n",
        "pickle.dump(clf, open('saved_model/sift68_logis_copt.pkl', 'wb'))"
      ],
      "execution_count": null,
      "outputs": []
    },
    {
      "cell_type": "code",
      "metadata": {
        "id": "_6qpKRlCX8ah"
      },
      "source": [
        "import pickle\r\n",
        "clf = pickle.load(open('saved_model/sift68_logis_copt.pkl','rb'))"
      ],
      "execution_count": 19,
      "outputs": []
    },
    {
      "cell_type": "code",
      "metadata": {
        "colab": {
          "base_uri": "https://localhost:8080/"
        },
        "id": "m997dEVhscNI",
        "outputId": "bac2c433-4f1d-4bd1-dfca-f6b6302b37d6"
      },
      "source": [
        "clf"
      ],
      "execution_count": 20,
      "outputs": [
        {
          "output_type": "execute_result",
          "data": {
            "text/plain": [
              "GridSearchCV(cv=None, error_score=nan,\n",
              "             estimator=LogisticRegression(C=1.0, class_weight=None, dual=False,\n",
              "                                          fit_intercept=True,\n",
              "                                          intercept_scaling=1, l1_ratio=None,\n",
              "                                          max_iter=1000, multi_class='auto',\n",
              "                                          n_jobs=None, penalty='l2',\n",
              "                                          random_state=None, solver='lbfgs',\n",
              "                                          tol=0.0001, verbose=0,\n",
              "                                          warm_start=False),\n",
              "             iid='deprecated', n_jobs=None,\n",
              "             param_grid={'C': array([1.00000000e-05...\n",
              "       7.05480231e-01, 8.11130831e-01, 9.32603347e-01, 1.07226722e+00,\n",
              "       1.23284674e+00, 1.41747416e+00, 1.62975083e+00, 1.87381742e+00,\n",
              "       2.15443469e+00, 2.47707636e+00, 2.84803587e+00, 3.27454916e+00,\n",
              "       3.76493581e+00, 4.32876128e+00, 4.97702356e+00, 5.72236766e+00,\n",
              "       6.57933225e+00, 7.56463328e+00, 8.69749003e+00, 1.00000000e+01])},\n",
              "             pre_dispatch='2*n_jobs', refit=True, return_train_score=False,\n",
              "             scoring=None, verbose=0)"
            ]
          },
          "metadata": {
            "tags": []
          },
          "execution_count": 20
        }
      ]
    },
    {
      "cell_type": "code",
      "metadata": {
        "colab": {
          "base_uri": "https://localhost:8080/"
        },
        "id": "s0D_uKFqYISM",
        "outputId": "413e580f-f822-4762-fa3e-9fb46a50f57a"
      },
      "source": [
        "clf.best_params_"
      ],
      "execution_count": 21,
      "outputs": [
        {
          "output_type": "execute_result",
          "data": {
            "text/plain": [
              "{'C': 0.003511191734215131}"
            ]
          },
          "metadata": {
            "tags": []
          },
          "execution_count": 21
        }
      ]
    },
    {
      "cell_type": "code",
      "metadata": {
        "colab": {
          "base_uri": "https://localhost:8080/"
        },
        "id": "gKXns53SDhLo",
        "outputId": "a15d9c66-8771-45ea-fbad-8c7843e99f22"
      },
      "source": [
        "clf.score(X_features, y_label)"
      ],
      "execution_count": 22,
      "outputs": [
        {
          "output_type": "execute_result",
          "data": {
            "text/plain": [
              "0.2778190600037154"
            ]
          },
          "metadata": {
            "tags": []
          },
          "execution_count": 22
        }
      ]
    },
    {
      "cell_type": "code",
      "metadata": {
        "colab": {
          "base_uri": "https://localhost:8080/"
        },
        "id": "0_y4DEKLRSHE",
        "outputId": "1e1ab386-bbad-40e1-a275-e8e30d47db41"
      },
      "source": [
        "clf.best_estimator_.score(X_features, y_label)"
      ],
      "execution_count": 23,
      "outputs": [
        {
          "output_type": "execute_result",
          "data": {
            "text/plain": [
              "0.2778190600037154"
            ]
          },
          "metadata": {
            "tags": []
          },
          "execution_count": 23
        }
      ]
    },
    {
      "cell_type": "markdown",
      "metadata": {
        "id": "S78mfEowgWu8"
      },
      "source": [
        "#Evaluation"
      ]
    },
    {
      "cell_type": "code",
      "metadata": {
        "id": "7yYiGsmt6AIK",
        "colab": {
          "base_uri": "https://localhost:8080/"
        },
        "outputId": "27affe0b-754e-4230-e98a-1dbe79e1b182"
      },
      "source": [
        "import pickle\r\n",
        "\r\n",
        "num_clusters = 68\r\n",
        "bow_dict = pickle.load(open('BoW_data/bow_dict_{}.pkl'.format(num_clusters), 'rb'))\r\n",
        "\r\n",
        "X_descriptors_test = extract_sift_features(X_test)\r\n",
        "X_features_test = create_features_bow(X_descriptors_test, bow_dict,num_clusters )\r\n",
        "y_pred = clf.predict(X_features_test)\r\n",
        "\r\n",
        "print(clf.score(X_features_test,y_test))"
      ],
      "execution_count": 25,
      "outputs": [
        {
          "output_type": "stream",
          "text": [
            "0.27444970743939817\n"
          ],
          "name": "stdout"
        }
      ]
    },
    {
      "cell_type": "code",
      "metadata": {
        "id": "ZgtT2G87P9Eo"
      },
      "source": [
        ""
      ],
      "execution_count": null,
      "outputs": []
    },
    {
      "cell_type": "markdown",
      "metadata": {
        "papermill": {
          "duration": 0.047558,
          "end_time": "2020-12-18T22:02:19.299295",
          "exception": false,
          "start_time": "2020-12-18T22:02:19.251737",
          "status": "completed"
        },
        "tags": [],
        "id": "BBnosJ7_Lrpy"
      },
      "source": [
        "# Visual"
      ]
    },
    {
      "cell_type": "code",
      "metadata": {
        "colab": {
          "base_uri": "https://localhost:8080/",
          "height": 314
        },
        "id": "qCLOS2U75c_R",
        "outputId": "14ba0c2c-2893-4363-fb61-d42865ea7448"
      },
      "source": [
        "from sklearn.metrics import confusion_matrix\r\n",
        "from mlxtend.plotting import plot_confusion_matrix\r\n",
        "\r\n",
        "plot_confusion_matrix(confusion_matrix(y_test,y_pred))"
      ],
      "execution_count": 26,
      "outputs": [
        {
          "output_type": "execute_result",
          "data": {
            "text/plain": [
              "(<Figure size 432x288 with 1 Axes>,\n",
              " <matplotlib.axes._subplots.AxesSubplot at 0x7f0f54aa9390>)"
            ]
          },
          "metadata": {
            "tags": []
          },
          "execution_count": 26
        },
        {
          "output_type": "display_data",
          "data": {
            "image/png": "[encoded data removed]",
            "text/plain": [
              "<Figure size 432x288 with 1 Axes>"
            ]
          },
          "metadata": {
            "tags": [],
            "needs_background": "light"
          }
        }
      ]
    },
    {
      "cell_type": "code",
      "metadata": {
        "papermill": {
          "duration": 0.05656,
          "end_time": "2020-12-18T22:02:19.402903",
          "exception": false,
          "start_time": "2020-12-18T22:02:19.346343",
          "status": "completed"
        },
        "tags": [],
        "id": "FzPko1foLrpy",
        "colab": {
          "base_uri": "https://localhost:8080/"
        },
        "outputId": "a685bd3c-568d-4610-f704-82610c1defdb"
      },
      "source": [
        "from sklearn.metrics import classification_report\r\n",
        "from src.visualization import plot_classification_report\r\n",
        "\r\n",
        "clf_report = classification_report(y_test, y_pred, digits=4)\r\n",
        "print(clf_report)"
      ],
      "execution_count": 27,
      "outputs": [
        {
          "output_type": "stream",
          "text": [
            "              precision    recall  f1-score   support\n",
            "\n",
            "           0     0.1558    0.0257    0.0441       467\n",
            "           1     0.2088    0.1033    0.1382       552\n",
            "           2     0.2883    0.7173    0.4113       895\n",
            "           3     0.2727    0.1654    0.2059       653\n",
            "           4     0.3233    0.1807    0.2318       415\n",
            "           5     0.2370    0.1499    0.1837       607\n",
            "\n",
            "    accuracy                         0.2744      3589\n",
            "   macro avg     0.2476    0.2237    0.2025      3589\n",
            "weighted avg     0.2514    0.2744    0.2249      3589\n",
            "\n"
          ],
          "name": "stdout"
        }
      ]
    },
    {
      "cell_type": "code",
      "metadata": {
        "colab": {
          "base_uri": "https://localhost:8080/",
          "height": 226
        },
        "id": "rNiKhfQwunjm",
        "outputId": "2f8dd33a-89d5-408c-c90d-1a24c867d586"
      },
      "source": [
        "import pandas as pd\r\n",
        "df = pd.DataFrame(classification_report(y_test, y_pred, digits=1,output_dict=True)).T\r\n",
        "\r\n",
        "df['support'] = df.support.apply(int)\r\n",
        "\r\n",
        "df.style.background_gradient(cmap='viridis',\r\n",
        "                             subset=pd.IndexSlice['0':'6', :'f1-score'])"
      ],
      "execution_count": 28,
      "outputs": [
        {
          "output_type": "execute_result",
          "data": {
            "text/html": [
              "<style  type=\"text/css\" >\n",
              "#T_56ce8624_49b3_11eb_a32d_0242ac1c0002row0_col0,#T_56ce8624_49b3_11eb_a32d_0242ac1c0002row0_col1,#T_56ce8624_49b3_11eb_a32d_0242ac1c0002row0_col2{\n",
              "            background-color:  #440154;\n",
              "            color:  #f1f1f1;\n",
              "        }#T_56ce8624_49b3_11eb_a32d_0242ac1c0002row1_col0{\n",
              "            background-color:  #33638d;\n",
              "            color:  #f1f1f1;\n",
              "        }#T_56ce8624_49b3_11eb_a32d_0242ac1c0002row1_col1{\n",
              "            background-color:  #482878;\n",
              "            color:  #f1f1f1;\n",
              "        }#T_56ce8624_49b3_11eb_a32d_0242ac1c0002row1_col2{\n",
              "            background-color:  #3a538b;\n",
              "            color:  #f1f1f1;\n",
              "        }#T_56ce8624_49b3_11eb_a32d_0242ac1c0002row2_col0{\n",
              "            background-color:  #75d054;\n",
              "            color:  #000000;\n",
              "        }#T_56ce8624_49b3_11eb_a32d_0242ac1c0002row2_col1,#T_56ce8624_49b3_11eb_a32d_0242ac1c0002row2_col2,#T_56ce8624_49b3_11eb_a32d_0242ac1c0002row4_col0{\n",
              "            background-color:  #fde725;\n",
              "            color:  #000000;\n",
              "        }#T_56ce8624_49b3_11eb_a32d_0242ac1c0002row3_col0{\n",
              "            background-color:  #42be71;\n",
              "            color:  #000000;\n",
              "        }#T_56ce8624_49b3_11eb_a32d_0242ac1c0002row3_col1{\n",
              "            background-color:  #414487;\n",
              "            color:  #f1f1f1;\n",
              "        }#T_56ce8624_49b3_11eb_a32d_0242ac1c0002row3_col2{\n",
              "            background-color:  #26828e;\n",
              "            color:  #000000;\n",
              "        }#T_56ce8624_49b3_11eb_a32d_0242ac1c0002row4_col1{\n",
              "            background-color:  #3e4a89;\n",
              "            color:  #f1f1f1;\n",
              "        }#T_56ce8624_49b3_11eb_a32d_0242ac1c0002row4_col2{\n",
              "            background-color:  #20928c;\n",
              "            color:  #000000;\n",
              "        }#T_56ce8624_49b3_11eb_a32d_0242ac1c0002row5_col0{\n",
              "            background-color:  #228d8d;\n",
              "            color:  #000000;\n",
              "        }#T_56ce8624_49b3_11eb_a32d_0242ac1c0002row5_col1{\n",
              "            background-color:  #433d84;\n",
              "            color:  #f1f1f1;\n",
              "        }#T_56ce8624_49b3_11eb_a32d_0242ac1c0002row5_col2{\n",
              "            background-color:  #2c738e;\n",
              "            color:  #f1f1f1;\n",
              "        }</style><table id=\"T_56ce8624_49b3_11eb_a32d_0242ac1c0002\" ><thead>    <tr>        <th class=\"blank level0\" ></th>        <th class=\"col_heading level0 col0\" >precision</th>        <th class=\"col_heading level0 col1\" >recall</th>        <th class=\"col_heading level0 col2\" >f1-score</th>        <th class=\"col_heading level0 col3\" >support</th>    </tr></thead><tbody>\n",
              "                <tr>\n",
              "                        <th id=\"T_56ce8624_49b3_11eb_a32d_0242ac1c0002level0_row0\" class=\"row_heading level0 row0\" >0</th>\n",
              "                        <td id=\"T_56ce8624_49b3_11eb_a32d_0242ac1c0002row0_col0\" class=\"data row0 col0\" >0.155844</td>\n",
              "                        <td id=\"T_56ce8624_49b3_11eb_a32d_0242ac1c0002row0_col1\" class=\"data row0 col1\" >0.025696</td>\n",
              "                        <td id=\"T_56ce8624_49b3_11eb_a32d_0242ac1c0002row0_col2\" class=\"data row0 col2\" >0.044118</td>\n",
              "                        <td id=\"T_56ce8624_49b3_11eb_a32d_0242ac1c0002row0_col3\" class=\"data row0 col3\" >467</td>\n",
              "            </tr>\n",
              "            <tr>\n",
              "                        <th id=\"T_56ce8624_49b3_11eb_a32d_0242ac1c0002level0_row1\" class=\"row_heading level0 row1\" >1</th>\n",
              "                        <td id=\"T_56ce8624_49b3_11eb_a32d_0242ac1c0002row1_col0\" class=\"data row1 col0\" >0.208791</td>\n",
              "                        <td id=\"T_56ce8624_49b3_11eb_a32d_0242ac1c0002row1_col1\" class=\"data row1 col1\" >0.103261</td>\n",
              "                        <td id=\"T_56ce8624_49b3_11eb_a32d_0242ac1c0002row1_col2\" class=\"data row1 col2\" >0.138182</td>\n",
              "                        <td id=\"T_56ce8624_49b3_11eb_a32d_0242ac1c0002row1_col3\" class=\"data row1 col3\" >552</td>\n",
              "            </tr>\n",
              "            <tr>\n",
              "                        <th id=\"T_56ce8624_49b3_11eb_a32d_0242ac1c0002level0_row2\" class=\"row_heading level0 row2\" >2</th>\n",
              "                        <td id=\"T_56ce8624_49b3_11eb_a32d_0242ac1c0002row2_col0\" class=\"data row2 col0\" >0.288280</td>\n",
              "                        <td id=\"T_56ce8624_49b3_11eb_a32d_0242ac1c0002row2_col1\" class=\"data row2 col1\" >0.717318</td>\n",
              "                        <td id=\"T_56ce8624_49b3_11eb_a32d_0242ac1c0002row2_col2\" class=\"data row2 col2\" >0.411275</td>\n",
              "                        <td id=\"T_56ce8624_49b3_11eb_a32d_0242ac1c0002row2_col3\" class=\"data row2 col3\" >895</td>\n",
              "            </tr>\n",
              "            <tr>\n",
              "                        <th id=\"T_56ce8624_49b3_11eb_a32d_0242ac1c0002level0_row3\" class=\"row_heading level0 row3\" >3</th>\n",
              "                        <td id=\"T_56ce8624_49b3_11eb_a32d_0242ac1c0002row3_col0\" class=\"data row3 col0\" >0.272727</td>\n",
              "                        <td id=\"T_56ce8624_49b3_11eb_a32d_0242ac1c0002row3_col1\" class=\"data row3 col1\" >0.165391</td>\n",
              "                        <td id=\"T_56ce8624_49b3_11eb_a32d_0242ac1c0002row3_col2\" class=\"data row3 col2\" >0.205910</td>\n",
              "                        <td id=\"T_56ce8624_49b3_11eb_a32d_0242ac1c0002row3_col3\" class=\"data row3 col3\" >653</td>\n",
              "            </tr>\n",
              "            <tr>\n",
              "                        <th id=\"T_56ce8624_49b3_11eb_a32d_0242ac1c0002level0_row4\" class=\"row_heading level0 row4\" >4</th>\n",
              "                        <td id=\"T_56ce8624_49b3_11eb_a32d_0242ac1c0002row4_col0\" class=\"data row4 col0\" >0.323276</td>\n",
              "                        <td id=\"T_56ce8624_49b3_11eb_a32d_0242ac1c0002row4_col1\" class=\"data row4 col1\" >0.180723</td>\n",
              "                        <td id=\"T_56ce8624_49b3_11eb_a32d_0242ac1c0002row4_col2\" class=\"data row4 col2\" >0.231839</td>\n",
              "                        <td id=\"T_56ce8624_49b3_11eb_a32d_0242ac1c0002row4_col3\" class=\"data row4 col3\" >415</td>\n",
              "            </tr>\n",
              "            <tr>\n",
              "                        <th id=\"T_56ce8624_49b3_11eb_a32d_0242ac1c0002level0_row5\" class=\"row_heading level0 row5\" >5</th>\n",
              "                        <td id=\"T_56ce8624_49b3_11eb_a32d_0242ac1c0002row5_col0\" class=\"data row5 col0\" >0.236979</td>\n",
              "                        <td id=\"T_56ce8624_49b3_11eb_a32d_0242ac1c0002row5_col1\" class=\"data row5 col1\" >0.149918</td>\n",
              "                        <td id=\"T_56ce8624_49b3_11eb_a32d_0242ac1c0002row5_col2\" class=\"data row5 col2\" >0.183653</td>\n",
              "                        <td id=\"T_56ce8624_49b3_11eb_a32d_0242ac1c0002row5_col3\" class=\"data row5 col3\" >607</td>\n",
              "            </tr>\n",
              "            <tr>\n",
              "                        <th id=\"T_56ce8624_49b3_11eb_a32d_0242ac1c0002level0_row6\" class=\"row_heading level0 row6\" >accuracy</th>\n",
              "                        <td id=\"T_56ce8624_49b3_11eb_a32d_0242ac1c0002row6_col0\" class=\"data row6 col0\" >0.274450</td>\n",
              "                        <td id=\"T_56ce8624_49b3_11eb_a32d_0242ac1c0002row6_col1\" class=\"data row6 col1\" >0.274450</td>\n",
              "                        <td id=\"T_56ce8624_49b3_11eb_a32d_0242ac1c0002row6_col2\" class=\"data row6 col2\" >0.274450</td>\n",
              "                        <td id=\"T_56ce8624_49b3_11eb_a32d_0242ac1c0002row6_col3\" class=\"data row6 col3\" >0</td>\n",
              "            </tr>\n",
              "            <tr>\n",
              "                        <th id=\"T_56ce8624_49b3_11eb_a32d_0242ac1c0002level0_row7\" class=\"row_heading level0 row7\" >macro avg</th>\n",
              "                        <td id=\"T_56ce8624_49b3_11eb_a32d_0242ac1c0002row7_col0\" class=\"data row7 col0\" >0.247650</td>\n",
              "                        <td id=\"T_56ce8624_49b3_11eb_a32d_0242ac1c0002row7_col1\" class=\"data row7 col1\" >0.223718</td>\n",
              "                        <td id=\"T_56ce8624_49b3_11eb_a32d_0242ac1c0002row7_col2\" class=\"data row7 col2\" >0.202496</td>\n",
              "                        <td id=\"T_56ce8624_49b3_11eb_a32d_0242ac1c0002row7_col3\" class=\"data row7 col3\" >3589</td>\n",
              "            </tr>\n",
              "            <tr>\n",
              "                        <th id=\"T_56ce8624_49b3_11eb_a32d_0242ac1c0002level0_row8\" class=\"row_heading level0 row8\" >weighted avg</th>\n",
              "                        <td id=\"T_56ce8624_49b3_11eb_a32d_0242ac1c0002row8_col0\" class=\"data row8 col0\" >0.251362</td>\n",
              "                        <td id=\"T_56ce8624_49b3_11eb_a32d_0242ac1c0002row8_col1\" class=\"data row8 col1\" >0.274450</td>\n",
              "                        <td id=\"T_56ce8624_49b3_11eb_a32d_0242ac1c0002row8_col2\" class=\"data row8 col2\" >0.224887</td>\n",
              "                        <td id=\"T_56ce8624_49b3_11eb_a32d_0242ac1c0002row8_col3\" class=\"data row8 col3\" >3589</td>\n",
              "            </tr>\n",
              "    </tbody></table>"
            ],
            "text/plain": [
              "<pandas.io.formats.style.Styler at 0x7f0f578380f0>"
            ]
          },
          "metadata": {
            "tags": []
          },
          "execution_count": 28
        }
      ]
    },
    {
      "cell_type": "markdown",
      "metadata": {
        "id": "H5Za24jv0yR8"
      },
      "source": [
        "#SIFT visual"
      ]
    },
    {
      "cell_type": "code",
      "metadata": {
        "id": "MIKbDgRT0GGe",
        "colab": {
          "base_uri": "https://localhost:8080/"
        },
        "outputId": "d180445b-932e-45af-ff5d-e8474decc634"
      },
      "source": [
        "X_train.shape"
      ],
      "execution_count": null,
      "outputs": [
        {
          "output_type": "execute_result",
          "data": {
            "text/plain": [
              "(28709, 48, 48)"
            ]
          },
          "metadata": {
            "tags": []
          },
          "execution_count": 26
        }
      ]
    },
    {
      "cell_type": "code",
      "metadata": {
        "id": "tmGK3czO07pD"
      },
      "source": [
        "import numpy as np\r\n",
        "import matplotlib.pyplot as plt\r\n",
        "\r\n",
        "def getSIFT(X):\r\n",
        "    if X.dtype != np.uint8:\r\n",
        "        X = X.astype(np.uint8)\r\n",
        "    \r\n",
        "    sift = cv2.xfeatures2d.SIFT_create()\r\n",
        "    kp, des = sift.detectAndCompute(X, None)\r\n",
        "    return kp,des"
      ],
      "execution_count": null,
      "outputs": []
    },
    {
      "cell_type": "code",
      "metadata": {
        "colab": {
          "base_uri": "https://localhost:8080/",
          "height": 284
        },
        "id": "jTXq8Aw035Hg",
        "outputId": "28137e3f-89dd-4f26-9ecc-ec92da7fe8d9"
      },
      "source": [
        "import cv2\r\n",
        "\r\n",
        "img1 = X_train[5].astype(np.uint8)\r\n",
        "# img1 = np.expand_dims(img,axis=[-1])\r\n",
        "img1.shape\r\n",
        "plt.imshow(img1,cmap='gray')"
      ],
      "execution_count": null,
      "outputs": [
        {
          "output_type": "execute_result",
          "data": {
            "text/plain": [
              "<matplotlib.image.AxesImage at 0x7febc693d748>"
            ]
          },
          "metadata": {
            "tags": []
          },
          "execution_count": 6
        },
        {
          "output_type": "display_data",
          "data": {
            "image/png": "[encoded data removed]",
            "text/plain": [
              "<Figure size 432x288 with 1 Axes>"
            ]
          },
          "metadata": {
            "tags": [],
            "needs_background": "light"
          }
        }
      ]
    },
    {
      "cell_type": "code",
      "metadata": {
        "colab": {
          "base_uri": "https://localhost:8080/",
          "height": 284
        },
        "id": "_daOHFbd3ZP8",
        "outputId": "4ae51624-05e0-4e73-ee77-022e42051609"
      },
      "source": [
        "kp,des = getSIFT(img1)\r\n",
        "print(len(kp))\r\n",
        "img1=cv2.drawKeypoints(img1,kp,img1,flags=cv2.DRAW_MATCHES_FLAGS_DRAW_RICH_KEYPOINTS)\r\n",
        "plt.imshow(img1,cmap='gray')\r\n",
        "plt.show()"
      ],
      "execution_count": null,
      "outputs": [
        {
          "output_type": "stream",
          "text": [
            "25\n"
          ],
          "name": "stdout"
        },
        {
          "output_type": "display_data",
          "data": {
            "image/png": "[encoded data removed]",
            "text/plain": [
              "<Figure size 432x288 with 1 Axes>"
            ]
          },
          "metadata": {
            "tags": [],
            "needs_background": "light"
          }
        }
      ]
    },
    {
      "cell_type": "code",
      "metadata": {
        "id": "oO-FutdY4pxC"
      },
      "source": [
        "des = extract_sift_features(X_train[:2])"
      ],
      "execution_count": null,
      "outputs": []
    },
    {
      "cell_type": "code",
      "metadata": {
        "colab": {
          "base_uri": "https://localhost:8080/"
        },
        "id": "5i1mEN7c48sD",
        "outputId": "6fa41df2-fb2c-4282-e094-c0d4260b95f3"
      },
      "source": [
        "des[0].shape"
      ],
      "execution_count": null,
      "outputs": [
        {
          "output_type": "execute_result",
          "data": {
            "text/plain": [
              "(24, 128)"
            ]
          },
          "metadata": {
            "tags": []
          },
          "execution_count": 59
        }
      ]
    },
    {
      "cell_type": "code",
      "metadata": {
        "colab": {
          "base_uri": "https://localhost:8080/"
        },
        "id": "HS-u4T9Z5F0P",
        "outputId": "3ea926df-ca30-4c37-d3f6-44eef2e0855c"
      },
      "source": [
        "X_train[:2].shape"
      ],
      "execution_count": null,
      "outputs": [
        {
          "output_type": "execute_result",
          "data": {
            "text/plain": [
              "(2, 48, 48)"
            ]
          },
          "metadata": {
            "tags": []
          },
          "execution_count": 62
        }
      ]
    },
    {
      "cell_type": "code",
      "metadata": {
        "colab": {
          "base_uri": "https://localhost:8080/"
        },
        "id": "DMQryG-V5WWU",
        "outputId": "9890c3a2-5dc6-4980-af26-6750d75a7e86"
      },
      "source": [
        "y_label[3]"
      ],
      "execution_count": null,
      "outputs": [
        {
          "output_type": "execute_result",
          "data": {
            "text/plain": [
              "3"
            ]
          },
          "metadata": {
            "tags": []
          },
          "execution_count": 100
        }
      ]
    },
    {
      "cell_type": "code",
      "metadata": {
        "colab": {
          "base_uri": "https://localhost:8080/",
          "height": 35
        },
        "id": "IAVYUCCR8cKy",
        "outputId": "de168c1b-5dee-454d-d895-abf47b5dff20"
      },
      "source": [
        "emotions[3]"
      ],
      "execution_count": null,
      "outputs": [
        {
          "output_type": "execute_result",
          "data": {
            "application/vnd.google.colaboratory.intrinsic+json": {
              "type": "string"
            },
            "text/plain": [
              "'Sad'"
            ]
          },
          "metadata": {
            "tags": []
          },
          "execution_count": 101
        }
      ]
    },
    {
      "cell_type": "code",
      "metadata": {
        "id": "9aXmcSoL8enJ"
      },
      "source": [
        ""
      ],
      "execution_count": null,
      "outputs": []
    }
  ]
}