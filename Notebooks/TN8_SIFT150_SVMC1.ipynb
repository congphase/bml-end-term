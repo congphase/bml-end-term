{
  "nbformat": 4,
  "nbformat_minor": 0,
  "metadata": {
    "colab": {
      "name": "TN8_SIFT150_SVMC1.ipynb",
      "provenance": [],
      "collapsed_sections": [],
      "toc_visible": true
    },
    "kernelspec": {
      "name": "python3",
      "display_name": "Python 3"
    }
  },
  "cells": [
    {
      "cell_type": "code",
      "metadata": {
        "id": "PL21Mz5-OeDg",
        "colab": {
          "base_uri": "https://localhost:8080/"
        },
        "outputId": "c1e4c143-41a4-44d1-d31f-76ba3e7757e7"
      },
      "source": [
        "# Mount \"My Drive\" into /content/drive\r\n",
        "from google.colab import drive\r\n",
        "\r\n",
        "google_drive_dir = \"Final_project\"  # @param\r\n",
        "#bml-notebooks/\r\n",
        "drive.mount('/content/drive')\r\n",
        "\r\n",
        "mount_point = \"/content/drive/My Drive/{}\".format(google_drive_dir)\r\n",
        "\r\n",
        "# Change the root directory to your mount_point\r\n",
        "% cd '$mount_point'"
      ],
      "execution_count": 1,
      "outputs": [
        {
          "output_type": "stream",
          "text": [
            "Drive already mounted at /content/drive; to attempt to forcibly remount, call drive.mount(\"/content/drive\", force_remount=True).\n",
            "/content/drive/.shortcut-targets-by-id/1uHceact8nZzLehIO7J8WmUhJnJWKOf8w/Final_project\n"
          ],
          "name": "stdout"
        }
      ]
    },
    {
      "cell_type": "markdown",
      "metadata": {
        "id": "qUCjqlGGYWG5"
      },
      "source": [
        "# Downgrade opencv"
      ]
    },
    {
      "cell_type": "code",
      "metadata": {
        "id": "q2O722__dAmL"
      },
      "source": [
        "import cv2\r\n",
        "if cv2.__version__[0] == '4':\r\n",
        "    !pip uninstall opencv-python -y\r\n",
        "    #downgrade OpenCV a bit since some none-free features are not avilable\r\n",
        "    !pip install opencv-contrib-python==3.4.2.17 --force-reinstall"
      ],
      "execution_count": 2,
      "outputs": []
    },
    {
      "cell_type": "markdown",
      "metadata": {
        "papermill": {
          "duration": 0.044808,
          "end_time": "2020-12-18T22:02:11.416442",
          "exception": false,
          "start_time": "2020-12-18T22:02:11.371634",
          "status": "completed"
        },
        "tags": [],
        "id": "eI1PdIKtLrpv"
      },
      "source": [
        "# <span style=\"color: royalblue;\">Load Data</span>\n",
        "Load the image data with labels."
      ]
    },
    {
      "cell_type": "code",
      "metadata": {
        "id": "HM1rN5gqd5aG"
      },
      "source": [
        "from src.loadData import loadFer2013\r\n",
        "from keras.utils import to_categorical"
      ],
      "execution_count": 3,
      "outputs": []
    },
    {
      "cell_type": "code",
      "metadata": {
        "id": "ct5pobN6eBgW",
        "colab": {
          "base_uri": "https://localhost:8080/"
        },
        "outputId": "8d4b3e6a-bf04-48ff-c380-9aa4b2df5195"
      },
      "source": [
        "X_train,X_val,X_test,y_train,y_val,y_test = loadFer2013('fer2013/icml_face_data.csv')\r\n",
        "\r\n",
        "y_train_onehot = to_categorical(y_train)\r\n",
        "y_val_onehot = to_categorical(y_val)\r\n",
        "y_test_onehot = to_categorical(y_test)"
      ],
      "execution_count": 4,
      "outputs": [
        {
          "output_type": "stream",
          "text": [
            "/content/drive/.shortcut-targets-by-id/1uHceact8nZzLehIO7J8WmUhJnJWKOf8w/Final_project/src/loadData.py:23: SettingWithCopyWarning: \n",
            "A value is trying to be set on a copy of a slice from a DataFrame\n",
            "\n",
            "See the caveats in the documentation: https://pandas.pydata.org/pandas-docs/stable/user_guide/indexing.html#returning-a-view-versus-a-copy\n",
            "  data['emotion'][data['emotion']>1]-=1\n"
          ],
          "name": "stderr"
        }
      ]
    },
    {
      "cell_type": "code",
      "metadata": {
        "id": "1qZ7W3Pfh6-j",
        "colab": {
          "base_uri": "https://localhost:8080/"
        },
        "outputId": "30eb8718-7738-40b6-de87-1c6e7eb6c336"
      },
      "source": [
        "y_train_onehot.shape, y_val_onehot.shape, y_test_onehot.shape"
      ],
      "execution_count": 5,
      "outputs": [
        {
          "output_type": "execute_result",
          "data": {
            "text/plain": [
              "((28709, 6), (3589, 6), (3589, 6))"
            ]
          },
          "metadata": {
            "tags": []
          },
          "execution_count": 5
        }
      ]
    },
    {
      "cell_type": "code",
      "metadata": {
        "id": "jncS-WGXfb2j",
        "colab": {
          "base_uri": "https://localhost:8080/"
        },
        "outputId": "60c88043-b5c7-42e3-de10-5840e8adb384"
      },
      "source": [
        "X_train.shape, y_train.shape"
      ],
      "execution_count": 6,
      "outputs": [
        {
          "output_type": "execute_result",
          "data": {
            "text/plain": [
              "((28709, 48, 48), (28709,))"
            ]
          },
          "metadata": {
            "tags": []
          },
          "execution_count": 6
        }
      ]
    },
    {
      "cell_type": "code",
      "metadata": {
        "id": "Nt9oKq3mo60M"
      },
      "source": [
        "emotions = {0: 'Angry', 1:'Fear', 2: 'Happy', 3: 'Sad', 4: 'Surprise', 5: 'Neutral'}"
      ],
      "execution_count": 7,
      "outputs": []
    },
    {
      "cell_type": "code",
      "metadata": {
        "id": "sIHHtenVug_E",
        "colab": {
          "base_uri": "https://localhost:8080/"
        },
        "outputId": "1d92014d-f273-4c2e-ca9e-3c76007ae497"
      },
      "source": [
        "class_names = list(emotions.values())\r\n",
        "class_names"
      ],
      "execution_count": 8,
      "outputs": [
        {
          "output_type": "execute_result",
          "data": {
            "text/plain": [
              "['Angry', 'Fear', 'Happy', 'Sad', 'Surprise', 'Neutral']"
            ]
          },
          "metadata": {
            "tags": []
          },
          "execution_count": 8
        }
      ]
    },
    {
      "cell_type": "markdown",
      "metadata": {
        "id": "2NbdB64SdEET"
      },
      "source": [
        "# Extract features"
      ]
    },
    {
      "cell_type": "code",
      "metadata": {
        "id": "uFKdTq_hQTYH"
      },
      "source": [
        "from src.extractFeatures import *"
      ],
      "execution_count": 9,
      "outputs": []
    },
    {
      "cell_type": "code",
      "metadata": {
        "id": "b4X5PB-xjInU",
        "colab": {
          "base_uri": "https://localhost:8080/"
        },
        "outputId": "f88f6dbd-8cfa-4979-e205-f52172ebb8df"
      },
      "source": [
        "\r\n",
        "X_descriptors_train = extract_sift_features(X_train)\r\n",
        "X_descriptors_val = extract_sift_features(X_val)\r\n",
        "for i in range(10):\r\n",
        "    print('Image {} has {} descriptors'.format(i, len(X_descriptors_train[i])))"
      ],
      "execution_count": 10,
      "outputs": [
        {
          "output_type": "stream",
          "text": [
            "Image 0 has 24 descriptors\n",
            "Image 1 has 36 descriptors\n",
            "Image 2 has 25 descriptors\n",
            "Image 3 has 26 descriptors\n",
            "Image 4 has 27 descriptors\n",
            "Image 5 has 25 descriptors\n",
            "Image 6 has 23 descriptors\n",
            "Image 7 has 20 descriptors\n",
            "Image 8 has 25 descriptors\n",
            "Image 9 has 26 descriptors\n"
          ],
          "name": "stdout"
        }
      ]
    },
    {
      "cell_type": "code",
      "metadata": {
        "id": "jR680Cddr2VZ",
        "colab": {
          "base_uri": "https://localhost:8080/"
        },
        "outputId": "db844856-2efd-4a4b-8e6b-89ef3acf0604"
      },
      "source": [
        "import time\r\n",
        "num_clusters = 150\r\n",
        "X_descriptors = X_descriptors_train+X_descriptors_val\r\n",
        "print(len(X_descriptors))\r\n",
        "st = time.time()\r\n",
        "bow_dict = create_BoWSIFTfeature(X_descriptors,num_clusters)\r\n",
        "en = time.time()\r\n",
        "print(\"time\",en-st)\r\n",
        "X_features = create_features_bow(X_descriptors, bow_dict, num_clusters)"
      ],
      "execution_count": 11,
      "outputs": [
        {
          "output_type": "stream",
          "text": [
            "32298\n",
            "Done load available result\n",
            "time 0.14459824562072754\n"
          ],
          "name": "stdout"
        }
      ]
    },
    {
      "cell_type": "code",
      "metadata": {
        "id": "rdo5sQTyuZSJ",
        "colab": {
          "base_uri": "https://localhost:8080/"
        },
        "outputId": "754d0e0d-ff53-4304-d3ef-4eada366c533"
      },
      "source": [
        "\r\n",
        "len(X_features)"
      ],
      "execution_count": 12,
      "outputs": [
        {
          "output_type": "execute_result",
          "data": {
            "text/plain": [
              "32298"
            ]
          },
          "metadata": {
            "tags": []
          },
          "execution_count": 12
        }
      ]
    },
    {
      "cell_type": "markdown",
      "metadata": {
        "id": "SJNQMRqApWJb"
      },
      "source": [
        "# SVM Classification"
      ]
    },
    {
      "cell_type": "code",
      "metadata": {
        "id": "sP2IkhaMpY9k",
        "colab": {
          "base_uri": "https://localhost:8080/"
        },
        "outputId": "6f6e33c0-c215-4ad1-f608-fc4078694777"
      },
      "source": [
        "from sklearn.svm import SVC\r\n",
        "\r\n",
        "y_label = np.hstack((y_train,y_val))\r\n",
        "y_label.shape"
      ],
      "execution_count": 13,
      "outputs": [
        {
          "output_type": "execute_result",
          "data": {
            "text/plain": [
              "(32298,)"
            ]
          },
          "metadata": {
            "tags": []
          },
          "execution_count": 13
        }
      ]
    },
    {
      "cell_type": "code",
      "metadata": {
        "id": "m-Fxblw45Ly9",
        "colab": {
          "base_uri": "https://localhost:8080/"
        },
        "outputId": "e98794dd-5105-49da-c63c-9d67d339356b"
      },
      "source": [
        "import time\r\n",
        "svm = SVC(C=1,verbose=1)\r\n",
        "st = time.time()\r\n",
        "svm.fit(X_features, y_label)\r\n",
        "print(time.time()-st)\r\n"
      ],
      "execution_count": 14,
      "outputs": [
        {
          "output_type": "stream",
          "text": [
            "[LibSVM]669.734087228775\n"
          ],
          "name": "stdout"
        }
      ]
    },
    {
      "cell_type": "code",
      "metadata": {
        "colab": {
          "base_uri": "https://localhost:8080/"
        },
        "id": "LuKTx-EDiicf",
        "outputId": "8bb074c6-b92f-43ee-fae3-a49e70baec35"
      },
      "source": [
        "svm.score(X_features, y_label)"
      ],
      "execution_count": 15,
      "outputs": [
        {
          "output_type": "execute_result",
          "data": {
            "text/plain": [
              "0.682271348071088"
            ]
          },
          "metadata": {
            "tags": []
          },
          "execution_count": 15
        }
      ]
    },
    {
      "cell_type": "code",
      "metadata": {
        "id": "w1dNOJ1H47cI"
      },
      "source": [
        "import pickle\r\n",
        "pickle.dump(svm, open('saved_model/sift150_svmc1.pkl', 'wb'))"
      ],
      "execution_count": 21,
      "outputs": []
    },
    {
      "cell_type": "code",
      "metadata": {
        "id": "s6tYYNBKgdgl"
      },
      "source": [
        "svm = pickle.load(open('saved_model/sift150_svmc1.pkl', 'rb'))"
      ],
      "execution_count": 24,
      "outputs": []
    },
    {
      "cell_type": "markdown",
      "metadata": {
        "id": "S78mfEowgWu8"
      },
      "source": [
        "#Evaluation"
      ]
    },
    {
      "cell_type": "code",
      "metadata": {
        "id": "7yYiGsmt6AIK",
        "colab": {
          "base_uri": "https://localhost:8080/"
        },
        "outputId": "415ca53a-b470-4ded-ffab-8d7d9f9b0500"
      },
      "source": [
        "import pickle\r\n",
        "\r\n",
        "num_clusters = 150\r\n",
        "bow_dict = pickle.load(open('BoW_data/bow_dict_{}.pkl'.format(num_clusters), 'rb'))\r\n",
        "\r\n",
        "X_descriptors_test = extract_sift_features(X_test)\r\n",
        "X_features_test = create_features_bow(X_descriptors_test, bow_dict,num_clusters )\r\n",
        "y_pred = svm.predict(X_features_test)\r\n",
        "\r\n",
        "print(svm.score(X_features_test,y_test))"
      ],
      "execution_count": 25,
      "outputs": [
        {
          "output_type": "stream",
          "text": [
            "0.3443856227361382\n"
          ],
          "name": "stdout"
        }
      ]
    },
    {
      "cell_type": "code",
      "metadata": {
        "id": "M8Xhp3G8BjEV"
      },
      "source": [
        ""
      ],
      "execution_count": null,
      "outputs": []
    }
  ]
}